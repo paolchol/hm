{
 "cells": [
  {
   "cell_type": "markdown",
   "metadata": {},
   "source": [
    "# Semi-automatization of DRN and SFR sensitivity analysis/calibration\n",
    "\n",
    "**Worflow**\\\n",
    "DRN\n",
    "1. Load .drn file - *completed*\n",
    "2. Change the conductance of the cells - *completed*\n",
    "3. Write the .drn file - *completed*\n",
    "4. Run the model - *in progress*\n",
    "5. Read .cbb file\n",
    "6. Store the outflow data of the first X cells\n",
    "7. Put the process in a loop over a range of parameters\n",
    "\n",
    "SFR\n",
    "1. Load .sfr file - *in progress*\n",
    "2. Change the hydraulic conductivity of the cells\n",
    "3. Write the .sfr file\n",
    "4. Run the model\n",
    "5. Read streamflow.dat file\n",
    "6. Store the flux data of cell at reach X\n",
    "7. Put the process in a loop over a range of parameters"
   ]
  },
  {
   "cell_type": "markdown",
   "metadata": {},
   "source": [
    "## Setup"
   ]
  },
  {
   "cell_type": "code",
   "execution_count": 1,
   "metadata": {},
   "outputs": [],
   "source": [
    "import flopy\n",
    "import flopy.utils.binaryfile as bf\n",
    "import glob\n",
    "import numpy as np\n",
    "import os\n",
    "import pandas as pd\n",
    "\n",
    "#check if the below lines are still useful at the end\n",
    "import sys\n",
    "from pprint import pformat\n",
    "from tempfile import TemporaryDirectory"
   ]
  },
  {
   "cell_type": "code",
   "execution_count": 2,
   "metadata": {},
   "outputs": [],
   "source": [
    "# cwd = \"C:/Users/user/OneDrive - Politecnico di Milano/hydrogeo-modelling/TEAM_Idrogeo/Tesi/Tesi_Ceola_Pirovano/Tesi_Pirovano/busca_drain_start\"\n",
    "cwd = os.getcwd()"
   ]
  },
  {
   "cell_type": "code",
   "execution_count": 3,
   "metadata": {},
   "outputs": [],
   "source": [
    "def import_input_file(path):\n",
    "    f = open(path).readlines()\n",
    "    df = pd.DataFrame()\n",
    "    for row in f[4:]:\n",
    "        r = list(filter(None, row.split(' ')))\n",
    "        df = pd.concat([df, pd.DataFrame(r).transpose()])\n",
    "    df.columns = ['layer', 'row', 'column', 'stage', 'conductance', 'node']\n",
    "    df.node = df.node.str.removesuffix('\\n')\n",
    "    df.layer = df.layer.astype('int')\n",
    "    df.row = df.row.astype('int')\n",
    "    df.column = df.column.astype('int')\n",
    "    df.stage = df.stage.astype('float')\n",
    "    df.conductance = df.conductance.astype('float')\n",
    "    df.reset_index(inplace=True, drop = True)\n",
    "    return df"
   ]
  },
  {
   "cell_type": "markdown",
   "metadata": {},
   "source": [
    "## DRAIN"
   ]
  },
  {
   "cell_type": "markdown",
   "metadata": {},
   "source": [
    "### Load .drn file"
   ]
  },
  {
   "cell_type": "code",
   "execution_count": 4,
   "metadata": {},
   "outputs": [
    {
     "data": {
      "text/html": [
       "<div>\n",
       "<style scoped>\n",
       "    .dataframe tbody tr th:only-of-type {\n",
       "        vertical-align: middle;\n",
       "    }\n",
       "\n",
       "    .dataframe tbody tr th {\n",
       "        vertical-align: top;\n",
       "    }\n",
       "\n",
       "    .dataframe thead th {\n",
       "        text-align: right;\n",
       "    }\n",
       "</style>\n",
       "<table border=\"1\" class=\"dataframe\">\n",
       "  <thead>\n",
       "    <tr style=\"text-align: right;\">\n",
       "      <th></th>\n",
       "      <th>layer</th>\n",
       "      <th>row</th>\n",
       "      <th>column</th>\n",
       "      <th>stage</th>\n",
       "      <th>conductance</th>\n",
       "      <th>node</th>\n",
       "    </tr>\n",
       "  </thead>\n",
       "  <tbody>\n",
       "    <tr>\n",
       "      <th>0</th>\n",
       "      <td>1</td>\n",
       "      <td>46</td>\n",
       "      <td>51</td>\n",
       "      <td>124.838</td>\n",
       "      <td>0.012</td>\n",
       "      <td>0</td>\n",
       "    </tr>\n",
       "    <tr>\n",
       "      <th>1</th>\n",
       "      <td>1</td>\n",
       "      <td>47</td>\n",
       "      <td>51</td>\n",
       "      <td>124.835</td>\n",
       "      <td>0.018</td>\n",
       "      <td>0</td>\n",
       "    </tr>\n",
       "    <tr>\n",
       "      <th>2</th>\n",
       "      <td>1</td>\n",
       "      <td>48</td>\n",
       "      <td>51</td>\n",
       "      <td>124.832</td>\n",
       "      <td>0.006</td>\n",
       "      <td>0</td>\n",
       "    </tr>\n",
       "    <tr>\n",
       "      <th>3</th>\n",
       "      <td>1</td>\n",
       "      <td>48</td>\n",
       "      <td>52</td>\n",
       "      <td>124.830</td>\n",
       "      <td>0.024</td>\n",
       "      <td>0</td>\n",
       "    </tr>\n",
       "    <tr>\n",
       "      <th>4</th>\n",
       "      <td>1</td>\n",
       "      <td>49</td>\n",
       "      <td>52</td>\n",
       "      <td>124.824</td>\n",
       "      <td>0.018</td>\n",
       "      <td>0</td>\n",
       "    </tr>\n",
       "  </tbody>\n",
       "</table>\n",
       "</div>"
      ],
      "text/plain": [
       "   layer  row  column    stage  conductance node\n",
       "0      1   46      51  124.838        0.012    0\n",
       "1      1   47      51  124.835        0.018    0\n",
       "2      1   48      51  124.832        0.006    0\n",
       "3      1   48      52  124.830        0.024    0\n",
       "4      1   49      52  124.824        0.018    0"
      ]
     },
     "execution_count": 4,
     "metadata": {},
     "output_type": "execute_result"
    }
   ],
   "source": [
    "# Load .drn file\n",
    "drn = import_input_file(os.path.join(cwd, 'test_files', 'busca_drain.drn'))\n",
    "drn.head()"
   ]
  },
  {
   "cell_type": "code",
   "execution_count": 5,
   "metadata": {},
   "outputs": [],
   "source": [
    "# Load DRAIN cells characteristics\n",
    "drn_sp = pd.read_csv(os.path.join(cwd, 'test_files', 'busca_drain_specifiche_celle.csv'))"
   ]
  },
  {
   "cell_type": "code",
   "execution_count": 14,
   "metadata": {},
   "outputs": [],
   "source": [
    "# Compute the conductance of each cell for a given hydraulic conductivity\n",
    "# Change the conductance column\n",
    "k = 0.00001444444444444 #hydraulic conductivity\n",
    "conductance_change = (k*drn_sp.Width*drn_sp.Length)/drn_sp.Thickness\n",
    "drn.conductance = conductance_change\n",
    "# drn"
   ]
  },
  {
   "cell_type": "markdown",
   "metadata": {},
   "source": [
    "### Write .drn file using flopy\n",
    "\n",
    "**bug found:** the layer gets put equal to 2 instead of 1\n",
    "- the problem is not in the stress_period_data table passed to drn\n",
    "- check stress_period_data.write_transient method\n",
    "- couldn't figure it out, so found a way out: set drn.layer = 0\n",
    "- drn_input_file_test_v4.drn works"
   ]
  },
  {
   "cell_type": "code",
   "execution_count": 8,
   "metadata": {},
   "outputs": [],
   "source": [
    "modelpth = os.path.join(cwd, 'test_files')\n",
    "\n",
    "# create the model class (only useful because it's needed by ModflowDrn class)\n",
    "# this can be replaced by loading the actual model .nam file (not needed though)\n",
    "mf = flopy.modflow.Modflow(\n",
    "     \"drn_test\",\n",
    "    model_ws = modelpth,\n",
    "    exe_name = \"mf2005\",\n",
    ")"
   ]
  },
  {
   "cell_type": "code",
   "execution_count": 9,
   "metadata": {},
   "outputs": [],
   "source": [
    "# transform the drn structure in the flopy required format for \"stress_period_data\"\n",
    "drn.layer = 0\n",
    "stress_period_data = {0: drn.iloc[:, :-1].to_numpy().tolist()} #remove node column, not needed nor supported by flopy's ModflowDrn class"
   ]
  },
  {
   "cell_type": "code",
   "execution_count": 10,
   "metadata": {},
   "outputs": [],
   "source": [
    "#generate the drn package inside the flopy class\n",
    "ipakcb = 50 #code for cell-by-cell flow data storage\n",
    "drain = flopy.modflow.ModflowDrn(mf, ipakcb=ipakcb, stress_period_data=stress_period_data,\n",
    "                                 filenames=os.path.join(cwd, 'test_files', 'drn_input_file_test_v5.drn'))\n",
    "drain.write_file(check = False)"
   ]
  },
  {
   "cell_type": "markdown",
   "metadata": {},
   "source": [
    "### Test: Run the model"
   ]
  },
  {
   "cell_type": "code",
   "execution_count": 12,
   "metadata": {},
   "outputs": [],
   "source": [
    "# trial: run from flopy\n",
    "\n",
    "# load the existing model busca_drain\n",
    "# https://flopy.readthedocs.io/en/3.3.2/source/flopy.modflow.mf.html\n",
    "\n",
    "cwd_model = \"d:/Claudia/MAURICE/test_models/\"\n",
    "\n",
    "mf = flopy.modflow.Modflow.load(\n",
    "        os.path.join(cwd_model, 'drain_model_test', 'busca_drain.nam'),\n",
    "        model_ws = os.path.join(cwd, 'test_files', 'model_test'),\n",
    "        exe_name='MF2005',\n",
    "        version = 'mf2005',\n",
    "        verbose = False\n",
    "        )"
   ]
  },
  {
   "cell_type": "code",
   "execution_count": null,
   "metadata": {},
   "outputs": [],
   "source": [
    "# drn stress period data can be accessed by:\n",
    "mf.drn.stress_period_data.data"
   ]
  },
  {
   "cell_type": "code",
   "execution_count": null,
   "metadata": {},
   "outputs": [],
   "source": [
    "# this works\n",
    "success, buff = flopy.mbase.run_model(\n",
    "                exe_name = os.path.join(cwd_model, 'drain_model_test','MF2005.exe'),\n",
    "                namefile = 'busca_drain.nam',\n",
    "                model_ws = os.path.join(cwd_model, 'drain_model_test')\n",
    "                )\n",
    "if not success:\n",
    "    raise Exception(\"MODFLOW did not terminate normally.\")"
   ]
  },
  {
   "cell_type": "markdown",
   "metadata": {},
   "source": [
    "### Read .cbb output file\n",
    "\n",
    "class CellBudgetFile\\\n",
    "https://flopy.readthedocs.io/en/latest/source/flopy.utils.binaryfile.html\n",
    "\n",
    "The outflow will have to be considered until cell:\n",
    "- row 92, column 76 (last cell of first segment)\n",
    "Check if any substantial change in outflow happen if considering:\n",
    "- row 93, column 76 (first cell of second segment)"
   ]
  },
  {
   "cell_type": "code",
   "execution_count": null,
   "metadata": {},
   "outputs": [],
   "source": [
    "#get drain values from cbb output\n",
    "cbb = bf.CellBudgetFile(os.path.join(cwd_model, 'drain_model_test', 'busca_drain.cbb'))\n",
    "drain = cbb.get_data(text = 'DRAINS')\n",
    "\n",
    "# get all the cells until 92, 76 & sum the flux extracted from drain[0]\n",
    "row_limit = 92\n",
    "column_limit = 76\n",
    "sum_drain = np.sum(drain[0][0, :row_limit+1, :column_limit+1])\n",
    "sum_drain"
   ]
  },
  {
   "cell_type": "markdown",
   "metadata": {},
   "source": [
    "### LOOP"
   ]
  },
  {
   "cell_type": "code",
   "execution_count": null,
   "metadata": {},
   "outputs": [
    {
     "name": "stderr",
     "output_type": "stream",
     "text": [
      "c:\\Users\\user\\anaconda3\\envs\\model\\Lib\\site-packages\\flopy\\mbase.py:637: UserWarning: Two packages of the same type, Replacing existing 'DRN' package.\n",
      "  warn(\n"
     ]
    },
    {
     "name": "stdout",
     "output_type": "stream",
     "text": [
      "FloPy is using the following executable to run the model: C:\\GWV8\\MF2005.exe\n",
      "\n",
      "                                  MODFLOW-2005     \n",
      "    U.S. GEOLOGICAL SURVEY MODULAR FINITE-DIFFERENCE GROUND-WATER FLOW MODEL\n",
      "                             Version 1.11.00 8/8/2013                        \n",
      "\n",
      " Using NAME file: busca_drain.nam \n",
      " Run start date and time (yyyy/mm/dd hh:mm:ss): 2024/10/30  9:43:18\n",
      "\n",
      " Solving:  Stress period:     1    Time step:     1    Ground-Water Flow Eqn.\n",
      " Run end date and time (yyyy/mm/dd hh:mm:ss): 2024/10/30  9:43:18\n",
      " Elapsed run time:  0.165 Seconds\n",
      "\n",
      "  Normal termination of simulation\n",
      "FloPy is using the following executable to run the model: C:\\GWV8\\MF2005.exe\n",
      "\n",
      "                                  MODFLOW-2005     \n",
      "    U.S. GEOLOGICAL SURVEY MODULAR FINITE-DIFFERENCE GROUND-WATER FLOW MODEL\n",
      "                             Version 1.11.00 8/8/2013                        \n",
      "\n",
      " Using NAME file: busca_drain.nam \n",
      " Run start date and time (yyyy/mm/dd hh:mm:ss): 2024/10/30  9:43:18\n",
      "\n",
      " Solving:  Stress period:     1    Time step:     1    Ground-Water Flow Eqn.\n",
      " Run end date and time (yyyy/mm/dd hh:mm:ss): 2024/10/30  9:43:18\n",
      " Elapsed run time:  0.156 Seconds\n",
      "\n",
      "  Normal termination of simulation\n",
      "FloPy is using the following executable to run the model: C:\\GWV8\\MF2005.exe\n"
     ]
    },
    {
     "name": "stderr",
     "output_type": "stream",
     "text": [
      "c:\\Users\\user\\anaconda3\\envs\\model\\Lib\\site-packages\\flopy\\mbase.py:628: UserWarning: Unit 21 of package DRN already in use.\n",
      "  warn(\n",
      "c:\\Users\\user\\anaconda3\\envs\\model\\Lib\\site-packages\\flopy\\mbase.py:637: UserWarning: Two packages of the same type, Replacing existing 'DRN' package.\n",
      "  warn(\n",
      "c:\\Users\\user\\anaconda3\\envs\\model\\Lib\\site-packages\\flopy\\mbase.py:628: UserWarning: Unit 21 of package DRN already in use.\n",
      "  warn(\n",
      "c:\\Users\\user\\anaconda3\\envs\\model\\Lib\\site-packages\\flopy\\mbase.py:637: UserWarning: Two packages of the same type, Replacing existing 'DRN' package.\n",
      "  warn(\n"
     ]
    },
    {
     "name": "stdout",
     "output_type": "stream",
     "text": [
      "\n",
      "                                  MODFLOW-2005     \n",
      "    U.S. GEOLOGICAL SURVEY MODULAR FINITE-DIFFERENCE GROUND-WATER FLOW MODEL\n",
      "                             Version 1.11.00 8/8/2013                        \n",
      "\n",
      " Using NAME file: busca_drain.nam \n",
      " Run start date and time (yyyy/mm/dd hh:mm:ss): 2024/10/30  9:43:18\n",
      "\n",
      " Solving:  Stress period:     1    Time step:     1    Ground-Water Flow Eqn.\n",
      " Run end date and time (yyyy/mm/dd hh:mm:ss): 2024/10/30  9:43:19\n",
      " Elapsed run time:  0.162 Seconds\n",
      "\n",
      "  Normal termination of simulation\n",
      "FloPy is using the following executable to run the model: C:\\GWV8\\MF2005.exe\n",
      "\n",
      "                                  MODFLOW-2005     \n",
      "    U.S. GEOLOGICAL SURVEY MODULAR FINITE-DIFFERENCE GROUND-WATER FLOW MODEL\n",
      "                             Version 1.11.00 8/8/2013                        \n",
      "\n",
      " Using NAME file: busca_drain.nam \n",
      " Run start date and time (yyyy/mm/dd hh:mm:ss): 2024/10/30  9:43:19\n",
      "\n"
     ]
    },
    {
     "name": "stderr",
     "output_type": "stream",
     "text": [
      "c:\\Users\\user\\anaconda3\\envs\\model\\Lib\\site-packages\\flopy\\mbase.py:628: UserWarning: Unit 21 of package DRN already in use.\n",
      "  warn(\n",
      "c:\\Users\\user\\anaconda3\\envs\\model\\Lib\\site-packages\\flopy\\mbase.py:637: UserWarning: Two packages of the same type, Replacing existing 'DRN' package.\n",
      "  warn(\n",
      "c:\\Users\\user\\anaconda3\\envs\\model\\Lib\\site-packages\\flopy\\mbase.py:628: UserWarning: Unit 21 of package DRN already in use.\n",
      "  warn(\n",
      "c:\\Users\\user\\anaconda3\\envs\\model\\Lib\\site-packages\\flopy\\mbase.py:637: UserWarning: Two packages of the same type, Replacing existing 'DRN' package.\n",
      "  warn(\n"
     ]
    },
    {
     "name": "stdout",
     "output_type": "stream",
     "text": [
      " Solving:  Stress period:     1    Time step:     1    Ground-Water Flow Eqn.\n",
      " Run end date and time (yyyy/mm/dd hh:mm:ss): 2024/10/30  9:43:19\n",
      " Elapsed run time:  0.169 Seconds\n",
      "\n",
      "  Normal termination of simulation\n",
      "FloPy is using the following executable to run the model: C:\\GWV8\\MF2005.exe\n",
      "\n",
      "                                  MODFLOW-2005     \n",
      "    U.S. GEOLOGICAL SURVEY MODULAR FINITE-DIFFERENCE GROUND-WATER FLOW MODEL\n",
      "                             Version 1.11.00 8/8/2013                        \n",
      "\n",
      " Using NAME file: busca_drain.nam \n",
      " Run start date and time (yyyy/mm/dd hh:mm:ss): 2024/10/30  9:43:19\n",
      "\n",
      " Solving:  Stress period:     1    Time step:     1    Ground-Water Flow Eqn.\n",
      " Run end date and time (yyyy/mm/dd hh:mm:ss): 2024/10/30  9:43:19\n",
      " Elapsed run time:  0.166 Seconds\n",
      "\n",
      "  Normal termination of simulation\n",
      "FloPy is using the following executable to run the model: C:\\GWV8\\MF2005.exe\n",
      "\n",
      "                                  MODFLOW-2005     \n",
      "    U.S. GEOLOGICAL SURVEY MODULAR FINITE-DIFFERENCE GROUND-WATER FLOW MODEL\n",
      "                             Version 1.11.00 8/8/2013                        \n",
      "\n",
      " Using NAME file: busca_drain.nam \n",
      " Run start date and time (yyyy/mm/dd hh:mm:ss): 2024/10/30  9:43:19\n",
      "\n",
      " Solving:  Stress period:     1    Time step:     1    Ground-Water Flow Eqn.\n",
      " Run end date and time (yyyy/mm/dd hh:mm:ss): 2024/10/30  9:43:19\n",
      " Elapsed run time:  0.177 Seconds\n",
      "\n",
      "  Normal termination of simulation\n"
     ]
    },
    {
     "name": "stderr",
     "output_type": "stream",
     "text": [
      "c:\\Users\\user\\anaconda3\\envs\\model\\Lib\\site-packages\\flopy\\mbase.py:628: UserWarning: Unit 21 of package DRN already in use.\n",
      "  warn(\n",
      "c:\\Users\\user\\anaconda3\\envs\\model\\Lib\\site-packages\\flopy\\mbase.py:637: UserWarning: Two packages of the same type, Replacing existing 'DRN' package.\n",
      "  warn(\n",
      "c:\\Users\\user\\anaconda3\\envs\\model\\Lib\\site-packages\\flopy\\mbase.py:628: UserWarning: Unit 21 of package DRN already in use.\n",
      "  warn(\n",
      "c:\\Users\\user\\anaconda3\\envs\\model\\Lib\\site-packages\\flopy\\mbase.py:637: UserWarning: Two packages of the same type, Replacing existing 'DRN' package.\n",
      "  warn(\n"
     ]
    },
    {
     "name": "stdout",
     "output_type": "stream",
     "text": [
      "FloPy is using the following executable to run the model: C:\\GWV8\\MF2005.exe\n",
      "\n",
      "                                  MODFLOW-2005     \n",
      "    U.S. GEOLOGICAL SURVEY MODULAR FINITE-DIFFERENCE GROUND-WATER FLOW MODEL\n",
      "                             Version 1.11.00 8/8/2013                        \n",
      "\n",
      " Using NAME file: busca_drain.nam \n",
      " Run start date and time (yyyy/mm/dd hh:mm:ss): 2024/10/30  9:43:19\n",
      "\n",
      " Solving:  Stress period:     1    Time step:     1    Ground-Water Flow Eqn.\n",
      " Run end date and time (yyyy/mm/dd hh:mm:ss): 2024/10/30  9:43:19\n",
      " Elapsed run time:  0.170 Seconds\n",
      "\n",
      "  Normal termination of simulation\n",
      "FloPy is using the following executable to run the model: C:\\GWV8\\MF2005.exe\n"
     ]
    },
    {
     "name": "stderr",
     "output_type": "stream",
     "text": [
      "c:\\Users\\user\\anaconda3\\envs\\model\\Lib\\site-packages\\flopy\\mbase.py:628: UserWarning: Unit 21 of package DRN already in use.\n",
      "  warn(\n",
      "c:\\Users\\user\\anaconda3\\envs\\model\\Lib\\site-packages\\flopy\\mbase.py:637: UserWarning: Two packages of the same type, Replacing existing 'DRN' package.\n",
      "  warn(\n",
      "c:\\Users\\user\\anaconda3\\envs\\model\\Lib\\site-packages\\flopy\\mbase.py:628: UserWarning: Unit 21 of package DRN already in use.\n",
      "  warn(\n",
      "c:\\Users\\user\\anaconda3\\envs\\model\\Lib\\site-packages\\flopy\\mbase.py:637: UserWarning: Two packages of the same type, Replacing existing 'DRN' package.\n",
      "  warn(\n"
     ]
    },
    {
     "name": "stdout",
     "output_type": "stream",
     "text": [
      "\n",
      "                                  MODFLOW-2005     \n",
      "    U.S. GEOLOGICAL SURVEY MODULAR FINITE-DIFFERENCE GROUND-WATER FLOW MODEL\n",
      "                             Version 1.11.00 8/8/2013                        \n",
      "\n",
      " Using NAME file: busca_drain.nam \n",
      " Run start date and time (yyyy/mm/dd hh:mm:ss): 2024/10/30  9:43:19\n",
      "\n",
      " Solving:  Stress period:     1    Time step:     1    Ground-Water Flow Eqn.\n",
      " Run end date and time (yyyy/mm/dd hh:mm:ss): 2024/10/30  9:43:20\n",
      " Elapsed run time:  0.178 Seconds\n",
      "\n",
      "  Normal termination of simulation\n",
      "FloPy is using the following executable to run the model: C:\\GWV8\\MF2005.exe\n",
      "\n",
      "                                  MODFLOW-2005     \n",
      "    U.S. GEOLOGICAL SURVEY MODULAR FINITE-DIFFERENCE GROUND-WATER FLOW MODEL\n",
      "                             Version 1.11.00 8/8/2013                        \n",
      "\n",
      " Using NAME file: busca_drain.nam \n",
      " Run start date and time (yyyy/mm/dd hh:mm:ss): 2024/10/30  9:43:20\n",
      "\n",
      " Solving:  Stress period:     1    Time step:     1    Ground-Water Flow Eqn.\n",
      " Run end date and time (yyyy/mm/dd hh:mm:ss): 2024/10/30  9:43:20\n",
      " Elapsed run time:  0.171 Seconds\n",
      "\n",
      "  Normal termination of simulation\n",
      "FloPy is using the following executable to run the model: C:\\GWV8\\MF2005.exe\n",
      "\n",
      "                                  MODFLOW-2005     \n",
      "    U.S. GEOLOGICAL SURVEY MODULAR FINITE-DIFFERENCE GROUND-WATER FLOW MODEL\n",
      "                             Version 1.11.00 8/8/2013                        \n",
      "\n",
      " Using NAME file: busca_drain.nam \n",
      " Run start date and time (yyyy/mm/dd hh:mm:ss): 2024/10/30  9:43:20\n",
      "\n",
      " Solving:  Stress period:     1    Time step:     1    Ground-Water Flow Eqn.\n"
     ]
    },
    {
     "name": "stderr",
     "output_type": "stream",
     "text": [
      "c:\\Users\\user\\anaconda3\\envs\\model\\Lib\\site-packages\\flopy\\mbase.py:628: UserWarning: Unit 21 of package DRN already in use.\n",
      "  warn(\n",
      "c:\\Users\\user\\anaconda3\\envs\\model\\Lib\\site-packages\\flopy\\mbase.py:637: UserWarning: Two packages of the same type, Replacing existing 'DRN' package.\n",
      "  warn(\n"
     ]
    },
    {
     "name": "stdout",
     "output_type": "stream",
     "text": [
      " Run end date and time (yyyy/mm/dd hh:mm:ss): 2024/10/30  9:43:20\n",
      " Elapsed run time:  0.149 Seconds\n",
      "\n",
      "  Normal termination of simulation\n"
     ]
    }
   ],
   "source": [
    "#Setup\n",
    "#Import all necessary packages\n",
    "import flopy\n",
    "import flopy.utils.binaryfile as bf\n",
    "import glob\n",
    "import numpy as np\n",
    "import os\n",
    "import pandas as pd\n",
    "import sys\n",
    "from pprint import pformat\n",
    "from tempfile import TemporaryDirectory\n",
    "\n",
    "#Define working directory \n",
    "cwd = os.getcwd()   #where test files are stored (github)\n",
    "cwd_model = \"d:/Claudia/MAURICE/test_models/\"  #where model files are stored (local)\n",
    "\n",
    "# Function to load .drn file directly\n",
    "def import_input_file(path):\n",
    "    f = open(path).readlines()\n",
    "    df = pd.DataFrame()\n",
    "    for row in f[4:]:\n",
    "        r = list(filter(None, row.split(' ')))\n",
    "        df = pd.concat([df, pd.DataFrame(r).transpose()])\n",
    "    df.columns = ['layer', 'row', 'column', 'stage', 'conductance', 'node']\n",
    "    df.node = df.node.str.removesuffix('\\n')\n",
    "    df.layer = df.layer.astype('int')\n",
    "    df.row = df.row.astype('int')\n",
    "    df.column = df.column.astype('int')\n",
    "    df.stage = df.stage.astype('float')\n",
    "    df.conductance = df.conductance.astype('float')\n",
    "    df.reset_index(inplace=True, drop = True)\n",
    "    return df\n",
    "\n",
    "# Load original .drn file, load DRAIN cells characteristics and\n",
    "# transform the drn structure in flopy (required format for \"stress_period_data\")\n",
    "drn = import_input_file(os.path.join(cwd, 'test_files', 'busca_drain.drn'))\n",
    "drn_sp = pd.read_csv(os.path.join(cwd, 'test_files', 'busca_drain_specifiche_celle.csv'))\n",
    "drn.layer = 0\n",
    "\n",
    "# Create and load the model class (only useful because it's needed by ModflowDrn class)\n",
    "# this can be replaced by loading the actual model .nam file (not needed though)\n",
    "modelpth = os.path.join(cwd_model, 'drain_model_test') #path to model\n",
    "# mf = flopy.modflow.Modflow(\n",
    "#     \"busca_drain\",\n",
    "#     model_ws = os.path.join(cwd_model, 'drain_model_test'),\n",
    "#     exe_name = \"mf2005\",\n",
    "# )\n",
    "mf = flopy.modflow.Modflow.load(\n",
    "    os.path.join(cwd_model, 'drain_model_test', 'busca_drain.nam'),\n",
    "    model_ws = os.path.join(cwd_model, 'drain_model_test'),\n",
    "    exe_name='MF2005',\n",
    "    version = 'mf2005',\n",
    "    verbose = False\n",
    "    )\n",
    "'''\n",
    "START OF LOOP\n",
    "'''\n",
    "# Define limits of hydraulic conductivity range and number of iterations\n",
    "ki = 0.01\n",
    "kf = 0.000001\n",
    "n = 10 #10 to test the code, then switch to 100\n",
    "step = np.linspace(ki,kf,n)\n",
    "inputs = []\n",
    "outputs = []\n",
    "\n",
    "ipakcb = 50 #code for cell-by-cell flow data storage\n",
    "\n",
    "# Loop to change conductance in the drain package, run the model and extract cbb results\n",
    "for i in range(n):\n",
    "    k = step[i]\n",
    "    #change conductance\n",
    "    conductance_change = (k*drn_sp.Width*drn_sp.Length)/drn_sp.Thickness\n",
    "    drn.conductance = conductance_change\n",
    "    stress_period_data = {0: drn.iloc[:, :-1].to_numpy().tolist()} #remove node column, not needed nor supported by flopy's ModflowDrn class\n",
    "\n",
    "    #generate the drn package inside the flopy class\n",
    "    drain = flopy.modflow.ModflowDrn(mf, ipakcb=ipakcb, stress_period_data=stress_period_data,\n",
    "                                 filenames=os.path.join(cwd_model, 'drain_model_test', 'busca_drain.drn'))\n",
    "    drain.write_file(check = False)\n",
    "    \n",
    "    #run the model\n",
    "    success, buff = mf.run_model(silent=False) #False to test the code, then switch to True\n",
    "    if not success:\n",
    "        raise Exception(\"MODFLOW did not terminate normally.\")\n",
    "    \n",
    "    #get drain values from cbb output\n",
    "    cbb = bf.CellBudgetFile(os.path.join(cwd_model, 'drain_model_test', 'busca_drain.cbb'))\n",
    "    drain = cbb.get_data(text = 'DRAINS')\n",
    "\n",
    "    # get all the cells until 92, 76 & sum the flux extracted from drain[0]\n",
    "    row_limit = 92\n",
    "    column_limit = 76\n",
    "    sum_drain = np.sum(drain[0][0, :row_limit+1, :column_limit+1])\n",
    "\n",
    "    # Append the input and output to lists\n",
    "    inputs.append(k)\n",
    "    outputs.append(sum_drain)\n",
    "\n",
    "    #print(k)\n",
    "\n",
    "#save to dataframe and export\n",
    "df_results = pd.DataFrame({'k_value': inputs, 'drain_results': outputs})\n",
    "df_results.to_excel(os.path.join(cwd, 'test_files','results.xlsx'))"
   ]
  },
  {
   "cell_type": "markdown",
   "metadata": {},
   "source": [
    "## SFR"
   ]
  },
  {
   "cell_type": "markdown",
   "metadata": {},
   "source": [
    "### Test: load .sfr file"
   ]
  },
  {
   "cell_type": "code",
   "execution_count": null,
   "metadata": {},
   "outputs": [],
   "source": [
    "#the file is multi structured:\n",
    "# - the above section has a structure similar to .drn\n",
    "# - in the last section, the structure is different: there is the info about the segments\n",
    "# - width and manning coefficient are defined in the segment section\n",
    "# - length, slope, bed thickness and bed hydraulic conductivity are defined in the first section\n",
    "# try to use flopy to load the model and then modify the sfr parameters directly from there\n",
    "\n",
    "# another possibility:\n",
    "# - export sfr as .txt from the model\n",
    "# - read its characteristics here\n",
    "# - create a tool flopy model\n",
    "# - add sfr to the tool model\n",
    "# - generate the input file"
   ]
  },
  {
   "cell_type": "code",
   "execution_count": null,
   "metadata": {},
   "outputs": [],
   "source": [
    "sfr = open(os.path.join(cwd, 'test_files', 'busca_sfr2.sfr')).readlines()\n",
    "sfr"
   ]
  },
  {
   "cell_type": "code",
   "execution_count": null,
   "metadata": {},
   "outputs": [],
   "source": [
    "#error when loading the sfr package\n",
    "mf = flopy.modflow.Modflow.load(\n",
    "        f = os.path.join(cwd, 'test_files', 'sfr_model_test', 'busca_sfr2.nam'),\n",
    "        # model_ws = os.path.join(cwd, 'test_files', 'sfr_model_test'),\n",
    "        # exe_name='MF2005',\n",
    "        # version = 'mf2005',\n",
    "        verbose = True\n",
    "        )"
   ]
  },
  {
   "cell_type": "code",
   "execution_count": 29,
   "metadata": {},
   "outputs": [],
   "source": [
    "#this works now, because we changed the input file structure to SFR1 from GWV\n",
    "#next step:\n",
    "# - identify the parameters inside the sfr class\n",
    "# - modify the k\n",
    "# - save the new .sfr file\n",
    "m = flopy.modflow.Modflow()\n",
    "f = os.path.join(cwd_model, 'sfr_model_test', 'test_sfr1_input', 'busca_sfr2_tp.sfr')\n",
    "\n",
    "sfr = flopy.modflow.ModflowSfr2.load(f, m, gwt =True)"
   ]
  },
  {
   "cell_type": "code",
   "execution_count": null,
   "metadata": {},
   "outputs": [],
   "source": [
    "sfr"
   ]
  },
  {
   "cell_type": "code",
   "execution_count": null,
   "metadata": {},
   "outputs": [],
   "source": [
    "sfr.reach_data"
   ]
  },
  {
   "cell_type": "markdown",
   "metadata": {},
   "source": [
    "### Store the flow at reach x\n",
    "\n",
    "Consider the outward flow of these two cells:\n",
    "- reach 72, segment 1\n",
    "- reach 1, segment 2"
   ]
  },
  {
   "cell_type": "markdown",
   "metadata": {},
   "source": [
    "## Other tests"
   ]
  },
  {
   "cell_type": "markdown",
   "metadata": {},
   "source": [
    "### Test: write .drn file autonomously without using flopy"
   ]
  },
  {
   "cell_type": "markdown",
   "metadata": {},
   "source": [
    "Riprovare con il pacchetto di flopy usando un numpy array invecedel dataframe\n",
    "\n",
    "\n",
    "Da qui stavo scrivendo write_file per scrivermi i dati\n",
    "https://flopy.readthedocs.io/en/latest/_modules/flopy/modflow/mfdrn.html#ModflowDrn.write_file\n",
    "\n",
    "stavo indagando come flopy gestisce lo stress_period_data (MFils o qualcosa)"
   ]
  },
  {
   "cell_type": "code",
   "execution_count": null,
   "metadata": {},
   "outputs": [],
   "source": [
    "ipakcb = 1\n",
    "line = f\"{2:10d}{ipakcb:10d}\"\n",
    "line"
   ]
  },
  {
   "cell_type": "code",
   "execution_count": null,
   "metadata": {},
   "outputs": [],
   "source": [
    "heading = '# DRN package for MODFLOW-2005 generated by paolchol'\n",
    "n_drain_cells = drn.shape[0]\n",
    "ipakcb = 50\n",
    "\n",
    "\n",
    "with open(os.path.join(cwd, 'drn_input_file_test.drn'), 'w') as file:\n",
    "    file.write(f\"{heading}\\n\")\n",
    "    line = f\"{n_drain_cells:10d}{ipakcb:10d}\"\n",
    "    # for opt in self.options:\n",
    "        # line += \" \" + str(opt)\n",
    "    line += \"\\n\"\n",
    "    file.write(line)\n",
    "\n",
    "    # for row in drn.iterrows():\n",
    "    #     file.writelines(row)"
   ]
  },
  {
   "cell_type": "code",
   "execution_count": null,
   "metadata": {},
   "outputs": [],
   "source": []
  }
 ],
 "metadata": {
  "kernelspec": {
   "display_name": "fontanili",
   "language": "python",
   "name": "python3"
  },
  "language_info": {
   "codemirror_mode": {
    "name": "ipython",
    "version": 3
   },
   "file_extension": ".py",
   "mimetype": "text/x-python",
   "name": "python",
   "nbconvert_exporter": "python",
   "pygments_lexer": "ipython3",
   "version": "3.13.0"
  }
 },
 "nbformat": 4,
 "nbformat_minor": 2
}
