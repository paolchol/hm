{
 "cells": [
  {
   "cell_type": "markdown",
   "metadata": {},
   "source": [
    "# Semi-automatization of DRN and SFR sensitivity analysis/calibration\n",
    "\n",
    "**Worflow**\\\n",
    "DRN\n",
    "1. Load .drn file - *completed*\n",
    "2. Change the conductance of the cells - *completed*\n",
    "3. Write the .drn file - *in progress*\n",
    "4. Run the model\n",
    "5. Read .cbb file\n",
    "6. Store the outflow data of the first X cells\n",
    "7. Put the process in a loop over a range of parameters\n",
    "\n",
    "SFR\n",
    "1. Load .sfr file\n",
    "2. Change the hydraulic conductivity of the cells\n",
    "3. Write the .sfr file\n",
    "4. Run the model\n",
    "5. Read streamflow.dat file\n",
    "6. Store the flux data of cell at reach X\n",
    "7. Put the process in a loop over a range of parameters"
   ]
  },
  {
   "cell_type": "markdown",
   "metadata": {},
   "source": [
    "## Setup"
   ]
  },
  {
   "cell_type": "code",
   "execution_count": 16,
   "metadata": {},
   "outputs": [],
   "source": [
    "import glob\n",
    "import os\n",
    "import pandas as pd\n",
    "import flopy\n",
    "import flopy.utils.binaryfile as bf\n",
    "\n",
    "import sys\n",
    "from pprint import pformat\n",
    "from tempfile import TemporaryDirectory"
   ]
  },
  {
   "cell_type": "code",
   "execution_count": 2,
   "metadata": {},
   "outputs": [],
   "source": [
    "cwd = \"C:/Users/user/OneDrive - Politecnico di Milano/hydrogeo-modelling/TEAM_Idrogeo/Tesi/Tesi_Ceola_Pirovano/Tesi_Pirovano/busca_drain_start\""
   ]
  },
  {
   "cell_type": "code",
   "execution_count": 1,
   "metadata": {},
   "outputs": [],
   "source": [
    "# glob.glob(os.path.join(cwd, '*'))"
   ]
  },
  {
   "cell_type": "code",
   "execution_count": 4,
   "metadata": {},
   "outputs": [],
   "source": [
    "def import_input_file(path):\n",
    "    f = open(path).readlines()\n",
    "    df = pd.DataFrame()\n",
    "    for row in f[4:]:\n",
    "        r = list(filter(None, row.split(' ')))\n",
    "        df = pd.concat([df, pd.DataFrame(r).transpose()])\n",
    "    df.columns = ['layer', 'row', 'column', 'stage', 'conductance', 'node']\n",
    "    df.node = df.node.str.removesuffix('\\n')\n",
    "    df.conductance = df.conductance.astype('float')\n",
    "    df.reset_index(inplace=True)\n",
    "    return df"
   ]
  },
  {
   "cell_type": "markdown",
   "metadata": {},
   "source": [
    "## DRAIN"
   ]
  },
  {
   "cell_type": "code",
   "execution_count": 5,
   "metadata": {},
   "outputs": [],
   "source": [
    "drn = import_input_file(os.path.join(cwd, 'busca_drain.drn'))\n",
    "drn_sp = pd.read_csv(os.path.join(cwd, 'busca_drain_specifiche_celle.csv'))"
   ]
  },
  {
   "cell_type": "code",
   "execution_count": 6,
   "metadata": {},
   "outputs": [
    {
     "data": {
      "text/html": [
       "<div>\n",
       "<style scoped>\n",
       "    .dataframe tbody tr th:only-of-type {\n",
       "        vertical-align: middle;\n",
       "    }\n",
       "\n",
       "    .dataframe tbody tr th {\n",
       "        vertical-align: top;\n",
       "    }\n",
       "\n",
       "    .dataframe thead th {\n",
       "        text-align: right;\n",
       "    }\n",
       "</style>\n",
       "<table border=\"1\" class=\"dataframe\">\n",
       "  <thead>\n",
       "    <tr style=\"text-align: right;\">\n",
       "      <th></th>\n",
       "      <th>index</th>\n",
       "      <th>layer</th>\n",
       "      <th>row</th>\n",
       "      <th>column</th>\n",
       "      <th>stage</th>\n",
       "      <th>conductance</th>\n",
       "      <th>node</th>\n",
       "    </tr>\n",
       "  </thead>\n",
       "  <tbody>\n",
       "    <tr>\n",
       "      <th>0</th>\n",
       "      <td>0</td>\n",
       "      <td>1</td>\n",
       "      <td>46</td>\n",
       "      <td>51</td>\n",
       "      <td>124.838</td>\n",
       "      <td>0.012</td>\n",
       "      <td>0</td>\n",
       "    </tr>\n",
       "    <tr>\n",
       "      <th>1</th>\n",
       "      <td>0</td>\n",
       "      <td>1</td>\n",
       "      <td>47</td>\n",
       "      <td>51</td>\n",
       "      <td>124.835</td>\n",
       "      <td>0.018</td>\n",
       "      <td>0</td>\n",
       "    </tr>\n",
       "    <tr>\n",
       "      <th>2</th>\n",
       "      <td>0</td>\n",
       "      <td>1</td>\n",
       "      <td>48</td>\n",
       "      <td>51</td>\n",
       "      <td>124.832</td>\n",
       "      <td>0.006</td>\n",
       "      <td>0</td>\n",
       "    </tr>\n",
       "    <tr>\n",
       "      <th>3</th>\n",
       "      <td>0</td>\n",
       "      <td>1</td>\n",
       "      <td>48</td>\n",
       "      <td>52</td>\n",
       "      <td>124.830</td>\n",
       "      <td>0.024</td>\n",
       "      <td>0</td>\n",
       "    </tr>\n",
       "    <tr>\n",
       "      <th>4</th>\n",
       "      <td>0</td>\n",
       "      <td>1</td>\n",
       "      <td>49</td>\n",
       "      <td>52</td>\n",
       "      <td>124.824</td>\n",
       "      <td>0.018</td>\n",
       "      <td>0</td>\n",
       "    </tr>\n",
       "    <tr>\n",
       "      <th>...</th>\n",
       "      <td>...</td>\n",
       "      <td>...</td>\n",
       "      <td>...</td>\n",
       "      <td>...</td>\n",
       "      <td>...</td>\n",
       "      <td>...</td>\n",
       "      <td>...</td>\n",
       "    </tr>\n",
       "    <tr>\n",
       "      <th>323</th>\n",
       "      <td>0</td>\n",
       "      <td>1</td>\n",
       "      <td>264</td>\n",
       "      <td>156</td>\n",
       "      <td>124.041</td>\n",
       "      <td>0.012</td>\n",
       "      <td>0</td>\n",
       "    </tr>\n",
       "    <tr>\n",
       "      <th>324</th>\n",
       "      <td>0</td>\n",
       "      <td>1</td>\n",
       "      <td>265</td>\n",
       "      <td>156</td>\n",
       "      <td>124.035</td>\n",
       "      <td>0.018</td>\n",
       "      <td>0</td>\n",
       "    </tr>\n",
       "    <tr>\n",
       "      <th>325</th>\n",
       "      <td>0</td>\n",
       "      <td>1</td>\n",
       "      <td>266</td>\n",
       "      <td>156</td>\n",
       "      <td>124.027</td>\n",
       "      <td>0.018</td>\n",
       "      <td>0</td>\n",
       "    </tr>\n",
       "    <tr>\n",
       "      <th>326</th>\n",
       "      <td>0</td>\n",
       "      <td>1</td>\n",
       "      <td>266</td>\n",
       "      <td>157</td>\n",
       "      <td>124.023</td>\n",
       "      <td>0.006</td>\n",
       "      <td>0</td>\n",
       "    </tr>\n",
       "    <tr>\n",
       "      <th>327</th>\n",
       "      <td>0</td>\n",
       "      <td>1</td>\n",
       "      <td>267</td>\n",
       "      <td>157</td>\n",
       "      <td>124.021</td>\n",
       "      <td>0.006</td>\n",
       "      <td>0</td>\n",
       "    </tr>\n",
       "  </tbody>\n",
       "</table>\n",
       "<p>328 rows × 7 columns</p>\n",
       "</div>"
      ],
      "text/plain": [
       "     index layer  row column    stage  conductance node\n",
       "0        0     1   46     51  124.838        0.012    0\n",
       "1        0     1   47     51  124.835        0.018    0\n",
       "2        0     1   48     51  124.832        0.006    0\n",
       "3        0     1   48     52  124.830        0.024    0\n",
       "4        0     1   49     52  124.824        0.018    0\n",
       "..     ...   ...  ...    ...      ...          ...  ...\n",
       "323      0     1  264    156  124.041        0.012    0\n",
       "324      0     1  265    156  124.035        0.018    0\n",
       "325      0     1  266    156  124.027        0.018    0\n",
       "326      0     1  266    157  124.023        0.006    0\n",
       "327      0     1  267    157  124.021        0.006    0\n",
       "\n",
       "[328 rows x 7 columns]"
      ]
     },
     "execution_count": 6,
     "metadata": {},
     "output_type": "execute_result"
    }
   ],
   "source": [
    "drn"
   ]
  },
  {
   "cell_type": "code",
   "execution_count": 7,
   "metadata": {},
   "outputs": [],
   "source": [
    "k = 0.0001"
   ]
  },
  {
   "cell_type": "code",
   "execution_count": 8,
   "metadata": {},
   "outputs": [],
   "source": [
    "conductance_change = (k*drn_sp.Width*drn_sp.Length)/drn_sp.Thickness"
   ]
  },
  {
   "cell_type": "code",
   "execution_count": 9,
   "metadata": {},
   "outputs": [],
   "source": [
    "drn.conductance = conductance_change"
   ]
  },
  {
   "cell_type": "code",
   "execution_count": 28,
   "metadata": {},
   "outputs": [],
   "source": [
    "temp_dir = TemporaryDirectory()\n",
    "modelpth = temp_dir.name\n",
    "\n",
    "# creat the model package\n",
    "m = flopy.modflow.Modflow(\n",
    "    \"drt_test\",\n",
    "    model_ws=modelpth,\n",
    "    exe_name=\"mf2k\",\n",
    "    version=\"mf2k\",\n",
    ")"
   ]
  },
  {
   "cell_type": "code",
   "execution_count": 32,
   "metadata": {},
   "outputs": [],
   "source": [
    "stress_period_data = {\n",
    "    0: [[1,        46,        51,   124.838, 1.200e-02],\n",
    "        [1,        47,        51,   124.835, 1.800e-02],\n",
    "        [1,        48,        51,   124.835, 1.800e-02]],\n",
    " }"
   ]
  },
  {
   "cell_type": "code",
   "execution_count": 33,
   "metadata": {},
   "outputs": [],
   "source": [
    "drain = flopy.modflow.ModflowDrn(m, ipakcb=1, stress_period_data=stress_period_data,\n",
    "                                 filenames=os.path.join(cwd, 'drn_input_file_test.drn'))"
   ]
  },
  {
   "cell_type": "code",
   "execution_count": 34,
   "metadata": {},
   "outputs": [],
   "source": [
    "drain.write_file(check = False)"
   ]
  },
  {
   "cell_type": "code",
   "execution_count": 37,
   "metadata": {},
   "outputs": [
    {
     "data": {
      "text/plain": [
       "['# DRN package for MODFLOW-2000 generated by Flopy 3.8.2\\n',\n",
       " '\\n',\n",
       " '         3         1\\n',\n",
       " '         3         0 # stress period 1\\n',\n",
       " '         2        47        52   124.838     0.012\\n',\n",
       " '         2        48        52   124.835     0.018\\n',\n",
       " '         2        49        52   124.835     0.018\\n']"
      ]
     },
     "execution_count": 37,
     "metadata": {},
     "output_type": "execute_result"
    }
   ],
   "source": [
    "open(os.path.join(cwd, 'drn_input_file_test.drn')).readlines()"
   ]
  },
  {
   "cell_type": "code",
   "execution_count": 39,
   "metadata": {},
   "outputs": [],
   "source": [
    "ipakcb = 1"
   ]
  },
  {
   "cell_type": "code",
   "execution_count": 41,
   "metadata": {},
   "outputs": [],
   "source": [
    "line = f\"{2:10d}{ipakcb:10d}\""
   ]
  },
  {
   "cell_type": "code",
   "execution_count": 42,
   "metadata": {},
   "outputs": [
    {
     "data": {
      "text/plain": [
       "'         2         1'"
      ]
     },
     "execution_count": 42,
     "metadata": {},
     "output_type": "execute_result"
    }
   ],
   "source": [
    "line"
   ]
  },
  {
   "cell_type": "markdown",
   "metadata": {},
   "source": [
    "Riprovare con il pacchetto di flopy usando un numpy array invecedel dataframe\n",
    "\n",
    "\n",
    "Da qui stavo scrivendo write_file per scrivermi i dati\n",
    "https://flopy.readthedocs.io/en/latest/_modules/flopy/modflow/mfdrn.html#ModflowDrn.write_file\n",
    "\n",
    "stavo indagando come flopy gestisce lo stress_period_data (MFils o qualcosa)"
   ]
  },
  {
   "cell_type": "code",
   "execution_count": 38,
   "metadata": {},
   "outputs": [
    {
     "data": {
      "text/html": [
       "<div>\n",
       "<style scoped>\n",
       "    .dataframe tbody tr th:only-of-type {\n",
       "        vertical-align: middle;\n",
       "    }\n",
       "\n",
       "    .dataframe tbody tr th {\n",
       "        vertical-align: top;\n",
       "    }\n",
       "\n",
       "    .dataframe thead th {\n",
       "        text-align: right;\n",
       "    }\n",
       "</style>\n",
       "<table border=\"1\" class=\"dataframe\">\n",
       "  <thead>\n",
       "    <tr style=\"text-align: right;\">\n",
       "      <th></th>\n",
       "      <th>index</th>\n",
       "      <th>layer</th>\n",
       "      <th>row</th>\n",
       "      <th>column</th>\n",
       "      <th>stage</th>\n",
       "      <th>conductance</th>\n",
       "      <th>node</th>\n",
       "    </tr>\n",
       "  </thead>\n",
       "  <tbody>\n",
       "    <tr>\n",
       "      <th>0</th>\n",
       "      <td>0</td>\n",
       "      <td>1</td>\n",
       "      <td>46</td>\n",
       "      <td>51</td>\n",
       "      <td>124.838</td>\n",
       "      <td>0.0012</td>\n",
       "      <td>0</td>\n",
       "    </tr>\n",
       "    <tr>\n",
       "      <th>1</th>\n",
       "      <td>0</td>\n",
       "      <td>1</td>\n",
       "      <td>47</td>\n",
       "      <td>51</td>\n",
       "      <td>124.835</td>\n",
       "      <td>0.0018</td>\n",
       "      <td>0</td>\n",
       "    </tr>\n",
       "    <tr>\n",
       "      <th>2</th>\n",
       "      <td>0</td>\n",
       "      <td>1</td>\n",
       "      <td>48</td>\n",
       "      <td>51</td>\n",
       "      <td>124.832</td>\n",
       "      <td>0.0006</td>\n",
       "      <td>0</td>\n",
       "    </tr>\n",
       "    <tr>\n",
       "      <th>3</th>\n",
       "      <td>0</td>\n",
       "      <td>1</td>\n",
       "      <td>48</td>\n",
       "      <td>52</td>\n",
       "      <td>124.830</td>\n",
       "      <td>0.0024</td>\n",
       "      <td>0</td>\n",
       "    </tr>\n",
       "    <tr>\n",
       "      <th>4</th>\n",
       "      <td>0</td>\n",
       "      <td>1</td>\n",
       "      <td>49</td>\n",
       "      <td>52</td>\n",
       "      <td>124.824</td>\n",
       "      <td>0.0018</td>\n",
       "      <td>0</td>\n",
       "    </tr>\n",
       "    <tr>\n",
       "      <th>...</th>\n",
       "      <td>...</td>\n",
       "      <td>...</td>\n",
       "      <td>...</td>\n",
       "      <td>...</td>\n",
       "      <td>...</td>\n",
       "      <td>...</td>\n",
       "      <td>...</td>\n",
       "    </tr>\n",
       "    <tr>\n",
       "      <th>323</th>\n",
       "      <td>0</td>\n",
       "      <td>1</td>\n",
       "      <td>264</td>\n",
       "      <td>156</td>\n",
       "      <td>124.041</td>\n",
       "      <td>0.0012</td>\n",
       "      <td>0</td>\n",
       "    </tr>\n",
       "    <tr>\n",
       "      <th>324</th>\n",
       "      <td>0</td>\n",
       "      <td>1</td>\n",
       "      <td>265</td>\n",
       "      <td>156</td>\n",
       "      <td>124.035</td>\n",
       "      <td>0.0018</td>\n",
       "      <td>0</td>\n",
       "    </tr>\n",
       "    <tr>\n",
       "      <th>325</th>\n",
       "      <td>0</td>\n",
       "      <td>1</td>\n",
       "      <td>266</td>\n",
       "      <td>156</td>\n",
       "      <td>124.027</td>\n",
       "      <td>0.0018</td>\n",
       "      <td>0</td>\n",
       "    </tr>\n",
       "    <tr>\n",
       "      <th>326</th>\n",
       "      <td>0</td>\n",
       "      <td>1</td>\n",
       "      <td>266</td>\n",
       "      <td>157</td>\n",
       "      <td>124.023</td>\n",
       "      <td>0.0006</td>\n",
       "      <td>0</td>\n",
       "    </tr>\n",
       "    <tr>\n",
       "      <th>327</th>\n",
       "      <td>0</td>\n",
       "      <td>1</td>\n",
       "      <td>267</td>\n",
       "      <td>157</td>\n",
       "      <td>124.021</td>\n",
       "      <td>0.0006</td>\n",
       "      <td>0</td>\n",
       "    </tr>\n",
       "  </tbody>\n",
       "</table>\n",
       "<p>328 rows × 7 columns</p>\n",
       "</div>"
      ],
      "text/plain": [
       "     index layer  row column    stage  conductance node\n",
       "0        0     1   46     51  124.838       0.0012    0\n",
       "1        0     1   47     51  124.835       0.0018    0\n",
       "2        0     1   48     51  124.832       0.0006    0\n",
       "3        0     1   48     52  124.830       0.0024    0\n",
       "4        0     1   49     52  124.824       0.0018    0\n",
       "..     ...   ...  ...    ...      ...          ...  ...\n",
       "323      0     1  264    156  124.041       0.0012    0\n",
       "324      0     1  265    156  124.035       0.0018    0\n",
       "325      0     1  266    156  124.027       0.0018    0\n",
       "326      0     1  266    157  124.023       0.0006    0\n",
       "327      0     1  267    157  124.021       0.0006    0\n",
       "\n",
       "[328 rows x 7 columns]"
      ]
     },
     "execution_count": 38,
     "metadata": {},
     "output_type": "execute_result"
    }
   ],
   "source": [
    "heading = '# DRN package for MODFLOW-2005 generated by paolchol'\n",
    "n_drain_cells = drn.shape[0]\n",
    "ipakcb = 50\n",
    "\n",
    "\n",
    "with open(os.path.join(cwd, 'drn_input_file_test.drn'), 'w') as file:\n",
    "    file.write(f\"{heading}\\n\")\n",
    "    line = f\"{n_drain_cells:10d}{ipakcb:10d}\"\n",
    "    for opt in self.options:\n",
    "        line += \" \" + str(opt)\n",
    "    line += \"\\n\"\n",
    "    file.write(line)\n",
    "\n",
    "    # for row in drn.iterrows():\n",
    "    #     file.writelines(row)"
   ]
  },
  {
   "cell_type": "markdown",
   "metadata": {},
   "source": [
    "## Read .cbb output file\n",
    "\n",
    "class CellBudgetFile\\\n",
    "https://flopy.readthedocs.io/en/latest/source/flopy.utils.binaryfile.html\n",
    "\n",
    "The outflow will have to be considered until cell:\n",
    "- row 92, column 76 (last cell of first segment)\n",
    "Check if any substantial change in outflow happen if considering:\n",
    "- row 93, column 76 (first cell of second segment)"
   ]
  },
  {
   "cell_type": "code",
   "execution_count": null,
   "metadata": {},
   "outputs": [],
   "source": [
    "cbb = bf.CellBudgetFile(Path(workspace) / f\"{name}.cbc\")"
   ]
  },
  {
   "cell_type": "markdown",
   "metadata": {},
   "source": [
    "## SFR"
   ]
  },
  {
   "cell_type": "markdown",
   "metadata": {},
   "source": [
    "### Store the flow at reach x\n",
    "\n",
    "Consider the outward flow of these two cells:\n",
    "- reach 72, segment 1\n",
    "- reach 1, segment 2"
   ]
  }
 ],
 "metadata": {
  "kernelspec": {
   "display_name": "fontanili",
   "language": "python",
   "name": "python3"
  },
  "language_info": {
   "codemirror_mode": {
    "name": "ipython",
    "version": 3
   },
   "file_extension": ".py",
   "mimetype": "text/x-python",
   "name": "python",
   "nbconvert_exporter": "python",
   "pygments_lexer": "ipython3",
   "version": "3.13.0"
  }
 },
 "nbformat": 4,
 "nbformat_minor": 2
}
