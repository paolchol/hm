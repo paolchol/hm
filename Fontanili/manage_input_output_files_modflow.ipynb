{
 "cells": [
  {
   "cell_type": "markdown",
   "metadata": {},
   "source": [
    "# Semi-automatization of DRN and SFR sensitivity analysis/calibration\n",
    "\n",
    "**Worflow**\\\n",
    "DRN\n",
    "1. Load .drn file - *completed*\n",
    "2. Change the conductance of the cells - *completed*\n",
    "3. Write the .drn file - *completed*\n",
    "4. Run the model - *in progress*\n",
    "5. Read .cbb file\n",
    "6. Store the outflow data of the first X cells\n",
    "7. Put the process in a loop over a range of parameters\n",
    "\n",
    "SFR\n",
    "1. Load .sfr file - *in progress*\n",
    "2. Change the hydraulic conductivity of the cells\n",
    "3. Write the .sfr file\n",
    "4. Run the model\n",
    "5. Read streamflow.dat file\n",
    "6. Store the flux data of cell at reach X\n",
    "7. Put the process in a loop over a range of parameters"
   ]
  },
  {
   "cell_type": "markdown",
   "metadata": {},
   "source": [
    "## Setup"
   ]
  },
  {
   "cell_type": "code",
   "execution_count": 20,
   "metadata": {},
   "outputs": [],
   "source": [
    "import flopy\n",
    "import flopy.utils.binaryfile as bf\n",
    "import glob\n",
    "import numpy as np\n",
    "import os\n",
    "import pandas as pd\n",
    "\n",
    "#check if the below lines are still useful at the end\n",
    "import sys\n",
    "from pprint import pformat\n",
    "from tempfile import TemporaryDirectory"
   ]
  },
  {
   "cell_type": "code",
   "execution_count": 21,
   "metadata": {},
   "outputs": [],
   "source": [
    "# cwd = \"C:/Users/user/OneDrive - Politecnico di Milano/hydrogeo-modelling/TEAM_Idrogeo/Tesi/Tesi_Ceola_Pirovano/Tesi_Pirovano/busca_drain_start\"\n",
    "cwd = os.getcwd()"
   ]
  },
  {
   "cell_type": "code",
   "execution_count": 22,
   "metadata": {},
   "outputs": [],
   "source": [
    "def import_input_file(path):\n",
    "    f = open(path).readlines()\n",
    "    df = pd.DataFrame()\n",
    "    for row in f[4:]:\n",
    "        r = list(filter(None, row.split(' ')))\n",
    "        df = pd.concat([df, pd.DataFrame(r).transpose()])\n",
    "    df.columns = ['layer', 'row', 'column', 'stage', 'conductance', 'node']\n",
    "    df.node = df.node.str.removesuffix('\\n')\n",
    "    df.layer = df.layer.astype('int')\n",
    "    df.row = df.row.astype('int')\n",
    "    df.column = df.column.astype('int')\n",
    "    df.stage = df.stage.astype('float')\n",
    "    df.conductance = df.conductance.astype('float')\n",
    "    df.reset_index(inplace=True, drop = True)\n",
    "    return df"
   ]
  },
  {
   "cell_type": "markdown",
   "metadata": {},
   "source": [
    "## DRAIN"
   ]
  },
  {
   "cell_type": "markdown",
   "metadata": {},
   "source": [
    "### Load .drn file"
   ]
  },
  {
   "cell_type": "code",
   "execution_count": 35,
   "metadata": {},
   "outputs": [
    {
     "data": {
      "text/html": [
       "<div>\n",
       "<style scoped>\n",
       "    .dataframe tbody tr th:only-of-type {\n",
       "        vertical-align: middle;\n",
       "    }\n",
       "\n",
       "    .dataframe tbody tr th {\n",
       "        vertical-align: top;\n",
       "    }\n",
       "\n",
       "    .dataframe thead th {\n",
       "        text-align: right;\n",
       "    }\n",
       "</style>\n",
       "<table border=\"1\" class=\"dataframe\">\n",
       "  <thead>\n",
       "    <tr style=\"text-align: right;\">\n",
       "      <th></th>\n",
       "      <th>layer</th>\n",
       "      <th>row</th>\n",
       "      <th>column</th>\n",
       "      <th>stage</th>\n",
       "      <th>conductance</th>\n",
       "      <th>node</th>\n",
       "    </tr>\n",
       "  </thead>\n",
       "  <tbody>\n",
       "    <tr>\n",
       "      <th>0</th>\n",
       "      <td>1</td>\n",
       "      <td>46</td>\n",
       "      <td>51</td>\n",
       "      <td>124.838</td>\n",
       "      <td>0.012</td>\n",
       "      <td>0</td>\n",
       "    </tr>\n",
       "    <tr>\n",
       "      <th>1</th>\n",
       "      <td>1</td>\n",
       "      <td>47</td>\n",
       "      <td>51</td>\n",
       "      <td>124.835</td>\n",
       "      <td>0.018</td>\n",
       "      <td>0</td>\n",
       "    </tr>\n",
       "    <tr>\n",
       "      <th>2</th>\n",
       "      <td>1</td>\n",
       "      <td>48</td>\n",
       "      <td>51</td>\n",
       "      <td>124.832</td>\n",
       "      <td>0.006</td>\n",
       "      <td>0</td>\n",
       "    </tr>\n",
       "    <tr>\n",
       "      <th>3</th>\n",
       "      <td>1</td>\n",
       "      <td>48</td>\n",
       "      <td>52</td>\n",
       "      <td>124.830</td>\n",
       "      <td>0.024</td>\n",
       "      <td>0</td>\n",
       "    </tr>\n",
       "    <tr>\n",
       "      <th>4</th>\n",
       "      <td>1</td>\n",
       "      <td>49</td>\n",
       "      <td>52</td>\n",
       "      <td>124.824</td>\n",
       "      <td>0.018</td>\n",
       "      <td>0</td>\n",
       "    </tr>\n",
       "  </tbody>\n",
       "</table>\n",
       "</div>"
      ],
      "text/plain": [
       "   layer  row  column    stage  conductance node\n",
       "0      1   46      51  124.838        0.012    0\n",
       "1      1   47      51  124.835        0.018    0\n",
       "2      1   48      51  124.832        0.006    0\n",
       "3      1   48      52  124.830        0.024    0\n",
       "4      1   49      52  124.824        0.018    0"
      ]
     },
     "execution_count": 35,
     "metadata": {},
     "output_type": "execute_result"
    }
   ],
   "source": [
    "# Load .drn file\n",
    "drn = import_input_file(os.path.join(cwd, 'test_files', 'busca_drain.drn'))\n",
    "drn.head()"
   ]
  },
  {
   "cell_type": "code",
   "execution_count": 5,
   "metadata": {},
   "outputs": [],
   "source": [
    "# Load DRAIN cells characteristics\n",
    "drn_sp = pd.read_csv(os.path.join(cwd, 'test_files', 'busca_drain_specifiche_celle.csv'))"
   ]
  },
  {
   "cell_type": "code",
   "execution_count": 6,
   "metadata": {},
   "outputs": [],
   "source": [
    "# Compute the conductance of each cell for a given hydraulic conductivity\n",
    "# Change the conductance column\n",
    "k = 0.0001 #hydraulic conductivity\n",
    "conductance_change = (k*drn_sp.Width*drn_sp.Length)/drn_sp.Thickness\n",
    "drn.conductance = conductance_change"
   ]
  },
  {
   "cell_type": "markdown",
   "metadata": {},
   "source": [
    "### Write .drn file using flopy\n",
    "\n",
    "**bug found:** the layer gets put equal to 2 instead of 1\n",
    "- the problem is not in the stress_period_data table passed to drn\n",
    "- check stress_period_data.write_transient method\n",
    "- couldn't figure it out, so found a way out: set drn.layer = 0\n",
    "- drn_input_file_test_v4.drn works"
   ]
  },
  {
   "cell_type": "code",
   "execution_count": 42,
   "metadata": {},
   "outputs": [
    {
     "name": "stderr",
     "output_type": "stream",
     "text": [
      "c:\\Users\\user\\anaconda3\\envs\\fontanili\\Lib\\site-packages\\flopy\\mbase.py:97: UserWarning: The program mf2005 does not exist or is not executable.\n",
      "  warn(\n"
     ]
    }
   ],
   "source": [
    "modelpth = os.path.join(cwd, 'test_files')\n",
    "\n",
    "# create the model class (only useful because it's needed by ModflowDrn class)\n",
    "# this can be replaced by loading the actual model .nam file (not needed though)\n",
    "mf = flopy.modflow.Modflow(\n",
    "     \"drn_test\",\n",
    "    model_ws = modelpth,\n",
    "    exe_name = \"mf2005\",\n",
    ")"
   ]
  },
  {
   "cell_type": "code",
   "execution_count": 43,
   "metadata": {},
   "outputs": [],
   "source": [
    "# transform the drn structure in the flopy required format for \"stress_period_data\"\n",
    "drn.layer = 0\n",
    "stress_period_data = {0: drn.iloc[:, :-1].to_numpy().tolist()} #remove node column, not needed nor supported by flopy's ModflowDrn class"
   ]
  },
  {
   "cell_type": "code",
   "execution_count": 50,
   "metadata": {},
   "outputs": [],
   "source": [
    "#generate the drn package inside the flopy class\n",
    "ipakcb = 50 #code for cell-by-cell flow data storage\n",
    "drain = flopy.modflow.ModflowDrn(mf, ipakcb=ipakcb, stress_period_data=stress_period_data,\n",
    "                                 filenames=os.path.join(cwd, 'test_files', 'drn_input_file_test_v5.drn'))\n",
    "drain.write_file(check = False)"
   ]
  },
  {
   "cell_type": "markdown",
   "metadata": {},
   "source": [
    "### Test: Run the model"
   ]
  },
  {
   "cell_type": "code",
   "execution_count": 29,
   "metadata": {},
   "outputs": [],
   "source": [
    "# trial: run from flopy\n",
    "\n",
    "# load the existing model busca_drain\n",
    "# https://flopy.readthedocs.io/en/3.3.2/source/flopy.modflow.mf.html\n",
    "\n",
    "mf = flopy.modflow.Modflow.load(\n",
    "        os.path.join(cwd, 'test_files', 'drain_model_test', 'busca_drain.nam'),\n",
    "        model_ws = os.path.join(cwd, 'test_files', 'model_test'),\n",
    "        exe_name='MF2005',\n",
    "        version = 'mf2005',\n",
    "        verbose = False\n",
    "        )"
   ]
  },
  {
   "cell_type": "code",
   "execution_count": null,
   "metadata": {},
   "outputs": [],
   "source": [
    "# drn stress period data can be accessed by:\n",
    "mf.drn.stress_period_data.data"
   ]
  },
  {
   "cell_type": "code",
   "execution_count": null,
   "metadata": {},
   "outputs": [],
   "source": [
    "# this doen't work, doesn't find the executable\n",
    "success, buff = mf.run_model()\n",
    "if not success:\n",
    "    raise Exception(\"MODFLOW did not terminate normally.\")"
   ]
  },
  {
   "cell_type": "code",
   "execution_count": 66,
   "metadata": {},
   "outputs": [
    {
     "name": "stdout",
     "output_type": "stream",
     "text": [
      "FloPy is using the following executable to run the model: MF2005.exe\n"
     ]
    },
    {
     "ename": "Exception",
     "evalue": "MODFLOW did not terminate normally.",
     "output_type": "error",
     "traceback": [
      "\u001b[1;31m---------------------------------------------------------------------------\u001b[0m",
      "\u001b[1;31mException\u001b[0m                                 Traceback (most recent call last)",
      "Cell \u001b[1;32mIn[66], line 7\u001b[0m\n\u001b[0;32m      2\u001b[0m success, buff \u001b[38;5;241m=\u001b[39m flopy\u001b[38;5;241m.\u001b[39mmbase\u001b[38;5;241m.\u001b[39mrun_model(\n\u001b[0;32m      3\u001b[0m                 exe_name\u001b[38;5;241m=\u001b[39mos\u001b[38;5;241m.\u001b[39mpath\u001b[38;5;241m.\u001b[39mjoin(cwd, \u001b[38;5;124m'\u001b[39m\u001b[38;5;124mtest_files\u001b[39m\u001b[38;5;124m'\u001b[39m, \u001b[38;5;124m'\u001b[39m\u001b[38;5;124mmodel_test\u001b[39m\u001b[38;5;124m'\u001b[39m,\u001b[38;5;124m'\u001b[39m\u001b[38;5;124mMF2005.exe\u001b[39m\u001b[38;5;124m'\u001b[39m),\n\u001b[0;32m      4\u001b[0m                 namefile \u001b[38;5;241m=\u001b[39m \u001b[38;5;124m'\u001b[39m\u001b[38;5;124mbusca_drain.nam\u001b[39m\u001b[38;5;124m'\u001b[39m,\n\u001b[0;32m      5\u001b[0m                 model_ws\u001b[38;5;241m=\u001b[39mos\u001b[38;5;241m.\u001b[39mpath\u001b[38;5;241m.\u001b[39mjoin(cwd, \u001b[38;5;124m'\u001b[39m\u001b[38;5;124mtest_files\u001b[39m\u001b[38;5;124m'\u001b[39m, \u001b[38;5;124m'\u001b[39m\u001b[38;5;124mmodel_test\u001b[39m\u001b[38;5;124m'\u001b[39m))\n\u001b[0;32m      6\u001b[0m \u001b[38;5;28;01mif\u001b[39;00m \u001b[38;5;129;01mnot\u001b[39;00m success:\n\u001b[1;32m----> 7\u001b[0m     \u001b[38;5;28;01mraise\u001b[39;00m \u001b[38;5;167;01mException\u001b[39;00m(\u001b[38;5;124m\"\u001b[39m\u001b[38;5;124mMODFLOW did not terminate normally.\u001b[39m\u001b[38;5;124m\"\u001b[39m)\n",
      "\u001b[1;31mException\u001b[0m: MODFLOW did not terminate normally."
     ]
    }
   ],
   "source": [
    "# this works in launching the model, but the model is not executed properly\n",
    "# a file busca_drain.chk was generated in Fontanili folder\n",
    "#   -> check the paths\n",
    "#   -> check what file this is\n",
    "success, buff = flopy.mbase.run_model(\n",
    "                exe_name = os.path.join(cwd, 'test_files', 'model_test','MF2005.exe'),\n",
    "                namefile = 'busca_drain.nam',\n",
    "                model_ws = os.path.join(cwd, 'test_files', 'model_test')\n",
    "                )\n",
    "if not success:\n",
    "    raise Exception(\"MODFLOW did not terminate normally.\")"
   ]
  },
  {
   "cell_type": "code",
   "execution_count": 24,
   "metadata": {},
   "outputs": [],
   "source": [
    "# run by launching mf2005.exe directly\n",
    "os.startfile(os.path.join(cwd, 'test_files', 'drain_model_test','MF2005.exe'))\n",
    "# the .exe is opened, but then error messages arise for missing .dll files"
   ]
  },
  {
   "cell_type": "markdown",
   "metadata": {},
   "source": [
    "### Read .cbb output file\n",
    "\n",
    "class CellBudgetFile\\\n",
    "https://flopy.readthedocs.io/en/latest/source/flopy.utils.binaryfile.html\n",
    "\n",
    "The outflow will have to be considered until cell:\n",
    "- row 92, column 76 (last cell of first segment)\n",
    "Check if any substantial change in outflow happen if considering:\n",
    "- row 93, column 76 (first cell of second segment)"
   ]
  },
  {
   "cell_type": "code",
   "execution_count": null,
   "metadata": {},
   "outputs": [],
   "source": [
    "# cbb = bf.CellBudgetFile(Path(workspace) / f\"{name}.cbc\")"
   ]
  },
  {
   "cell_type": "markdown",
   "metadata": {},
   "source": [
    "## SFR"
   ]
  },
  {
   "cell_type": "markdown",
   "metadata": {},
   "source": [
    "### Test: load .sfr file"
   ]
  },
  {
   "cell_type": "code",
   "execution_count": null,
   "metadata": {},
   "outputs": [],
   "source": [
    "#the file is multi structured:\n",
    "# - the above section has a structure similar to .drn\n",
    "# - in the last section, the structure is different: there is the info about the segments\n",
    "# - width and manning coefficient are defined in the segment section\n",
    "# - length, slope, bed thickness and bed hydraulic conductivity are defined in the first section\n",
    "# try to use flopy to load the model and then modify the sfr parameters directly from there\n",
    "\n",
    "# another possibility:\n",
    "# - export sfr as .txt from the model\n",
    "# - read its characteristics here\n",
    "# - create a tool flopy model\n",
    "# - add sfr to the tool model\n",
    "# - generate the input file"
   ]
  },
  {
   "cell_type": "code",
   "execution_count": 19,
   "metadata": {},
   "outputs": [],
   "source": [
    "sfr = open(os.path.join(cwd, 'test_files', 'busca_sfr2.sfr')).readlines()\n",
    "# sfr"
   ]
  },
  {
   "cell_type": "code",
   "execution_count": 39,
   "metadata": {},
   "outputs": [
    {
     "name": "stdout",
     "output_type": "stream",
     "text": [
      "\n",
      "Creating new model with name: busca_sfr2\n",
      "--------------------------------------------------\n",
      "\n",
      "Parsing the namefile --> c:\\repos\\hm\\Fontanili\\test_files\\sfr_model_test\\busca_sfr2.nam\n",
      "\n",
      "--------------------------------------------------\n",
      "External unit dictionary:\n",
      "{7: filename:c:\\repos\\hm\\Fontanili\\test_files\\sfr_model_test\\busca_sfr2.lst, filetype:LIST, 1: filename:c:\\repos\\hm\\Fontanili\\test_files\\sfr_model_test\\busca_sfr2.bas, filetype:BAS6, 29: filename:c:\\repos\\hm\\Fontanili\\test_files\\sfr_model_test\\busca_sfr2.dis, filetype:DIS, 11: filename:c:\\repos\\hm\\Fontanili\\test_files\\sfr_model_test\\busca_sfr2.lpf, filetype:LPF, 27: filename:c:\\repos\\hm\\Fontanili\\test_files\\sfr_model_test\\busca_sfr2.sfr, filetype:SFR, 18: filename:c:\\repos\\hm\\Fontanili\\test_files\\sfr_model_test\\busca_sfr2.rch, filetype:RCH, 22: filename:c:\\repos\\hm\\Fontanili\\test_files\\sfr_model_test\\busca_sfr2.oc, filetype:OC, 19: filename:c:\\repos\\hm\\Fontanili\\test_files\\sfr_model_test\\busca_sfr2.pcg, filetype:PCG, 50: filename:c:\\repos\\hm\\Fontanili\\test_files\\sfr_model_test\\busca_sfr2.cbb, filetype:DATA(BINARY), 54: filename:c:\\repos\\hm\\Fontanili\\test_files\\sfr_model_test\\busca_sfr2_streamflow.dat, filetype:DATA, 30: filename:c:\\repos\\hm\\Fontanili\\test_files\\sfr_model_test\\busca_sfr2.hds, filetype:DATA(BINARY), 31: filename:c:\\repos\\hm\\Fontanili\\test_files\\sfr_model_test\\busca_sfr2.ddn, filetype:DATA(BINARY)}\n",
      "--------------------------------------------------\n",
      "\n",
      "ModflowBas6 free format:True\n",
      "\n",
      "loading dis package file...\n",
      "   Loading dis package with:\n",
      "      1 layers, 321 rows, 196 columns, and 1 stress periods\n",
      "   loading laycbd...\n",
      "   loading delr...\n",
      "   loading delc...\n",
      "   loading top...\n",
      "   loading botm...\n",
      "      for 1 layers and 0 confining beds\n",
      "   loading stress period data...\n",
      "       for 1 stress periods\n",
      "adding Package:  DIS\n",
      "   DIS  package load...success\n",
      "   LIST package load...skipped\n",
      "loading bas6 package file...\n",
      "adding Package:  BAS6\n",
      "   BAS6 package load...success\n",
      "loading lpf package file...\n",
      "   loading IBCFCB, HDRY, NPLPF...\n",
      "   loading LAYTYP...\n",
      "   loading LAYAVG...\n",
      "   loading CHANI...\n",
      "   loading LAYVKA...\n",
      "   loading LAYWET...\n",
      "   loading hk layer   1...\n",
      "   loading vka layer   1...\n",
      "Adding busca_sfr2.cbb (unit=50) to the output list.\n",
      "adding Package:  LPF\n",
      "   LPF  package load...success\n",
      "loading sfr2 package file...\n"
     ]
    },
    {
     "name": "stderr",
     "output_type": "stream",
     "text": [
      "c:\\Users\\user\\anaconda3\\envs\\fontanili\\Lib\\site-packages\\flopy\\mbase.py:97: UserWarning: The program mf2005 does not exist or is not executable.\n",
      "  warn(\n"
     ]
    },
    {
     "ename": "IndexError",
     "evalue": "pop from empty list",
     "output_type": "error",
     "traceback": [
      "\u001b[1;31m---------------------------------------------------------------------------\u001b[0m",
      "\u001b[1;31mIndexError\u001b[0m                                Traceback (most recent call last)",
      "Cell \u001b[1;32mIn[39], line 1\u001b[0m\n\u001b[1;32m----> 1\u001b[0m mf \u001b[38;5;241m=\u001b[39m \u001b[43mflopy\u001b[49m\u001b[38;5;241;43m.\u001b[39;49m\u001b[43mmodflow\u001b[49m\u001b[38;5;241;43m.\u001b[39;49m\u001b[43mModflow\u001b[49m\u001b[38;5;241;43m.\u001b[39;49m\u001b[43mload\u001b[49m\u001b[43m(\u001b[49m\n\u001b[0;32m      2\u001b[0m \u001b[43m        \u001b[49m\u001b[43mf\u001b[49m\u001b[43m \u001b[49m\u001b[38;5;241;43m=\u001b[39;49m\u001b[43m \u001b[49m\u001b[43mos\u001b[49m\u001b[38;5;241;43m.\u001b[39;49m\u001b[43mpath\u001b[49m\u001b[38;5;241;43m.\u001b[39;49m\u001b[43mjoin\u001b[49m\u001b[43m(\u001b[49m\u001b[43mcwd\u001b[49m\u001b[43m,\u001b[49m\u001b[43m \u001b[49m\u001b[38;5;124;43m'\u001b[39;49m\u001b[38;5;124;43mtest_files\u001b[39;49m\u001b[38;5;124;43m'\u001b[39;49m\u001b[43m,\u001b[49m\u001b[43m \u001b[49m\u001b[38;5;124;43m'\u001b[39;49m\u001b[38;5;124;43msfr_model_test\u001b[39;49m\u001b[38;5;124;43m'\u001b[39;49m\u001b[43m,\u001b[49m\u001b[43m \u001b[49m\u001b[38;5;124;43m'\u001b[39;49m\u001b[38;5;124;43mbusca_sfr2.nam\u001b[39;49m\u001b[38;5;124;43m'\u001b[39;49m\u001b[43m)\u001b[49m\u001b[43m,\u001b[49m\n\u001b[0;32m      3\u001b[0m \u001b[43m        \u001b[49m\u001b[38;5;66;43;03m# model_ws = os.path.join(cwd, 'test_files', 'sfr_model_test'),\u001b[39;49;00m\n\u001b[0;32m      4\u001b[0m \u001b[43m        \u001b[49m\u001b[38;5;66;43;03m# exe_name='MF2005',\u001b[39;49;00m\n\u001b[0;32m      5\u001b[0m \u001b[43m        \u001b[49m\u001b[38;5;66;43;03m# version = 'mf2005',\u001b[39;49;00m\n\u001b[0;32m      6\u001b[0m \u001b[43m        \u001b[49m\u001b[43mverbose\u001b[49m\u001b[43m \u001b[49m\u001b[38;5;241;43m=\u001b[39;49m\u001b[43m \u001b[49m\u001b[38;5;28;43;01mTrue\u001b[39;49;00m\n\u001b[0;32m      7\u001b[0m \u001b[43m        \u001b[49m\u001b[43m)\u001b[49m\n",
      "File \u001b[1;32mc:\\Users\\user\\anaconda3\\envs\\fontanili\\Lib\\site-packages\\flopy\\modflow\\mf.py:869\u001b[0m, in \u001b[0;36mModflow.load\u001b[1;34m(cls, f, version, exe_name, verbose, model_ws, load_only, forgive, check)\u001b[0m\n\u001b[0;32m    862\u001b[0m     item\u001b[38;5;241m.\u001b[39mpackage\u001b[38;5;241m.\u001b[39mload(\n\u001b[0;32m    863\u001b[0m         item\u001b[38;5;241m.\u001b[39mfilehandle,\n\u001b[0;32m    864\u001b[0m         ml,\n\u001b[0;32m    865\u001b[0m         ext_unit_dict\u001b[38;5;241m=\u001b[39mext_unit_dict,\n\u001b[0;32m    866\u001b[0m         check\u001b[38;5;241m=\u001b[39m\u001b[38;5;28;01mFalse\u001b[39;00m,\n\u001b[0;32m    867\u001b[0m     )\n\u001b[0;32m    868\u001b[0m \u001b[38;5;28;01melse\u001b[39;00m:\n\u001b[1;32m--> 869\u001b[0m     \u001b[43mitem\u001b[49m\u001b[38;5;241;43m.\u001b[39;49m\u001b[43mpackage\u001b[49m\u001b[38;5;241;43m.\u001b[39;49m\u001b[43mload\u001b[49m\u001b[43m(\u001b[49m\n\u001b[0;32m    870\u001b[0m \u001b[43m        \u001b[49m\u001b[43mitem\u001b[49m\u001b[38;5;241;43m.\u001b[39;49m\u001b[43mfilehandle\u001b[49m\u001b[43m,\u001b[49m\n\u001b[0;32m    871\u001b[0m \u001b[43m        \u001b[49m\u001b[43mml\u001b[49m\u001b[43m,\u001b[49m\n\u001b[0;32m    872\u001b[0m \u001b[43m        \u001b[49m\u001b[43mext_unit_dict\u001b[49m\u001b[38;5;241;43m=\u001b[39;49m\u001b[43mext_unit_dict\u001b[49m\u001b[43m,\u001b[49m\n\u001b[0;32m    873\u001b[0m \u001b[43m    \u001b[49m\u001b[43m)\u001b[49m\n\u001b[0;32m    874\u001b[0m files_successfully_loaded\u001b[38;5;241m.\u001b[39mappend(item\u001b[38;5;241m.\u001b[39mfilename)\n\u001b[0;32m    875\u001b[0m \u001b[38;5;28;01mif\u001b[39;00m ml\u001b[38;5;241m.\u001b[39mverbose:\n",
      "File \u001b[1;32mc:\\Users\\user\\anaconda3\\envs\\fontanili\\Lib\\site-packages\\flopy\\modflow\\mfsfr2.py:869\u001b[0m, in \u001b[0;36mModflowSfr2.load\u001b[1;34m(cls, f, model, nper, gwt, nsol, ext_unit_dict)\u001b[0m\n\u001b[0;32m    848\u001b[0m     numtab \u001b[38;5;241m=\u001b[39m options\u001b[38;5;241m.\u001b[39mnumtab \u001b[38;5;28;01mif\u001b[39;00m tabfiles \u001b[38;5;28;01melse\u001b[39;00m \u001b[38;5;241m0\u001b[39m\n\u001b[0;32m    850\u001b[0m \u001b[38;5;66;03m# item 1c\u001b[39;00m\n\u001b[0;32m    851\u001b[0m (\n\u001b[0;32m    852\u001b[0m     nstrm,\n\u001b[0;32m    853\u001b[0m     nss,\n\u001b[0;32m    854\u001b[0m     nsfrpar,\n\u001b[0;32m    855\u001b[0m     nparseg,\n\u001b[0;32m    856\u001b[0m     const,\n\u001b[0;32m    857\u001b[0m     dleak,\n\u001b[0;32m    858\u001b[0m     ipakcb,\n\u001b[0;32m    859\u001b[0m     istcb2,\n\u001b[0;32m    860\u001b[0m     isfropt,\n\u001b[0;32m    861\u001b[0m     nstrail,\n\u001b[0;32m    862\u001b[0m     isuzn,\n\u001b[0;32m    863\u001b[0m     nsfrsets,\n\u001b[0;32m    864\u001b[0m     irtflg,\n\u001b[0;32m    865\u001b[0m     numtim,\n\u001b[0;32m    866\u001b[0m     weight,\n\u001b[0;32m    867\u001b[0m     flwtol,\n\u001b[0;32m    868\u001b[0m     option,\n\u001b[1;32m--> 869\u001b[0m ) \u001b[38;5;241m=\u001b[39m \u001b[43m_parse_1c\u001b[49m\u001b[43m(\u001b[49m\u001b[43mline\u001b[49m\u001b[43m,\u001b[49m\u001b[43m \u001b[49m\u001b[43mreachinput\u001b[49m\u001b[38;5;241;43m=\u001b[39;49m\u001b[43mreachinput\u001b[49m\u001b[43m,\u001b[49m\u001b[43m \u001b[49m\u001b[43mtransroute\u001b[49m\u001b[38;5;241;43m=\u001b[39;49m\u001b[43mtransroute\u001b[49m\u001b[43m)\u001b[49m\n\u001b[0;32m    871\u001b[0m \u001b[38;5;66;03m# item 2\u001b[39;00m\n\u001b[0;32m    872\u001b[0m \u001b[38;5;66;03m# set column names, dtypes\u001b[39;00m\n\u001b[0;32m    873\u001b[0m names \u001b[38;5;241m=\u001b[39m _get_item2_names(nstrm, reachinput, isfropt, structured)\n",
      "File \u001b[1;32mc:\\Users\\user\\anaconda3\\envs\\fontanili\\Lib\\site-packages\\flopy\\modflow\\mfsfr2.py:3266\u001b[0m, in \u001b[0;36m_parse_1c\u001b[1;34m(line, reachinput, transroute)\u001b[0m\n\u001b[0;32m   3264\u001b[0m         numtim \u001b[38;5;241m=\u001b[39m \u001b[38;5;28mint\u001b[39m(line\u001b[38;5;241m.\u001b[39mpop(\u001b[38;5;241m0\u001b[39m))\n\u001b[0;32m   3265\u001b[0m         weight \u001b[38;5;241m=\u001b[39m \u001b[38;5;28mfloat\u001b[39m(line\u001b[38;5;241m.\u001b[39mpop(\u001b[38;5;241m0\u001b[39m))\n\u001b[1;32m-> 3266\u001b[0m         flwtol \u001b[38;5;241m=\u001b[39m \u001b[38;5;28mfloat\u001b[39m(\u001b[43mline\u001b[49m\u001b[38;5;241;43m.\u001b[39;49m\u001b[43mpop\u001b[49m\u001b[43m(\u001b[49m\u001b[38;5;241;43m0\u001b[39;49m\u001b[43m)\u001b[49m)\n\u001b[0;32m   3268\u001b[0m \u001b[38;5;66;03m# auxiliary variables (MODFLOW-LGR)\u001b[39;00m\n\u001b[0;32m   3269\u001b[0m option \u001b[38;5;241m=\u001b[39m [\n\u001b[0;32m   3270\u001b[0m     line[i]\n\u001b[0;32m   3271\u001b[0m     \u001b[38;5;28;01mfor\u001b[39;00m i \u001b[38;5;129;01min\u001b[39;00m np\u001b[38;5;241m.\u001b[39marange(\u001b[38;5;241m1\u001b[39m, \u001b[38;5;28mlen\u001b[39m(line))\n\u001b[0;32m   3272\u001b[0m     \u001b[38;5;28;01mif\u001b[39;00m \u001b[38;5;124m\"\u001b[39m\u001b[38;5;124maux\u001b[39m\u001b[38;5;124m\"\u001b[39m \u001b[38;5;129;01min\u001b[39;00m line[i \u001b[38;5;241m-\u001b[39m \u001b[38;5;241m1\u001b[39m]\u001b[38;5;241m.\u001b[39mlower()\n\u001b[0;32m   3273\u001b[0m ]\n",
      "\u001b[1;31mIndexError\u001b[0m: pop from empty list"
     ]
    }
   ],
   "source": [
    "#error when loading the sfr package\n",
    "mf = flopy.modflow.Modflow.load(\n",
    "        f = os.path.join(cwd, 'test_files', 'sfr_model_test', 'busca_sfr2.nam'),\n",
    "        # model_ws = os.path.join(cwd, 'test_files', 'sfr_model_test'),\n",
    "        # exe_name='MF2005',\n",
    "        # version = 'mf2005',\n",
    "        verbose = True\n",
    "        )"
   ]
  },
  {
   "cell_type": "markdown",
   "metadata": {},
   "source": [
    "### Store the flow at reach x\n",
    "\n",
    "Consider the outward flow of these two cells:\n",
    "- reach 72, segment 1\n",
    "- reach 1, segment 2"
   ]
  },
  {
   "cell_type": "markdown",
   "metadata": {},
   "source": [
    "## Other tests"
   ]
  },
  {
   "cell_type": "markdown",
   "metadata": {},
   "source": [
    "### Test: write .drn file autonomously without using flopy"
   ]
  },
  {
   "cell_type": "markdown",
   "metadata": {},
   "source": [
    "Riprovare con il pacchetto di flopy usando un numpy array invecedel dataframe\n",
    "\n",
    "\n",
    "Da qui stavo scrivendo write_file per scrivermi i dati\n",
    "https://flopy.readthedocs.io/en/latest/_modules/flopy/modflow/mfdrn.html#ModflowDrn.write_file\n",
    "\n",
    "stavo indagando come flopy gestisce lo stress_period_data (MFils o qualcosa)"
   ]
  },
  {
   "cell_type": "code",
   "execution_count": null,
   "metadata": {},
   "outputs": [
    {
     "data": {
      "text/plain": [
       "'         2         1'"
      ]
     },
     "metadata": {},
     "output_type": "display_data"
    }
   ],
   "source": [
    "ipakcb = 1\n",
    "line = f\"{2:10d}{ipakcb:10d}\"\n",
    "line"
   ]
  },
  {
   "cell_type": "code",
   "execution_count": null,
   "metadata": {},
   "outputs": [
    {
     "data": {
      "text/html": [
       "<div>\n",
       "<style scoped>\n",
       "    .dataframe tbody tr th:only-of-type {\n",
       "        vertical-align: middle;\n",
       "    }\n",
       "\n",
       "    .dataframe tbody tr th {\n",
       "        vertical-align: top;\n",
       "    }\n",
       "\n",
       "    .dataframe thead th {\n",
       "        text-align: right;\n",
       "    }\n",
       "</style>\n",
       "<table border=\"1\" class=\"dataframe\">\n",
       "  <thead>\n",
       "    <tr style=\"text-align: right;\">\n",
       "      <th></th>\n",
       "      <th>index</th>\n",
       "      <th>layer</th>\n",
       "      <th>row</th>\n",
       "      <th>column</th>\n",
       "      <th>stage</th>\n",
       "      <th>conductance</th>\n",
       "      <th>node</th>\n",
       "    </tr>\n",
       "  </thead>\n",
       "  <tbody>\n",
       "    <tr>\n",
       "      <th>0</th>\n",
       "      <td>0</td>\n",
       "      <td>1</td>\n",
       "      <td>46</td>\n",
       "      <td>51</td>\n",
       "      <td>124.838</td>\n",
       "      <td>0.0012</td>\n",
       "      <td>0</td>\n",
       "    </tr>\n",
       "    <tr>\n",
       "      <th>1</th>\n",
       "      <td>0</td>\n",
       "      <td>1</td>\n",
       "      <td>47</td>\n",
       "      <td>51</td>\n",
       "      <td>124.835</td>\n",
       "      <td>0.0018</td>\n",
       "      <td>0</td>\n",
       "    </tr>\n",
       "    <tr>\n",
       "      <th>2</th>\n",
       "      <td>0</td>\n",
       "      <td>1</td>\n",
       "      <td>48</td>\n",
       "      <td>51</td>\n",
       "      <td>124.832</td>\n",
       "      <td>0.0006</td>\n",
       "      <td>0</td>\n",
       "    </tr>\n",
       "    <tr>\n",
       "      <th>3</th>\n",
       "      <td>0</td>\n",
       "      <td>1</td>\n",
       "      <td>48</td>\n",
       "      <td>52</td>\n",
       "      <td>124.830</td>\n",
       "      <td>0.0024</td>\n",
       "      <td>0</td>\n",
       "    </tr>\n",
       "    <tr>\n",
       "      <th>4</th>\n",
       "      <td>0</td>\n",
       "      <td>1</td>\n",
       "      <td>49</td>\n",
       "      <td>52</td>\n",
       "      <td>124.824</td>\n",
       "      <td>0.0018</td>\n",
       "      <td>0</td>\n",
       "    </tr>\n",
       "    <tr>\n",
       "      <th>...</th>\n",
       "      <td>...</td>\n",
       "      <td>...</td>\n",
       "      <td>...</td>\n",
       "      <td>...</td>\n",
       "      <td>...</td>\n",
       "      <td>...</td>\n",
       "      <td>...</td>\n",
       "    </tr>\n",
       "    <tr>\n",
       "      <th>323</th>\n",
       "      <td>0</td>\n",
       "      <td>1</td>\n",
       "      <td>264</td>\n",
       "      <td>156</td>\n",
       "      <td>124.041</td>\n",
       "      <td>0.0012</td>\n",
       "      <td>0</td>\n",
       "    </tr>\n",
       "    <tr>\n",
       "      <th>324</th>\n",
       "      <td>0</td>\n",
       "      <td>1</td>\n",
       "      <td>265</td>\n",
       "      <td>156</td>\n",
       "      <td>124.035</td>\n",
       "      <td>0.0018</td>\n",
       "      <td>0</td>\n",
       "    </tr>\n",
       "    <tr>\n",
       "      <th>325</th>\n",
       "      <td>0</td>\n",
       "      <td>1</td>\n",
       "      <td>266</td>\n",
       "      <td>156</td>\n",
       "      <td>124.027</td>\n",
       "      <td>0.0018</td>\n",
       "      <td>0</td>\n",
       "    </tr>\n",
       "    <tr>\n",
       "      <th>326</th>\n",
       "      <td>0</td>\n",
       "      <td>1</td>\n",
       "      <td>266</td>\n",
       "      <td>157</td>\n",
       "      <td>124.023</td>\n",
       "      <td>0.0006</td>\n",
       "      <td>0</td>\n",
       "    </tr>\n",
       "    <tr>\n",
       "      <th>327</th>\n",
       "      <td>0</td>\n",
       "      <td>1</td>\n",
       "      <td>267</td>\n",
       "      <td>157</td>\n",
       "      <td>124.021</td>\n",
       "      <td>0.0006</td>\n",
       "      <td>0</td>\n",
       "    </tr>\n",
       "  </tbody>\n",
       "</table>\n",
       "<p>328 rows × 7 columns</p>\n",
       "</div>"
      ],
      "text/plain": [
       "     index layer  row column    stage  conductance node\n",
       "0        0     1   46     51  124.838       0.0012    0\n",
       "1        0     1   47     51  124.835       0.0018    0\n",
       "2        0     1   48     51  124.832       0.0006    0\n",
       "3        0     1   48     52  124.830       0.0024    0\n",
       "4        0     1   49     52  124.824       0.0018    0\n",
       "..     ...   ...  ...    ...      ...          ...  ...\n",
       "323      0     1  264    156  124.041       0.0012    0\n",
       "324      0     1  265    156  124.035       0.0018    0\n",
       "325      0     1  266    156  124.027       0.0018    0\n",
       "326      0     1  266    157  124.023       0.0006    0\n",
       "327      0     1  267    157  124.021       0.0006    0\n",
       "\n",
       "[328 rows x 7 columns]"
      ]
     },
     "metadata": {},
     "output_type": "display_data"
    }
   ],
   "source": [
    "heading = '# DRN package for MODFLOW-2005 generated by paolchol'\n",
    "n_drain_cells = drn.shape[0]\n",
    "ipakcb = 50\n",
    "\n",
    "\n",
    "with open(os.path.join(cwd, 'drn_input_file_test.drn'), 'w') as file:\n",
    "    file.write(f\"{heading}\\n\")\n",
    "    line = f\"{n_drain_cells:10d}{ipakcb:10d}\"\n",
    "    # for opt in self.options:\n",
    "        # line += \" \" + str(opt)\n",
    "    line += \"\\n\"\n",
    "    file.write(line)\n",
    "\n",
    "    # for row in drn.iterrows():\n",
    "    #     file.writelines(row)"
   ]
  }
 ],
 "metadata": {
  "kernelspec": {
   "display_name": "fontanili",
   "language": "python",
   "name": "python3"
  },
  "language_info": {
   "codemirror_mode": {
    "name": "ipython",
    "version": 3
   },
   "file_extension": ".py",
   "mimetype": "text/x-python",
   "name": "python",
   "nbconvert_exporter": "python",
   "pygments_lexer": "ipython3",
   "version": "3.13.0"
  }
 },
 "nbformat": 4,
 "nbformat_minor": 2
}
