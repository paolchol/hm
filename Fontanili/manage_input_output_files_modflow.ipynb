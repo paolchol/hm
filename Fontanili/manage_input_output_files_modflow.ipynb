{
 "cells": [
  {
   "cell_type": "markdown",
   "metadata": {},
   "source": [
    "# Semi-automatization of DRN and SFR sensitivity analysis/calibration\n",
    "\n",
    "**Worflow**\\\n",
    "DRN\n",
    "1. Load .drn file - *completed*\n",
    "2. Change the conductance of the cells - *completed*\n",
    "3. Write the .drn file - *completed*\n",
    "4. Run the model - *in progress*\n",
    "5. Read .cbb file\n",
    "6. Store the outflow data of the first X cells\n",
    "7. Put the process in a loop over a range of parameters\n",
    "\n",
    "SFR\n",
    "1. Load .sfr file - *in progress*\n",
    "2. Change the hydraulic conductivity of the cells\n",
    "3. Write the .sfr file\n",
    "4. Run the model\n",
    "5. Read streamflow.dat file\n",
    "6. Store the flux data of cell at reach X\n",
    "7. Put the process in a loop over a range of parameters"
   ]
  },
  {
   "cell_type": "markdown",
   "metadata": {},
   "source": [
    "## Setup"
   ]
  },
  {
   "cell_type": "code",
   "execution_count": 1,
   "metadata": {},
   "outputs": [],
   "source": [
    "import flopy\n",
    "import flopy.utils.binaryfile as bf\n",
    "import glob\n",
    "import numpy as np\n",
    "import os\n",
    "import pandas as pd\n",
    "\n",
    "#check if the below lines are still useful at the end\n",
    "import sys\n",
    "from pprint import pformat\n",
    "from tempfile import TemporaryDirectory"
   ]
  },
  {
   "cell_type": "code",
   "execution_count": 2,
   "metadata": {},
   "outputs": [],
   "source": [
    "# cwd = \"C:/Users/user/OneDrive - Politecnico di Milano/hydrogeo-modelling/TEAM_Idrogeo/Tesi/Tesi_Ceola_Pirovano/Tesi_Pirovano/busca_drain_start\"\n",
    "cwd = os.getcwd()"
   ]
  },
  {
   "cell_type": "code",
   "execution_count": 3,
   "metadata": {},
   "outputs": [],
   "source": [
    "def import_input_file(path):\n",
    "    f = open(path).readlines()\n",
    "    df = pd.DataFrame()\n",
    "    for row in f[4:]:\n",
    "        r = list(filter(None, row.split(' ')))\n",
    "        df = pd.concat([df, pd.DataFrame(r).transpose()])\n",
    "    df.columns = ['layer', 'row', 'column', 'stage', 'conductance', 'node']\n",
    "    df.node = df.node.str.removesuffix('\\n')\n",
    "    df.layer = df.layer.astype('int')\n",
    "    df.row = df.row.astype('int')\n",
    "    df.column = df.column.astype('int')\n",
    "    df.stage = df.stage.astype('float')\n",
    "    df.conductance = df.conductance.astype('float')\n",
    "    df.reset_index(inplace=True, drop = True)\n",
    "    return df"
   ]
  },
  {
   "cell_type": "markdown",
   "metadata": {},
   "source": [
    "## DRAIN"
   ]
  },
  {
   "cell_type": "markdown",
   "metadata": {},
   "source": [
    "### Load .drn file"
   ]
  },
  {
   "cell_type": "code",
   "execution_count": 4,
   "metadata": {},
   "outputs": [
    {
     "data": {
      "text/html": [
       "<div>\n",
       "<style scoped>\n",
       "    .dataframe tbody tr th:only-of-type {\n",
       "        vertical-align: middle;\n",
       "    }\n",
       "\n",
       "    .dataframe tbody tr th {\n",
       "        vertical-align: top;\n",
       "    }\n",
       "\n",
       "    .dataframe thead th {\n",
       "        text-align: right;\n",
       "    }\n",
       "</style>\n",
       "<table border=\"1\" class=\"dataframe\">\n",
       "  <thead>\n",
       "    <tr style=\"text-align: right;\">\n",
       "      <th></th>\n",
       "      <th>layer</th>\n",
       "      <th>row</th>\n",
       "      <th>column</th>\n",
       "      <th>stage</th>\n",
       "      <th>conductance</th>\n",
       "      <th>node</th>\n",
       "    </tr>\n",
       "  </thead>\n",
       "  <tbody>\n",
       "    <tr>\n",
       "      <th>0</th>\n",
       "      <td>1</td>\n",
       "      <td>46</td>\n",
       "      <td>51</td>\n",
       "      <td>124.838</td>\n",
       "      <td>0.012</td>\n",
       "      <td>0</td>\n",
       "    </tr>\n",
       "    <tr>\n",
       "      <th>1</th>\n",
       "      <td>1</td>\n",
       "      <td>47</td>\n",
       "      <td>51</td>\n",
       "      <td>124.835</td>\n",
       "      <td>0.018</td>\n",
       "      <td>0</td>\n",
       "    </tr>\n",
       "    <tr>\n",
       "      <th>2</th>\n",
       "      <td>1</td>\n",
       "      <td>48</td>\n",
       "      <td>51</td>\n",
       "      <td>124.832</td>\n",
       "      <td>0.006</td>\n",
       "      <td>0</td>\n",
       "    </tr>\n",
       "    <tr>\n",
       "      <th>3</th>\n",
       "      <td>1</td>\n",
       "      <td>48</td>\n",
       "      <td>52</td>\n",
       "      <td>124.830</td>\n",
       "      <td>0.024</td>\n",
       "      <td>0</td>\n",
       "    </tr>\n",
       "    <tr>\n",
       "      <th>4</th>\n",
       "      <td>1</td>\n",
       "      <td>49</td>\n",
       "      <td>52</td>\n",
       "      <td>124.824</td>\n",
       "      <td>0.018</td>\n",
       "      <td>0</td>\n",
       "    </tr>\n",
       "  </tbody>\n",
       "</table>\n",
       "</div>"
      ],
      "text/plain": [
       "   layer  row  column    stage  conductance node\n",
       "0      1   46      51  124.838        0.012    0\n",
       "1      1   47      51  124.835        0.018    0\n",
       "2      1   48      51  124.832        0.006    0\n",
       "3      1   48      52  124.830        0.024    0\n",
       "4      1   49      52  124.824        0.018    0"
      ]
     },
     "execution_count": 4,
     "metadata": {},
     "output_type": "execute_result"
    }
   ],
   "source": [
    "# Load .drn file\n",
    "drn = import_input_file(os.path.join(cwd, 'test_files', 'busca_drain.drn'))\n",
    "drn.head()"
   ]
  },
  {
   "cell_type": "code",
   "execution_count": 5,
   "metadata": {},
   "outputs": [],
   "source": [
    "# Load DRAIN cells characteristics\n",
    "drn_sp = pd.read_csv(os.path.join(cwd, 'test_files', 'busca_drain_specifiche_celle.csv'))"
   ]
  },
  {
   "cell_type": "code",
   "execution_count": 14,
   "metadata": {},
   "outputs": [],
   "source": [
    "# Compute the conductance of each cell for a given hydraulic conductivity\n",
    "# Change the conductance column\n",
    "k = 0.00001444444444444 #hydraulic conductivity\n",
    "conductance_change = (k*drn_sp.Width*drn_sp.Length)/drn_sp.Thickness\n",
    "drn.conductance = conductance_change\n",
    "# drn"
   ]
  },
  {
   "cell_type": "markdown",
   "metadata": {},
   "source": [
    "### Write .drn file using flopy\n",
    "\n",
    "**bug found:** the layer gets put equal to 2 instead of 1\n",
    "- the problem is not in the stress_period_data table passed to drn\n",
    "- check stress_period_data.write_transient method\n",
    "- couldn't figure it out, so found a way out: set drn.layer = 0\n",
    "- drn_input_file_test_v4.drn works"
   ]
  },
  {
   "cell_type": "code",
   "execution_count": 8,
   "metadata": {},
   "outputs": [],
   "source": [
    "modelpth = os.path.join(cwd, 'test_files')\n",
    "\n",
    "# create the model class (only useful because it's needed by ModflowDrn class)\n",
    "# this can be replaced by loading the actual model .nam file (not needed though)\n",
    "mf = flopy.modflow.Modflow(\n",
    "     \"drn_test\",\n",
    "    model_ws = modelpth,\n",
    "    exe_name = \"mf2005\",\n",
    ")"
   ]
  },
  {
   "cell_type": "code",
   "execution_count": 9,
   "metadata": {},
   "outputs": [],
   "source": [
    "# transform the drn structure in the flopy required format for \"stress_period_data\"\n",
    "drn.layer = 0\n",
    "stress_period_data = {0: drn.iloc[:, :-1].to_numpy().tolist()} #remove node column, not needed nor supported by flopy's ModflowDrn class"
   ]
  },
  {
   "cell_type": "code",
   "execution_count": 10,
   "metadata": {},
   "outputs": [],
   "source": [
    "#generate the drn package inside the flopy class\n",
    "ipakcb = 50 #code for cell-by-cell flow data storage\n",
    "drain = flopy.modflow.ModflowDrn(mf, ipakcb=ipakcb, stress_period_data=stress_period_data,\n",
    "                                 filenames=os.path.join(cwd, 'test_files', 'drn_input_file_test_v5.drn'))\n",
    "drain.write_file(check = False)"
   ]
  },
  {
   "cell_type": "markdown",
   "metadata": {},
   "source": [
    "### Test: Run the model"
   ]
  },
  {
   "cell_type": "code",
   "execution_count": null,
   "metadata": {},
   "outputs": [],
   "source": [
    "# trial: run from flopy\n",
    "\n",
    "# load the existing model busca_drain\n",
    "# https://flopy.readthedocs.io/en/3.3.2/source/flopy.modflow.mf.html\n",
    "\n",
    "mf = flopy.modflow.Modflow.load(\n",
    "        os.path.join(cwd, 'test_files', 'drain_model_test', 'busca_drain.nam'),\n",
    "        model_ws = os.path.join(cwd, 'test_files', 'drain_model_test'),\n",
    "        exe_name='MF2005',\n",
    "        version = 'mf2005',\n",
    "        verbose = False\n",
    "        )"
   ]
  },
  {
   "cell_type": "code",
   "execution_count": null,
   "metadata": {},
   "outputs": [],
   "source": [
    "# drn stress period data can be accessed by:\n",
    "mf.drn.stress_period_data.data"
   ]
  },
  {
   "cell_type": "code",
   "execution_count": null,
   "metadata": {},
   "outputs": [],
   "source": [
    "# this works\n",
    "success, buff = flopy.mbase.run_model(\n",
    "                exe_name = os.path.join(cwd, 'test_files', 'drain_model_test','MF2005.exe'),\n",
    "                namefile = 'busca_drain.nam',\n",
    "                model_ws = os.path.join(cwd, 'test_files', 'drain_model_test')\n",
    "                )\n",
    "if not success:\n",
    "    raise Exception(\"MODFLOW did not terminate normally.\")"
   ]
  },
  {
   "cell_type": "markdown",
   "metadata": {},
   "source": [
    "### Read .cbb output file\n",
    "\n",
    "class CellBudgetFile\\\n",
    "https://flopy.readthedocs.io/en/latest/source/flopy.utils.binaryfile.html\n",
    "\n",
    "The outflow will have to be considered until cell:\n",
    "- row 92, column 76 (last cell of first segment)\n",
    "Check if any substantial change in outflow happen if considering:\n",
    "- row 93, column 76 (first cell of second segment)"
   ]
  },
  {
   "cell_type": "code",
   "execution_count": null,
   "metadata": {},
   "outputs": [],
   "source": [
    "#get drain values from cbb output\n",
    "cbb = bf.CellBudgetFile(os.path.join(cwd, 'test_files', 'drain_model_test', 'busca_drain.cbb'))\n",
    "drain = cbb.get_data(text = 'DRAINS')\n",
    "\n",
    "# get all the cells until 92, 76 & sum the flux extracted from drain[0]\n",
    "row_limit = 92\n",
    "column_limit = 76\n",
    "sum_drain = np.sum(drain[0][0, :row_limit+1, :column_limit+1])\n",
    "sum_drain"
   ]
  },
  {
   "cell_type": "markdown",
   "metadata": {},
   "source": [
    "### LOOP"
   ]
  },
  {
   "cell_type": "code",
   "execution_count": null,
   "metadata": {},
   "outputs": [],
   "source": [
    "#Setup\n",
    "#Import all necessary packages\n",
    "import flopy\n",
    "import flopy.utils.binaryfile as bf\n",
    "import glob\n",
    "import numpy as np\n",
    "import os\n",
    "import pandas as pd\n",
    "import sys\n",
    "from pprint import pformat\n",
    "from tempfile import TemporaryDirectory\n",
    "\n",
    "#Define working directory \n",
    "cwd = os.getcwd()   #where test files are stored (github)\n",
    "# cwd_model = \"d:/Claudia/MAURICE/test_models/\"  #where model files are stored (local)\n",
    "\n",
    "# Function to load .drn file directly\n",
    "def import_input_file(path):\n",
    "    f = open(path).readlines()\n",
    "    df = pd.DataFrame()\n",
    "    for row in f[4:]:\n",
    "        r = list(filter(None, row.split(' ')))\n",
    "        df = pd.concat([df, pd.DataFrame(r).transpose()])\n",
    "    df.columns = ['layer', 'row', 'column', 'stage', 'conductance', 'node']\n",
    "    df.node = df.node.str.removesuffix('\\n')\n",
    "    df.layer = df.layer.astype('int')\n",
    "    df.row = df.row.astype('int')\n",
    "    df.column = df.column.astype('int')\n",
    "    df.stage = df.stage.astype('float')\n",
    "    df.conductance = df.conductance.astype('float')\n",
    "    df.reset_index(inplace=True, drop = True)\n",
    "    return df\n",
    "\n",
    "# Load original .drn file, load DRAIN cells characteristics and\n",
    "# transform the drn structure in flopy (required format for \"stress_period_data\")\n",
    "drn = import_input_file(os.path.join(cwd, 'test_files', 'busca_drain.drn'))\n",
    "drn_sp = pd.read_csv(os.path.join(cwd, 'test_files', 'busca_drain_specifiche_celle.csv'))\n",
    "drn.layer = 0\n",
    "\n",
    "# Create and load the model class (only useful because it's needed by ModflowDrn class)\n",
    "# this can be replaced by loading the actual model .nam file (not needed though)\n",
    "modelpth = os.path.join(cwd, 'test_files', 'drain_model_test') #path to model\n",
    "# mf = flopy.modflow.Modflow(\n",
    "#     \"busca_drain\",\n",
    "#     model_ws = os.path.join(cwd_model, 'drain_model_test'),\n",
    "#     exe_name = \"mf2005\",\n",
    "# )\n",
    "mf = flopy.modflow.Modflow.load(\n",
    "    os.path.join(cwd, 'test_files', 'drain_model_test', 'busca_drain.nam'),\n",
    "    model_ws = os.path.join(cwd, 'test_files', 'drain_model_test'),\n",
    "    exe_name='MF2005',\n",
    "    version = 'mf2005',\n",
    "    verbose = False\n",
    "    )\n",
    "'''\n",
    "START OF LOOP\n",
    "'''\n",
    "# Define limits of hydraulic conductivity range and number of iterations\n",
    "ki = 0.01\n",
    "kf = 0.000001\n",
    "n = 10 #10 to test the code, then switch to 100\n",
    "step = np.linspace(ki,kf,n)\n",
    "inputs = []\n",
    "outputs = []\n",
    "\n",
    "ipakcb = 50 #code for cell-by-cell flow data storage\n",
    "\n",
    "# Loop to change conductance in the drain package, run the model and extract cbb results\n",
    "for i in range(n):\n",
    "    k = step[i]\n",
    "    #change conductance\n",
    "    conductance_change = (k*drn_sp.Width*drn_sp.Length)/drn_sp.Thickness\n",
    "    drn.conductance = conductance_change\n",
    "    stress_period_data = {0: drn.iloc[:, :-1].to_numpy().tolist()} #remove node column, not needed nor supported by flopy's ModflowDrn class\n",
    "\n",
    "    #generate the drn package inside the flopy class\n",
    "    drain = flopy.modflow.ModflowDrn(mf, ipakcb=ipakcb, stress_period_data=stress_period_data,\n",
    "                                 filenames=os.path.join(cwd, 'test_files', 'drain_model_test', 'busca_drain.drn'))\n",
    "    drain.write_file(check = False)\n",
    "    \n",
    "    #run the model\n",
    "    success, buff = mf.run_model(silent=False) #False to test the code, then switch to True\n",
    "    if not success:\n",
    "        raise Exception(\"MODFLOW did not terminate normally.\")\n",
    "    \n",
    "    #get drain values from cbb output\n",
    "    cbb = bf.CellBudgetFile(os.path.join(cwd, 'test_files', 'drain_model_test', 'busca_drain.cbb'))\n",
    "    drain = cbb.get_data(text = 'DRAINS')\n",
    "\n",
    "    # get all the cells until 92, 76 & sum the flux extracted from drain[0]\n",
    "    row_limit = 92\n",
    "    column_limit = 76\n",
    "    sum_drain = np.sum(drain[0][0, :row_limit+1, :column_limit+1])\n",
    "\n",
    "    # Append the input and output to lists\n",
    "    inputs.append(k)\n",
    "    outputs.append(sum_drain)\n",
    "\n",
    "    #print(k)\n",
    "\n",
    "#save to dataframe and export\n",
    "df_results = pd.DataFrame({'k_value': inputs, 'drain_results': outputs})\n",
    "df_results.to_excel(os.path.join(cwd, 'test_files','results.xlsx'))"
   ]
  },
  {
   "cell_type": "markdown",
   "metadata": {},
   "source": [
    "## SFR"
   ]
  },
  {
   "cell_type": "markdown",
   "metadata": {},
   "source": [
    "### Test: load .sfr file\n",
    "\n",
    "The .sfr file is multi structured:\n",
    "- the above section has a structure similar to .drn\n",
    "- in the last section, the structure is different: there is the info about the segments\n",
    "- width and manning coefficient are defined in the segment section\n",
    "- length, slope, bed thickness and bed hydraulic conductivity are defined in the first section\n",
    "try to use flopy to load the model and then modify the sfr parameters directly from there\n",
    "\n",
    "I had issues in loading the .sfr file through **ModflowSfr2.load()**\\\n",
    "- the file was structured as SFR2 input file, and the function didn't recognize it\n",
    "- so we changed the input file structure to SFR1 from GWV\n",
    "- now the file is correctly loaded\n",
    "\n",
    "Once the file is loaded through ModflowSfr2.load(), it contains, among other things:\n",
    "- **sfr.reach_data**: access the characteristics of the reaches\n",
    "- **sfr.segment_data**: access the characteristics of the segments"
   ]
  },
  {
   "cell_type": "code",
   "execution_count": 46,
   "metadata": {},
   "outputs": [],
   "source": [
    "# Load SFR package\n",
    "m = flopy.modflow.Modflow()\n",
    "f = os.path.join(cwd, 'test_files', 'sfr_model_test', 'test_sfr1_input', 'busca_sfr2_tp_start.sfr')\n",
    "\n",
    "sfr = flopy.modflow.ModflowSfr2.load(f, m, gwt =True)"
   ]
  },
  {
   "cell_type": "code",
   "execution_count": 47,
   "metadata": {},
   "outputs": [],
   "source": [
    "# Modify k\n",
    "# In this configuration: equal k to all segments. We could also provide different k to the segments\n",
    "k = 0.005\n",
    "sfr.segment_data[0].hcond1 = [k for i in range(7)]\n",
    "sfr.segment_data[0].hcond2 = [k for i in range(7)]"
   ]
  },
  {
   "cell_type": "code",
   "execution_count": 15,
   "metadata": {},
   "outputs": [],
   "source": [
    "# Write the file\n",
    "sfr.write_file(os.path.join(cwd, 'test_files', 'sfr_model_test', 'test_sfr1_input', 'busca_sfr2_tp.sfr'))"
   ]
  },
  {
   "cell_type": "markdown",
   "metadata": {},
   "source": [
    "slope is 0!!!!\\\n",
    "it doesn't get saved into the .sfr file if SFR input file is set equal to SFR1 (NRSTM = 0)\\\n",
    "so, try to load the file in the other format\\\n",
    "try to load .sfr manually, get the parameters needed, then save them"
   ]
  },
  {
   "cell_type": "code",
   "execution_count": 17,
   "metadata": {},
   "outputs": [],
   "source": [
    "# set isfropt to 1\n",
    "m = flopy.modflow.Modflow()\n",
    "f = os.path.join(cwd, 'test_files', 'sfr_model_test', 'busca_sfr2.sfr')\n",
    "\n",
    "sfr = flopy.modflow.ModflowSfr2(m, isfropt = 1)\n",
    "\n",
    "# sfr = flopy.modflow.ModflowSfr2.load(f, m, gwt =True)"
   ]
  },
  {
   "cell_type": "code",
   "execution_count": 19,
   "metadata": {},
   "outputs": [],
   "source": [
    "# sfr.load(f, m, nper = 50)\n",
    "\n",
    "#check file format\n",
    "#be sure of the parameters set to sfr in gwv\n",
    "\n",
    "#export as txt or shape\n",
    "#import in flopy\n",
    "#create the sfr package from the sfr2 class"
   ]
  },
  {
   "cell_type": "markdown",
   "metadata": {},
   "source": [
    "# clean the script"
   ]
  },
  {
   "cell_type": "code",
   "execution_count": 10,
   "metadata": {},
   "outputs": [
    {
     "data": {
      "text/plain": [
       "['ITEM1', 'ITEM2', 'ITEM5', 'ITEM6a', 'ITEM6b', 'ITEM6c']"
      ]
     },
     "execution_count": 10,
     "metadata": {},
     "output_type": "execute_result"
    }
   ],
   "source": [
    "xls = pd.ExcelFile(os.path.join(cwd, 'test_files', 'busca_sfr2_sfr_data.xlsx'))\n",
    "items = xls.sheet_names\n",
    "items"
   ]
  },
  {
   "cell_type": "code",
   "execution_count": 91,
   "metadata": {},
   "outputs": [],
   "source": [
    "# load reach data (item 2)\n",
    "reach_data = pd.read_excel(os.path.join(cwd, 'test_files', 'busca_sfr2_sfr_data.xlsx'), sheet_name = 'ITEM2')\n",
    "reach_data = reach_data.apply(pd.to_numeric)\n",
    "reach_data.columns = [x.lower() for x in reach_data.columns]\n",
    "\n",
    "reach_data.columns = ['k', 'i', 'j', 'iseg', 'ireach', 'rchlen', 'strtop', 'slope',  'strthick',  'strhc1']\n",
    "\n",
    "# load segment data (item 6a)\n",
    "segment_data = pd.read_excel(os.path.join(cwd, 'test_files', 'busca_sfr2_sfr_data_v2.xlsx'), sheet_name = 'ITEM6abc')\n",
    "segment_data.columns = [x.lower() for x in segment_data.columns]\n",
    "\n",
    "reach_data = reach_data.loc[:,:].to_records(index = False)\n",
    "segment_data = segment_data.loc[:,:].to_records(index = False)\n",
    "segment_data = {0: segment_data}"
   ]
  },
  {
   "cell_type": "code",
   "execution_count": 94,
   "metadata": {},
   "outputs": [],
   "source": [
    "m = flopy.modflow.Modflow()"
   ]
  },
  {
   "cell_type": "code",
   "execution_count": 69,
   "metadata": {},
   "outputs": [
    {
     "data": {
      "text/html": [
       "<div>\n",
       "<style scoped>\n",
       "    .dataframe tbody tr th:only-of-type {\n",
       "        vertical-align: middle;\n",
       "    }\n",
       "\n",
       "    .dataframe tbody tr th {\n",
       "        vertical-align: top;\n",
       "    }\n",
       "\n",
       "    .dataframe thead th {\n",
       "        text-align: right;\n",
       "    }\n",
       "</style>\n",
       "<table border=\"1\" class=\"dataframe\">\n",
       "  <thead>\n",
       "    <tr style=\"text-align: right;\">\n",
       "      <th></th>\n",
       "      <th>NSTRM</th>\n",
       "      <th>NSS</th>\n",
       "      <th>NSFRPAR</th>\n",
       "      <th>NPARSEG</th>\n",
       "      <th>CONST</th>\n",
       "      <th>DLEAK</th>\n",
       "      <th>ISTCB1</th>\n",
       "      <th>ISTCB2</th>\n",
       "      <th>ISFROPT</th>\n",
       "      <th>NOTSURE1</th>\n",
       "      <th>NOTSURE2</th>\n",
       "      <th>NOTSURE3</th>\n",
       "    </tr>\n",
       "  </thead>\n",
       "  <tbody>\n",
       "    <tr>\n",
       "      <th>0</th>\n",
       "      <td>-328</td>\n",
       "      <td>7</td>\n",
       "      <td>0</td>\n",
       "      <td>0</td>\n",
       "      <td>1</td>\n",
       "      <td>0.0001</td>\n",
       "      <td>50</td>\n",
       "      <td>54</td>\n",
       "      <td>1</td>\n",
       "      <td>10</td>\n",
       "      <td>1</td>\n",
       "      <td>30</td>\n",
       "    </tr>\n",
       "  </tbody>\n",
       "</table>\n",
       "</div>"
      ],
      "text/plain": [
       "   NSTRM  NSS  NSFRPAR  NPARSEG  CONST   DLEAK  ISTCB1  ISTCB2  ISFROPT  \\\n",
       "0   -328    7        0        0      1  0.0001      50      54        1   \n",
       "\n",
       "   NOTSURE1  NOTSURE2  NOTSURE3  \n",
       "0        10         1        30  "
      ]
     },
     "execution_count": 69,
     "metadata": {},
     "output_type": "execute_result"
    }
   ],
   "source": [
    "pd.read_excel(os.path.join(cwd, 'test_files', 'busca_sfr2_sfr_data.xlsx'), sheet_name = 'ITEM1')"
   ]
  },
  {
   "cell_type": "code",
   "execution_count": null,
   "metadata": {},
   "outputs": [],
   "source": [
    "nstrm = -len(reach_data)  # number of reaches\n",
    "nss = len(segment_data[0])  # number of segments\n",
    "nsfrpar = 0  # number of parameters (not supported)\n",
    "nparseg = 0\n",
    "const = 1  # constant for manning's equation: 1 for m/s\n",
    "dleak = 0.0001  # closure tolerance for stream stage computation\n",
    "ipakcb = 50  # flag for writing SFR output to cell-by-cell budget (on unit 53)\n",
    "istcb2 = 54  # flag for writing SFR output to text file\n",
    "dataset_5 = {0: [nss, 0, 0, 0]}  # dataset 5 (see online guide)\n",
    "\n",
    "sfr = flopy.modflow.ModflowSfr2(\n",
    "    m,\n",
    "    nstrm=nstrm,\n",
    "    nss=nss,\n",
    "    const=const,\n",
    "    dleak=dleak,\n",
    "    ipakcb=ipakcb,\n",
    "    istcb2=istcb2,\n",
    "    reach_data=reach_data,\n",
    "    segment_data=segment_data,\n",
    "    dataset_5=dataset_5,\n",
    "    unit_number=15,\n",
    "    isfropt = 1\n",
    ")\n",
    "\n",
    "sfr.write_file(os.path.join(cwd, 'sfr_test_input.sfr'))"
   ]
  },
  {
   "cell_type": "code",
   "execution_count": null,
   "metadata": {},
   "outputs": [],
   "source": []
  },
  {
   "cell_type": "code",
   "execution_count": null,
   "metadata": {},
   "outputs": [],
   "source": []
  },
  {
   "cell_type": "code",
   "execution_count": null,
   "metadata": {},
   "outputs": [],
   "source": [
    "# https://flopy.readthedocs.io/en/stable/Notebooks/mf6_sfr_tutorial01.html"
   ]
  },
  {
   "cell_type": "code",
   "execution_count": 89,
   "metadata": {},
   "outputs": [],
   "source": [
    "test = np.genfromtxt(os.path.join(cwd, 'test_files', 'test1ss_segment_data.csv'), delimiter=',', names=True)\n"
   ]
  },
  {
   "cell_type": "code",
   "execution_count": 90,
   "metadata": {},
   "outputs": [
    {
     "data": {
      "text/plain": [
       "array([(1., 4., 2., 0., 11.,  25., 0.   , 0.   , 0.        , 0.        , 0.        , 0.        , 2.99999992e-05, 3., 1095.,  0., 0., 2.99999992e-05, 3., 1075.,  0., 0.),\n",
       "       (2., 1., 6., 0.,  0.,   0., 0.03 , 0.   , 0.        , 0.        , 0.        , 0.        , 2.99999992e-05, 3., 1075., 12., 0., 2.99999992e-05, 3., 1050., 12., 0.),\n",
       "       (3., 0., 5., 1.,  0.,  10., 0.   , 0.   , 0.        , 0.        , 0.        , 0.        , 2.99999992e-05, 2., 1075., 10., 2., 2.99999992e-05, 2., 1060.,  6., 1.),\n",
       "       (4., 1., 5., 0.,  0.,  10., 0.03 , 0.   , 0.        , 0.        , 0.        , 0.        , 2.99999992e-05, 3., 1080., 10., 0., 2.99999992e-05, 3., 1060., 10., 0.),\n",
       "       (5., 3., 6., 0.,  0.,   0., 0.   , 0.   , 0.30000001, 0.34999999, 3.79999995, 0.60000002, 2.99999992e-05, 3., 1060.,  0., 0., 2.99999992e-05, 3., 1045.,  0., 0.),\n",
       "       (6., 1., 8., 0.,  0.,   0., 0.03 , 0.   , 0.        , 0.        , 0.        , 0.        , 2.99999992e-05, 3., 1045., 12., 0., 2.99999992e-05, 3., 1025., 12., 0.),\n",
       "       (7., 2., 8., 0.,  0., 150., 0.025, 0.045, 0.        , 0.        , 0.        , 0.        , 5.99999985e-05, 3., 1040.,  0., 0., 5.99999985e-05, 3., 1025.,  0., 0.),\n",
       "       (8., 2., 0., 0.,  0.,   0., 0.025, 0.045, 0.        , 0.        , 0.        , 0.        , 5.99999985e-05, 3., 1025.,  0., 0., 5.99999985e-05, 3.,  990.,  0., 0.)],\n",
       "      dtype=[('nseg', '<f8'), ('icalc', '<f8'), ('outseg', '<f8'), ('iupseg', '<f8'), ('nstrpts', '<f8'), ('flow', '<f8'), ('roughch', '<f8'), ('roughbk', '<f8'), ('cdpth', '<f8'), ('fdpth', '<f8'), ('awdth', '<f8'), ('bwdth', '<f8'), ('hcond1', '<f8'), ('thickm1', '<f8'), ('elevup', '<f8'), ('width1', '<f8'), ('depth1', '<f8'), ('hcond2', '<f8'), ('thickm2', '<f8'), ('elevdn', '<f8'), ('width2', '<f8'), ('depth2', '<f8')])"
      ]
     },
     "execution_count": 90,
     "metadata": {},
     "output_type": "execute_result"
    }
   ],
   "source": [
    "test"
   ]
  },
  {
   "cell_type": "markdown",
   "metadata": {},
   "source": [
    "### Run the model"
   ]
  },
  {
   "cell_type": "code",
   "execution_count": 16,
   "metadata": {},
   "outputs": [
    {
     "name": "stdout",
     "output_type": "stream",
     "text": [
      "FloPy is using the following executable to run the model: MF2005.exe\n",
      "\n",
      "                                  MODFLOW-2005     \n",
      "    U.S. GEOLOGICAL SURVEY MODULAR FINITE-DIFFERENCE GROUND-WATER FLOW MODEL\n",
      "                             Version 1.11.00 8/8/2013                        \n",
      "\n",
      " Using NAME file: busca_sfr2_tp.nam \n",
      " Run start date and time (yyyy/mm/dd hh:mm:ss): 2024/11/06  9:00:33\n",
      "\n",
      " Solving:  Stress period:     1    Time step:     1    Ground-Water Flow Eqn.\n",
      " Run end date and time (yyyy/mm/dd hh:mm:ss): 2024/11/06  9:00:34\n",
      " Elapsed run time:  1.406 Seconds\n",
      "\n",
      "  Normal termination of simulation\n"
     ]
    }
   ],
   "source": [
    "success, buff = flopy.mbase.run_model(\n",
    "                exe_name = os.path.join(cwd, 'test_files', 'sfr_model_test', 'test_sfr1_input', 'MF2005.exe'),\n",
    "                namefile = 'busca_sfr2_tp.nam',\n",
    "                model_ws = os.path.join(cwd, 'test_files', 'sfr_model_test', 'test_sfr1_input')\n",
    "                )\n",
    "if not success:\n",
    "    raise Exception(\"MODFLOW did not terminate normally.\")"
   ]
  },
  {
   "cell_type": "markdown",
   "metadata": {},
   "source": [
    "### Store the flow at reach x\n",
    "\n",
    "Consider the outward flow of these two cells:\n",
    "- reach 72, segment 1\n",
    "- reach 1, segment 2"
   ]
  },
  {
   "cell_type": "code",
   "execution_count": null,
   "metadata": {},
   "outputs": [],
   "source": [
    "# load streamflow.dat\n"
   ]
  },
  {
   "cell_type": "markdown",
   "metadata": {},
   "source": [
    "## Other tests"
   ]
  },
  {
   "cell_type": "markdown",
   "metadata": {},
   "source": [
    "### Test: write .drn file autonomously without using flopy"
   ]
  },
  {
   "cell_type": "markdown",
   "metadata": {},
   "source": [
    "Riprovare con il pacchetto di flopy usando un numpy array invecedel dataframe\n",
    "\n",
    "\n",
    "Da qui stavo scrivendo write_file per scrivermi i dati\n",
    "https://flopy.readthedocs.io/en/latest/_modules/flopy/modflow/mfdrn.html#ModflowDrn.write_file\n",
    "\n",
    "stavo indagando come flopy gestisce lo stress_period_data (MFils o qualcosa)"
   ]
  },
  {
   "cell_type": "code",
   "execution_count": null,
   "metadata": {},
   "outputs": [],
   "source": [
    "ipakcb = 1\n",
    "line = f\"{2:10d}{ipakcb:10d}\"\n",
    "line"
   ]
  },
  {
   "cell_type": "code",
   "execution_count": null,
   "metadata": {},
   "outputs": [],
   "source": [
    "heading = '# DRN package for MODFLOW-2005 generated by paolchol'\n",
    "n_drain_cells = drn.shape[0]\n",
    "ipakcb = 50\n",
    "\n",
    "\n",
    "with open(os.path.join(cwd, 'drn_input_file_test.drn'), 'w') as file:\n",
    "    file.write(f\"{heading}\\n\")\n",
    "    line = f\"{n_drain_cells:10d}{ipakcb:10d}\"\n",
    "    # for opt in self.options:\n",
    "        # line += \" \" + str(opt)\n",
    "    line += \"\\n\"\n",
    "    file.write(line)\n",
    "\n",
    "    # for row in drn.iterrows():\n",
    "    #     file.writelines(row)"
   ]
  },
  {
   "cell_type": "code",
   "execution_count": null,
   "metadata": {},
   "outputs": [],
   "source": []
  }
 ],
 "metadata": {
  "kernelspec": {
   "display_name": "fontanili",
   "language": "python",
   "name": "python3"
  },
  "language_info": {
   "codemirror_mode": {
    "name": "ipython",
    "version": 3
   },
   "file_extension": ".py",
   "mimetype": "text/x-python",
   "name": "python",
   "nbconvert_exporter": "python",
   "pygments_lexer": "ipython3",
   "version": "3.13.0"
  }
 },
 "nbformat": 4,
 "nbformat_minor": 2
}
