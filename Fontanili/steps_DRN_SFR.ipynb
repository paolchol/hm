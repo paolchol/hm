{
 "cells": [
  {
   "cell_type": "markdown",
   "metadata": {},
   "source": [
    "# Semi-automatization of DRN and SFR sensitivity analysis/calibration\n",
    "\n",
    "**Worflow**\\\n",
    "**DRN**\n",
    "1. Load .drn file - *completed*\n",
    "2. Change the conductance of the cells - *completed*\n",
    "3. Write the .drn file - *completed*\n",
    "4. Run the model - *completed*\n",
    "5. Read .cbb file - *completed*\n",
    "6. Store the outflow data of the first X cells - *completed*\n",
    "7. Put the process in a loop over a range of parameters - *completed*: result in `DRN_SA.py`\n",
    "\n",
    "**SFR**\n",
    "1. Load .sfr file - *completed*\n",
    "2. Change the hydraulic conductivity of the cells - *completed*\n",
    "3. Write the .sfr file - *completed*\n",
    "4. Run the model - *completed*\n",
    "5. Read streamflow.dat file - *completed*\n",
    "6. Store the flux data of cell at reach X - *completed*\n",
    "7. Put the process in a loop over a range of parameters - *completed*: result in `SFR_SA.py`"
   ]
  },
  {
   "cell_type": "markdown",
   "metadata": {},
   "source": [
    "## Setup"
   ]
  },
  {
   "cell_type": "code",
   "execution_count": 1,
   "metadata": {},
   "outputs": [],
   "source": [
    "import flopy\n",
    "import flopy.utils.binaryfile as bf\n",
    "import glob\n",
    "import numpy as np\n",
    "import os\n",
    "import pandas as pd"
   ]
  },
  {
   "cell_type": "code",
   "execution_count": 2,
   "metadata": {},
   "outputs": [],
   "source": [
    "cwd = os.getcwd()"
   ]
  },
  {
   "cell_type": "code",
   "execution_count": null,
   "metadata": {},
   "outputs": [],
   "source": [
    "def change_type(df, cols, t):\n",
    "    \"\"\"\n",
    "    Change the dtype of selected columns to a given type\n",
    "\n",
    "    df: pandas.DataFrame\n",
    "        the dataframe\n",
    "    cols: str, list of str\n",
    "        the columns to be changed\n",
    "    t: str\n",
    "        the dtype wanted\n",
    "\n",
    "    Returns:\n",
    "    df: pandas.DataFrame\n",
    "    \"\"\"\n",
    "    for col in cols:\n",
    "        df[col] = df[col].astype(t)\n",
    "    return df\n",
    "\n",
    "def load_drn_file(path):\n",
    "    \"\"\"\n",
    "    Load MODFLOW .drn input file\n",
    "\n",
    "    path: str\n",
    "        Path to the .drn file to be loaded\n",
    "    \n",
    "    Returns:\n",
    "    df: pandas.DataFrame\n",
    "        Dataframe containing the information stored in the original .drn file\n",
    "    \"\"\"\n",
    "    f = open(path).readlines()\n",
    "    df = pd.DataFrame()\n",
    "    for row in f[4:]:\n",
    "        r = list(filter(None, row.split(' ')))\n",
    "        df = pd.concat([df, pd.DataFrame(r).transpose()])\n",
    "    df.columns = ['layer', 'row', 'column', 'stage', 'conductance', 'node']\n",
    "    df.node = df.node.str.removesuffix('\\n')\n",
    "    df.reset_index(inplace=True, drop = True)\n",
    "\n",
    "    # assign the correct dtypes to the functions\n",
    "    df = change_type(df, ['layer', 'row', 'column'], 'int')\n",
    "    df = change_type(df, ['stage', 'conductance', 'node'], 'float')    \n",
    "    return df\n",
    "\n",
    "def load_streamflow_dat(f, nsp = 1):\n",
    "    \"\"\"\n",
    "    Load the streamflow.dat file generated as output by MODFLOW\n",
    "\n",
    "    f: str\n",
    "        path to the streamflow.dat file\n",
    "    nsp: int, optional\n",
    "        number of stress periods of the simulation. 1 works also with stationary models.\n",
    "        Default is 1\n",
    "    \n",
    "    Returns:\n",
    "    df: pandas.DataFrame\n",
    "        dataframe containing the information stored inside streamflow.dat file\n",
    "    \"\"\"\n",
    "    if nsp == 1:\n",
    "        df = pd.DataFrame()\n",
    "        with open(f, 'r') as file:\n",
    "            for row in file.readlines()[8:]:\n",
    "                r = list(filter(None, row.split(' ')))\n",
    "                df = pd.concat([df, pd.DataFrame(r).transpose()])\n",
    "            df.columns = ['l', 'r', 'c', 'iseg', 'ireach', 'flow_into_reach', 'flow_to_aquifer', 'flow_out_reach', 'overlnd_runoff',\n",
    "                        'direct_precip', 'stream_et', 'stream_head', 'stream_depth', 'stream_width', 'streambed_cond', 'streambed_gradient']\n",
    "            df.streambed_gradient = df.streambed_gradient.str.removesuffix('\\n')\n",
    "            df = change_type(df, ['l', 'r', 'c', 'iseg', 'ireach'], 'int') \n",
    "            df = change_type(df, ['flow_into_reach', 'flow_to_aquifer', 'flow_out_reach', 'overlnd_runoff',\n",
    "                                    'direct_precip', 'stream_et', 'stream_head', 'stream_depth', 'stream_width',\n",
    "                                    'streambed_cond', 'streambed_gradient'], 'float')\n",
    "            df.reset_index(inplace = True, drop= True)\n",
    "    else:\n",
    "        for sp in range(nsp):\n",
    "            pass\n",
    "    return df"
   ]
  },
  {
   "cell_type": "markdown",
   "metadata": {},
   "source": [
    "## DRAIN"
   ]
  },
  {
   "cell_type": "markdown",
   "metadata": {},
   "source": [
    "### Load .drn file"
   ]
  },
  {
   "cell_type": "code",
   "execution_count": null,
   "metadata": {},
   "outputs": [
    {
     "data": {
      "text/html": [
       "<div>\n",
       "<style scoped>\n",
       "    .dataframe tbody tr th:only-of-type {\n",
       "        vertical-align: middle;\n",
       "    }\n",
       "\n",
       "    .dataframe tbody tr th {\n",
       "        vertical-align: top;\n",
       "    }\n",
       "\n",
       "    .dataframe thead th {\n",
       "        text-align: right;\n",
       "    }\n",
       "</style>\n",
       "<table border=\"1\" class=\"dataframe\">\n",
       "  <thead>\n",
       "    <tr style=\"text-align: right;\">\n",
       "      <th></th>\n",
       "      <th>layer</th>\n",
       "      <th>row</th>\n",
       "      <th>column</th>\n",
       "      <th>stage</th>\n",
       "      <th>conductance</th>\n",
       "      <th>node</th>\n",
       "    </tr>\n",
       "  </thead>\n",
       "  <tbody>\n",
       "    <tr>\n",
       "      <th>0</th>\n",
       "      <td>1</td>\n",
       "      <td>46</td>\n",
       "      <td>51</td>\n",
       "      <td>124.838</td>\n",
       "      <td>0.012</td>\n",
       "      <td>0</td>\n",
       "    </tr>\n",
       "    <tr>\n",
       "      <th>1</th>\n",
       "      <td>1</td>\n",
       "      <td>47</td>\n",
       "      <td>51</td>\n",
       "      <td>124.835</td>\n",
       "      <td>0.018</td>\n",
       "      <td>0</td>\n",
       "    </tr>\n",
       "    <tr>\n",
       "      <th>2</th>\n",
       "      <td>1</td>\n",
       "      <td>48</td>\n",
       "      <td>51</td>\n",
       "      <td>124.832</td>\n",
       "      <td>0.006</td>\n",
       "      <td>0</td>\n",
       "    </tr>\n",
       "    <tr>\n",
       "      <th>3</th>\n",
       "      <td>1</td>\n",
       "      <td>48</td>\n",
       "      <td>52</td>\n",
       "      <td>124.830</td>\n",
       "      <td>0.024</td>\n",
       "      <td>0</td>\n",
       "    </tr>\n",
       "    <tr>\n",
       "      <th>4</th>\n",
       "      <td>1</td>\n",
       "      <td>49</td>\n",
       "      <td>52</td>\n",
       "      <td>124.824</td>\n",
       "      <td>0.018</td>\n",
       "      <td>0</td>\n",
       "    </tr>\n",
       "  </tbody>\n",
       "</table>\n",
       "</div>"
      ],
      "text/plain": [
       "   layer  row  column    stage  conductance node\n",
       "0      1   46      51  124.838        0.012    0\n",
       "1      1   47      51  124.835        0.018    0\n",
       "2      1   48      51  124.832        0.006    0\n",
       "3      1   48      52  124.830        0.024    0\n",
       "4      1   49      52  124.824        0.018    0"
      ]
     },
     "execution_count": 43,
     "metadata": {},
     "output_type": "execute_result"
    }
   ],
   "source": [
    "# Load .drn file\n",
    "drn = load_drn_file(os.path.join(cwd, 'test_files', 'busca_drain.drn'))\n",
    "drn.head()"
   ]
  },
  {
   "cell_type": "code",
   "execution_count": 44,
   "metadata": {},
   "outputs": [],
   "source": [
    "# Load DRAIN cells characteristics\n",
    "drn_sp = pd.read_csv(os.path.join(cwd, 'test_files', 'busca_drain_specifiche_celle.csv'))"
   ]
  },
  {
   "cell_type": "code",
   "execution_count": null,
   "metadata": {},
   "outputs": [],
   "source": [
    "# Compute the conductance of each cell for a given hydraulic conductivity\n",
    "# Change the conductance column\n",
    "k = 0.00001444444444444 #hydraulic conductivity\n",
    "conductance_change = (k*drn_sp.Width*drn_sp.Length)/drn_sp.Thickness\n",
    "drn.conductance = conductance_change"
   ]
  },
  {
   "cell_type": "markdown",
   "metadata": {},
   "source": [
    "### Write .drn file using flopy\n",
    "\n",
    "**bug found:** the layer gets put equal to 2 instead of 1\n",
    "- the problem is not in the stress_period_data table passed to drn\n",
    "- check stress_period_data.write_transient method\n",
    "- couldn't figure it out, so found a way out: set drn.layer = 0\n",
    "- drn_input_file_test_v4.drn works"
   ]
  },
  {
   "cell_type": "code",
   "execution_count": 8,
   "metadata": {},
   "outputs": [],
   "source": [
    "modelpth = os.path.join(cwd, 'test_files')\n",
    "\n",
    "# create the model class (only useful because it's needed by ModflowDrn class)\n",
    "# this can be replaced by loading the actual model .nam file (not needed though)\n",
    "mf = flopy.modflow.Modflow(\n",
    "     \"drn_test\",\n",
    "    model_ws = modelpth,\n",
    "    exe_name = \"mf2005\",\n",
    ")"
   ]
  },
  {
   "cell_type": "code",
   "execution_count": null,
   "metadata": {},
   "outputs": [],
   "source": [
    "# transform the drn structure in the flopy required format for \"stress_period_data\"\n",
    "# flopy adds 1 to layer, row and column, so subtract 1 to them\n",
    "drn.layer = drn.layer - 1\n",
    "drn.row = drn.row - 1\n",
    "drn.column = drn.column - 1\n",
    "stress_period_data = {0: drn.iloc[:, :-1].to_numpy().tolist()} #remove node column, not needed nor supported by flopy's ModflowDrn class"
   ]
  },
  {
   "cell_type": "code",
   "execution_count": 10,
   "metadata": {},
   "outputs": [],
   "source": [
    "#generate the drn package inside the flopy class\n",
    "ipakcb = 50 #code for cell-by-cell flow data storage\n",
    "drain = flopy.modflow.ModflowDrn(mf, ipakcb=ipakcb, stress_period_data=stress_period_data,\n",
    "                                 filenames=os.path.join(cwd, 'test_files', 'drn_input_file_test_v5.drn'))\n",
    "drain.write_file(check = False)"
   ]
  },
  {
   "cell_type": "markdown",
   "metadata": {},
   "source": [
    "### Test: Run the model"
   ]
  },
  {
   "cell_type": "code",
   "execution_count": null,
   "metadata": {},
   "outputs": [],
   "source": [
    "# trial: run from flopy\n",
    "\n",
    "# load the existing model busca_drain\n",
    "# https://flopy.readthedocs.io/en/3.3.2/source/flopy.modflow.mf.html\n",
    "\n",
    "mf = flopy.modflow.Modflow.load(\n",
    "        os.path.join(cwd, 'test_files', 'drain_model_test', 'busca_drain.nam'),\n",
    "        model_ws = os.path.join(cwd, 'test_files', 'drain_model_test'),\n",
    "        exe_name='MF2005',\n",
    "        version = 'mf2005',\n",
    "        verbose = False\n",
    "        )"
   ]
  },
  {
   "cell_type": "code",
   "execution_count": null,
   "metadata": {},
   "outputs": [],
   "source": [
    "# drn stress period data can be accessed by:\n",
    "mf.drn.stress_period_data.data"
   ]
  },
  {
   "cell_type": "code",
   "execution_count": null,
   "metadata": {},
   "outputs": [],
   "source": [
    "# this works\n",
    "success, buff = flopy.mbase.run_model(\n",
    "                exe_name = os.path.join(cwd, 'test_files', 'drain_model_test','MF2005.exe'),\n",
    "                namefile = 'busca_drain.nam',\n",
    "                model_ws = os.path.join(cwd, 'test_files', 'drain_model_test')\n",
    "                )\n",
    "if not success:\n",
    "    raise Exception(\"MODFLOW did not terminate normally.\")"
   ]
  },
  {
   "cell_type": "markdown",
   "metadata": {},
   "source": [
    "### Read .cbb output file\n",
    "\n",
    "class CellBudgetFile\\\n",
    "https://flopy.readthedocs.io/en/latest/source/flopy.utils.binaryfile.html\n",
    "\n",
    "The outflow will have to be considered until cell:\n",
    "- row 92, column 76 (last cell of first segment)\n",
    "Check if any substantial change in outflow happen if considering:\n",
    "- row 93, column 76 (first cell of second segment)"
   ]
  },
  {
   "cell_type": "code",
   "execution_count": null,
   "metadata": {},
   "outputs": [],
   "source": [
    "#get drain values from cbb output\n",
    "cbb = bf.CellBudgetFile(os.path.join(cwd, 'test_files', 'drain_model_test', 'busca_drain.cbb'))\n",
    "drain = cbb.get_data(text = 'DRAINS')\n",
    "\n",
    "# get all the cells until 92, 76 & sum the flux extracted from drain[0]\n",
    "row_limit = 92\n",
    "column_limit = 76\n",
    "sum_drain = np.sum(drain[0][0, :row_limit+1, :column_limit+1])\n",
    "sum_drain"
   ]
  },
  {
   "cell_type": "markdown",
   "metadata": {},
   "source": [
    "## SFR"
   ]
  },
  {
   "cell_type": "markdown",
   "metadata": {},
   "source": [
    "### Load SFR characteristics and write new .sfr file\n",
    "\n",
    "The .sfr file is multi structured:\n",
    "- the above section has a structure similar to .drn\n",
    "- in the last section, the structure is different: there is the info about the segments\n",
    "- width and manning coefficient are defined in the segment section\n",
    "- length, slope, bed thickness and bed hydraulic conductivity are defined in the first section\\\n",
    "try to use flopy to load the model and then modify the sfr parameters directly from there\n",
    "\n",
    "I had issues in loading the .sfr file through **ModflowSfr2.load()**\\\n",
    "- the file was structured as SFR2 input file, and the function didn't recognize it\n",
    "- so we changed the input file structure to SFR1 from GWV\n",
    "- this however lost the information on slope associated to all reaches\\\n",
    "\n",
    "So, this was the workaround found:\n",
    "- from the .sfr file, the reach data, segment data and the other items where copied in a dedicated Excel file, each on a sheet\n",
    "- the data is loaded as pandas.DataFrame/numpy.ndarray\n",
    "- the data is passed to the ModflowSfr2 class in flopy which then handles the writing of the sfr input file\n",
    "\n",
    "Once the file is loaded through ModflowSfr2.load(), it contains, among other things:\n",
    "- **sfr.reach_data**: access the characteristics of the reaches\n",
    "- **sfr.segment_data**: access the characteristics of the segments\n",
    "\n",
    "Resources used:\n",
    "1. https://flopy.readthedocs.io/en/stable/Notebooks/mf6_sfr_tutorial01.html\n",
    "2. https://flopy.readthedocs.io/en/stable/Notebooks/sfrpackage_example.html"
   ]
  },
  {
   "cell_type": "code",
   "execution_count": 12,
   "metadata": {},
   "outputs": [
    {
     "data": {
      "text/plain": [
       "['ITEM1', 'ITEM2', 'ITEM5', 'ITEM6a', 'ITEM6abc', 'ITEM6b', 'ITEM6c']"
      ]
     },
     "execution_count": 12,
     "metadata": {},
     "output_type": "execute_result"
    }
   ],
   "source": [
    "# check the available items in the excel file\n",
    "xls = pd.ExcelFile(os.path.join(cwd, 'test_files', 'busca_sfr2_sfr_data.xlsx'))\n",
    "items = xls.sheet_names\n",
    "items"
   ]
  },
  {
   "cell_type": "code",
   "execution_count": 13,
   "metadata": {},
   "outputs": [],
   "source": [
    "# load general parameters (item 1)\n",
    "it1 = pd.read_excel(os.path.join(cwd, 'test_files', 'busca_sfr2_sfr_data.xlsx'), sheet_name = 'ITEM1')\n",
    "\n",
    "# load reach data (item 2)\n",
    "reach_data = pd.read_excel(os.path.join(cwd, 'test_files', 'busca_sfr2_sfr_data.xlsx'), sheet_name = 'ITEM2')\n",
    "reach_data = reach_data.apply(pd.to_numeric)\n",
    "reach_data.columns = ['k', 'i', 'j', 'iseg', 'ireach', 'rchlen', 'strtop', 'slope',  'strthick',  'strhc1']\n",
    "reach_data = reach_data.loc[:,:].to_records(index = False)\n",
    "# flopy adds 1 to layer, row and column, so remove 1 here\n",
    "reach_data.k = reach_data.k - 1\n",
    "reach_data.i = reach_data.i - 1\n",
    "reach_data.j = reach_data.j - 1\n",
    "\n",
    "# load item 5\n",
    "it5 = pd.read_excel(os.path.join(cwd, 'test_files', 'busca_sfr2_sfr_data.xlsx'), sheet_name = 'ITEM5')\n",
    "\n",
    "# load segment data (item 6a)\n",
    "segment_data = pd.read_excel(os.path.join(cwd, 'test_files', 'busca_sfr2_sfr_data.xlsx'), sheet_name = 'ITEM6abc')\n",
    "segment_data.columns = [x.lower() for x in segment_data.columns]\n",
    "segment_data = segment_data.loc[:,:].to_records(index = False)\n",
    "segment_data = {0: segment_data}"
   ]
  },
  {
   "cell_type": "code",
   "execution_count": 14,
   "metadata": {},
   "outputs": [],
   "source": [
    "# modify k\n",
    "reach_data.strhc1 = 0.005"
   ]
  },
  {
   "cell_type": "code",
   "execution_count": null,
   "metadata": {},
   "outputs": [],
   "source": [
    "# generate the sfr package through flopy\n",
    "unit_number = 27 # define this based on the model\n",
    "\n",
    "m = flopy.modflow.Modflow()\n",
    "sfr = flopy.modflow.ModflowSfr2(\n",
    "    m,\n",
    "    nstrm = it1.NSTRM.values[0],              # number of reaches\n",
    "    nss = it1.NSS.values[0],                  # number of segments\n",
    "    const = it1.CONST.values[0],              # constant for manning's equation: 1 for m/s\n",
    "    dleak = it1.DLEAK.values[0],              # closure tolerance for stream stage computation\n",
    "    ipakcb = it1.ISTCB1.values[0],            # flag for writing SFR output to cell-by-cell budget (on unit 50)\n",
    "    istcb2 = it1.ISTCB2.values[0],            # flag for writing SFR output to text file\n",
    "    dataset_5 = {0: it5.values[0].tolist()},\n",
    "    unit_number = unit_number,\n",
    "    isfropt = it1.ISFROPT.values[0],          # ISFROPT parameter, defines input file format writing\n",
    "    reach_data = reach_data,\n",
    "    segment_data = segment_data\n",
    ")\n",
    "\n",
    "sfr.write_file(os.path.join(cwd, 'test_files', 'sfr_model_test', 'busca_sfr2.sfr'))"
   ]
  },
  {
   "cell_type": "markdown",
   "metadata": {},
   "source": [
    "### Run the model"
   ]
  },
  {
   "cell_type": "code",
   "execution_count": 62,
   "metadata": {},
   "outputs": [
    {
     "name": "stdout",
     "output_type": "stream",
     "text": [
      "FloPy is using the following executable to run the model: MF2005.exe\n",
      "\n",
      "                                  MODFLOW-2005     \n",
      "    U.S. GEOLOGICAL SURVEY MODULAR FINITE-DIFFERENCE GROUND-WATER FLOW MODEL\n",
      "                             Version 1.11.00 8/8/2013                        \n",
      "\n",
      " Using NAME file: busca_sfr2.nam \n",
      " Run start date and time (yyyy/mm/dd hh:mm:ss): 2024/11/08 18:35:47\n",
      "\n",
      " Solving:  Stress period:     1    Time step:     1    Ground-Water Flow Eqn.\n",
      " Run end date and time (yyyy/mm/dd hh:mm:ss): 2024/11/08 18:35:48\n",
      " Elapsed run time:  1.088 Seconds\n",
      "\n",
      "  Normal termination of simulation\n"
     ]
    }
   ],
   "source": [
    "success, buff = flopy.mbase.run_model(\n",
    "                exe_name = os.path.join(cwd, 'test_files', 'sfr_model_test', 'MF2005.exe'),\n",
    "                namefile = 'busca_sfr2.nam',\n",
    "                model_ws = os.path.join(cwd, 'test_files', 'sfr_model_test')\n",
    "                )\n",
    "if not success:\n",
    "    raise Exception(\"MODFLOW did not terminate normally.\")"
   ]
  },
  {
   "cell_type": "markdown",
   "metadata": {},
   "source": [
    "### Read streamflow.dat and store the flow at reach x\n",
    "\n",
    "Consider the outward flow of these two cells:\n",
    "- reach 72, segment 1\n",
    "- reach 1, segment 2"
   ]
  },
  {
   "cell_type": "code",
   "execution_count": 32,
   "metadata": {},
   "outputs": [],
   "source": [
    "f = os.path.join(cwd, 'test_files', 'sfr_model_test', 'busca_sfr2_streamflow.dat')\n",
    "df = load_streamflow_dat(f)"
   ]
  },
  {
   "cell_type": "code",
   "execution_count": 33,
   "metadata": {},
   "outputs": [
    {
     "data": {
      "text/plain": [
       "71    0.001466\n",
       "Name: flow_out_reach, dtype: float64"
      ]
     },
     "execution_count": 33,
     "metadata": {},
     "output_type": "execute_result"
    }
   ],
   "source": [
    "df.loc[(df.ireach == 72) & (df.iseg == 1), 'flow_out_reach']"
   ]
  },
  {
   "cell_type": "code",
   "execution_count": 34,
   "metadata": {},
   "outputs": [
    {
     "data": {
      "text/plain": [
       "72    0.001474\n",
       "Name: flow_out_reach, dtype: float64"
      ]
     },
     "execution_count": 34,
     "metadata": {},
     "output_type": "execute_result"
    }
   ],
   "source": [
    "df.loc[(df.ireach == 1) & (df.iseg == 2), 'flow_out_reach']"
   ]
  },
  {
   "cell_type": "code",
   "execution_count": 37,
   "metadata": {},
   "outputs": [
    {
     "data": {
      "text/plain": [
       "0      0.000420\n",
       "1      0.000870\n",
       "2      0.001146\n",
       "3      0.001428\n",
       "4      0.001772\n",
       "         ...   \n",
       "323    0.014180\n",
       "324    0.014200\n",
       "325    0.014210\n",
       "326    0.014230\n",
       "327    0.014230\n",
       "Name: stream_depth, Length: 328, dtype: float64"
      ]
     },
     "execution_count": 37,
     "metadata": {},
     "output_type": "execute_result"
    }
   ],
   "source": [
    "df.stream_depth"
   ]
  },
  {
   "cell_type": "markdown",
   "metadata": {},
   "source": [
    "### Include multi-parameter option"
   ]
  },
  {
   "cell_type": "code",
   "execution_count": 23,
   "metadata": {},
   "outputs": [],
   "source": [
    "k_dict = {\n",
    "    'kt': [0.001, 0.003], \n",
    "    'ka': [0.003, 0.005]\n",
    "}\n",
    "s_dict = {\n",
    "    'st': [0.0001, 0.00003, 0.00001],\n",
    "    'sa': [0.0003, 0.00005, 0.00001]\n",
    "}"
   ]
  },
  {
   "cell_type": "code",
   "execution_count": 25,
   "metadata": {},
   "outputs": [
    {
     "data": {
      "text/plain": [
       "2"
      ]
     },
     "execution_count": 25,
     "metadata": {},
     "output_type": "execute_result"
    }
   ],
   "source": [
    "len(k_dict['ka'])"
   ]
  },
  {
   "cell_type": "code",
   "execution_count": 17,
   "metadata": {},
   "outputs": [],
   "source": [
    "tool = pd.DataFrame(reach_data)"
   ]
  },
  {
   "cell_type": "code",
   "execution_count": 19,
   "metadata": {},
   "outputs": [],
   "source": [
    "tool.loc[tool.iseg == 1, 'strhc1'] = 10"
   ]
  },
  {
   "cell_type": "code",
   "execution_count": 20,
   "metadata": {},
   "outputs": [
    {
     "data": {
      "text/html": [
       "<div>\n",
       "<style scoped>\n",
       "    .dataframe tbody tr th:only-of-type {\n",
       "        vertical-align: middle;\n",
       "    }\n",
       "\n",
       "    .dataframe tbody tr th {\n",
       "        vertical-align: top;\n",
       "    }\n",
       "\n",
       "    .dataframe thead th {\n",
       "        text-align: right;\n",
       "    }\n",
       "</style>\n",
       "<table border=\"1\" class=\"dataframe\">\n",
       "  <thead>\n",
       "    <tr style=\"text-align: right;\">\n",
       "      <th></th>\n",
       "      <th>k</th>\n",
       "      <th>i</th>\n",
       "      <th>j</th>\n",
       "      <th>iseg</th>\n",
       "      <th>ireach</th>\n",
       "      <th>rchlen</th>\n",
       "      <th>strtop</th>\n",
       "      <th>slope</th>\n",
       "      <th>strthick</th>\n",
       "      <th>strhc1</th>\n",
       "    </tr>\n",
       "  </thead>\n",
       "  <tbody>\n",
       "    <tr>\n",
       "      <th>0</th>\n",
       "      <td>0</td>\n",
       "      <td>45</td>\n",
       "      <td>50</td>\n",
       "      <td>1</td>\n",
       "      <td>1</td>\n",
       "      <td>2</td>\n",
       "      <td>124.837925</td>\n",
       "      <td>0.00159</td>\n",
       "      <td>0.5</td>\n",
       "      <td>10.000</td>\n",
       "    </tr>\n",
       "    <tr>\n",
       "      <th>1</th>\n",
       "      <td>0</td>\n",
       "      <td>46</td>\n",
       "      <td>50</td>\n",
       "      <td>1</td>\n",
       "      <td>2</td>\n",
       "      <td>3</td>\n",
       "      <td>124.835267</td>\n",
       "      <td>0.00159</td>\n",
       "      <td>0.5</td>\n",
       "      <td>10.000</td>\n",
       "    </tr>\n",
       "    <tr>\n",
       "      <th>2</th>\n",
       "      <td>0</td>\n",
       "      <td>47</td>\n",
       "      <td>50</td>\n",
       "      <td>1</td>\n",
       "      <td>3</td>\n",
       "      <td>1</td>\n",
       "      <td>124.832472</td>\n",
       "      <td>0.00159</td>\n",
       "      <td>0.5</td>\n",
       "      <td>10.000</td>\n",
       "    </tr>\n",
       "    <tr>\n",
       "      <th>3</th>\n",
       "      <td>0</td>\n",
       "      <td>47</td>\n",
       "      <td>51</td>\n",
       "      <td>1</td>\n",
       "      <td>4</td>\n",
       "      <td>4</td>\n",
       "      <td>124.829516</td>\n",
       "      <td>0.00159</td>\n",
       "      <td>0.5</td>\n",
       "      <td>10.000</td>\n",
       "    </tr>\n",
       "    <tr>\n",
       "      <th>4</th>\n",
       "      <td>0</td>\n",
       "      <td>48</td>\n",
       "      <td>51</td>\n",
       "      <td>1</td>\n",
       "      <td>5</td>\n",
       "      <td>3</td>\n",
       "      <td>124.824446</td>\n",
       "      <td>0.00159</td>\n",
       "      <td>0.5</td>\n",
       "      <td>10.000</td>\n",
       "    </tr>\n",
       "    <tr>\n",
       "      <th>...</th>\n",
       "      <td>...</td>\n",
       "      <td>...</td>\n",
       "      <td>...</td>\n",
       "      <td>...</td>\n",
       "      <td>...</td>\n",
       "      <td>...</td>\n",
       "      <td>...</td>\n",
       "      <td>...</td>\n",
       "      <td>...</td>\n",
       "      <td>...</td>\n",
       "    </tr>\n",
       "    <tr>\n",
       "      <th>323</th>\n",
       "      <td>0</td>\n",
       "      <td>263</td>\n",
       "      <td>155</td>\n",
       "      <td>7</td>\n",
       "      <td>45</td>\n",
       "      <td>2</td>\n",
       "      <td>124.041059</td>\n",
       "      <td>0.00259</td>\n",
       "      <td>0.5</td>\n",
       "      <td>0.005</td>\n",
       "    </tr>\n",
       "    <tr>\n",
       "      <th>324</th>\n",
       "      <td>0</td>\n",
       "      <td>264</td>\n",
       "      <td>155</td>\n",
       "      <td>7</td>\n",
       "      <td>46</td>\n",
       "      <td>3</td>\n",
       "      <td>124.034513</td>\n",
       "      <td>0.00259</td>\n",
       "      <td>0.5</td>\n",
       "      <td>0.005</td>\n",
       "    </tr>\n",
       "    <tr>\n",
       "      <th>325</th>\n",
       "      <td>0</td>\n",
       "      <td>265</td>\n",
       "      <td>155</td>\n",
       "      <td>7</td>\n",
       "      <td>47</td>\n",
       "      <td>3</td>\n",
       "      <td>124.026968</td>\n",
       "      <td>0.00259</td>\n",
       "      <td>0.5</td>\n",
       "      <td>0.005</td>\n",
       "    </tr>\n",
       "    <tr>\n",
       "      <th>326</th>\n",
       "      <td>0</td>\n",
       "      <td>265</td>\n",
       "      <td>156</td>\n",
       "      <td>7</td>\n",
       "      <td>48</td>\n",
       "      <td>1</td>\n",
       "      <td>124.022740</td>\n",
       "      <td>0.00259</td>\n",
       "      <td>0.5</td>\n",
       "      <td>0.005</td>\n",
       "    </tr>\n",
       "    <tr>\n",
       "      <th>327</th>\n",
       "      <td>0</td>\n",
       "      <td>266</td>\n",
       "      <td>156</td>\n",
       "      <td>7</td>\n",
       "      <td>49</td>\n",
       "      <td>1</td>\n",
       "      <td>124.021416</td>\n",
       "      <td>0.00259</td>\n",
       "      <td>0.5</td>\n",
       "      <td>0.005</td>\n",
       "    </tr>\n",
       "  </tbody>\n",
       "</table>\n",
       "<p>328 rows × 10 columns</p>\n",
       "</div>"
      ],
      "text/plain": [
       "     k    i    j  iseg  ireach  rchlen      strtop    slope  strthick  strhc1\n",
       "0    0   45   50     1       1       2  124.837925  0.00159       0.5  10.000\n",
       "1    0   46   50     1       2       3  124.835267  0.00159       0.5  10.000\n",
       "2    0   47   50     1       3       1  124.832472  0.00159       0.5  10.000\n",
       "3    0   47   51     1       4       4  124.829516  0.00159       0.5  10.000\n",
       "4    0   48   51     1       5       3  124.824446  0.00159       0.5  10.000\n",
       "..  ..  ...  ...   ...     ...     ...         ...      ...       ...     ...\n",
       "323  0  263  155     7      45       2  124.041059  0.00259       0.5   0.005\n",
       "324  0  264  155     7      46       3  124.034513  0.00259       0.5   0.005\n",
       "325  0  265  155     7      47       3  124.026968  0.00259       0.5   0.005\n",
       "326  0  265  156     7      48       1  124.022740  0.00259       0.5   0.005\n",
       "327  0  266  156     7      49       1  124.021416  0.00259       0.5   0.005\n",
       "\n",
       "[328 rows x 10 columns]"
      ]
     },
     "execution_count": 20,
     "metadata": {},
     "output_type": "execute_result"
    }
   ],
   "source": [
    "tool"
   ]
  },
  {
   "cell_type": "code",
   "execution_count": 21,
   "metadata": {},
   "outputs": [],
   "source": [
    "test = tool.loc[:,:].to_records(index = False)"
   ]
  },
  {
   "cell_type": "code",
   "execution_count": 48,
   "metadata": {},
   "outputs": [],
   "source": [
    "a,b = 0,0"
   ]
  }
 ],
 "metadata": {
  "kernelspec": {
   "display_name": "fontanili",
   "language": "python",
   "name": "python3"
  },
  "language_info": {
   "codemirror_mode": {
    "name": "ipython",
    "version": 3
   },
   "file_extension": ".py",
   "mimetype": "text/x-python",
   "name": "python",
   "nbconvert_exporter": "python",
   "pygments_lexer": "ipython3",
   "version": "3.13.0"
  }
 },
 "nbformat": 4,
 "nbformat_minor": 2
}
