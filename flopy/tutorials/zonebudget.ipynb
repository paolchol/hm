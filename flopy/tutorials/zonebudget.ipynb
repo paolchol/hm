{
 "cells": [
  {
   "cell_type": "markdown",
   "id": "4f3a1f8b-358c-4332-af2c-006ac9f309ff",
   "metadata": {},
   "source": [
    "# Zonebudget Example\n",
    "Zonebud is a USGS program that computes flow balance information from MODFLOW cell-by-cell flow output files.  One important element is a text file of zone numbers in a zonebud-specific format.  The zone file used in this example was exported from Groundwater Vistas version 8 using Plot|Mass Balance|Export Zonebud zone file."
   ]
  },
  {
   "cell_type": "code",
   "execution_count": 1,
   "id": "dd36ec14-e7f8-4689-8f7c-3f75f802beaf",
   "metadata": {},
   "outputs": [],
   "source": [
    "import os\n",
    "import flopy\n",
    "import numpy as np\n",
    "import matplotlib as mpl\n",
    "import matplotlib.pyplot as plt\n",
    "import pandas as pd"
   ]
  },
  {
   "cell_type": "code",
   "execution_count": 2,
   "id": "a716d812-9c19-4127-abd1-40ede2bbb2a2",
   "metadata": {},
   "outputs": [
    {
     "name": "stdout",
     "output_type": "stream",
     "text": [
      "C:\\repos\\private\\corso-flopy\\materials\\Session5\\model\n"
     ]
    }
   ],
   "source": [
    "cwd = os.getcwd()\n",
    "workingdir = os.path.join(cwd,'model')\n",
    "print(workingdir)"
   ]
  },
  {
   "cell_type": "markdown",
   "id": "2ec97b60-2b59-424f-adea-1abc96ab7256",
   "metadata": {},
   "source": [
    "## Import the zone file and display the zone numbers"
   ]
  },
  {
   "cell_type": "code",
   "execution_count": 3,
   "id": "11491ca6-f9ba-4ab6-8e84-20cb668e1744",
   "metadata": {},
   "outputs": [
    {
     "data": {
      "image/png": "[encoded data removed]",
      "text/plain": [
       "<Figure size 720x288 with 6 Axes>"
      ]
     },
     "metadata": {
      "needs_background": "light"
     },
     "output_type": "display_data"
    }
   ],
   "source": [
    "from flopy.utils import ZoneBudget\n",
    "\n",
    "zone_file = os.path.join(workingdir, \"t2_zbud.zone\")\n",
    "zon = ZoneBudget.read_zone_file(zone_file)\n",
    "nlay, nrow, ncol = zon.shape\n",
    "\n",
    "fig = plt.figure(figsize=(10, 4))\n",
    "\n",
    "for lay in range(nlay):\n",
    "    ax = fig.add_subplot(1, nlay, lay + 1)\n",
    "    im = ax.pcolormesh(zon[lay, ::-1, :])\n",
    "    cbar = plt.colorbar(im)\n",
    "    plt.gca().set_aspect(\"equal\")\n",
    "\n",
    "plt.show()"
   ]
  },
  {
   "cell_type": "markdown",
   "id": "388b5dde-e28f-4a6e-9bc0-b2cd783808ea",
   "metadata": {},
   "source": [
    "## Import the cell-by-cell flows from the MODFLOW run"
   ]
  },
  {
   "cell_type": "code",
   "execution_count": 7,
   "id": "ba7a7481-2c80-465f-8261-b2dcfc43e942",
   "metadata": {},
   "outputs": [
    {
     "ename": "Exception",
     "evalue": "Cannot load cell budget file: c:\\esipython\\session5\\model\\t2.cbb.",
     "output_type": "error",
     "traceback": [
      "\u001b[1;31m---------------------------------------------------------------------------\u001b[0m",
      "\u001b[1;31mException\u001b[0m                                 Traceback (most recent call last)",
      "Input \u001b[1;32mIn [7]\u001b[0m, in \u001b[0;36m<cell line: 2>\u001b[1;34m()\u001b[0m\n\u001b[0;32m      1\u001b[0m aliases \u001b[38;5;241m=\u001b[39m {\u001b[38;5;241m1\u001b[39m: \u001b[38;5;124m\"\u001b[39m\u001b[38;5;124mZone1\u001b[39m\u001b[38;5;124m\"\u001b[39m, \u001b[38;5;241m2\u001b[39m: \u001b[38;5;124m\"\u001b[39m\u001b[38;5;124mZone2\u001b[39m\u001b[38;5;124m\"\u001b[39m, \u001b[38;5;241m3\u001b[39m: \u001b[38;5;124m\"\u001b[39m\u001b[38;5;124mZone3\u001b[39m\u001b[38;5;124m\"\u001b[39m}\n\u001b[1;32m----> 2\u001b[0m zb \u001b[38;5;241m=\u001b[39m \u001b[43mflopy\u001b[49m\u001b[38;5;241;43m.\u001b[39;49m\u001b[43mutils\u001b[49m\u001b[38;5;241;43m.\u001b[39;49m\u001b[43mZoneBudget\u001b[49m\u001b[43m(\u001b[49m\u001b[38;5;124;43m'\u001b[39;49m\u001b[38;5;124;43mc:\u001b[39;49m\u001b[38;5;130;43;01m\\\\\u001b[39;49;00m\u001b[38;5;124;43mesipython\u001b[39;49m\u001b[38;5;130;43;01m\\\\\u001b[39;49;00m\u001b[38;5;124;43msession5\u001b[39;49m\u001b[38;5;130;43;01m\\\\\u001b[39;49;00m\u001b[38;5;124;43mmodel\u001b[39;49m\u001b[38;5;130;43;01m\\\\\u001b[39;49;00m\u001b[38;5;124;43mt2.cbb\u001b[39;49m\u001b[38;5;124;43m'\u001b[39;49m\u001b[43m,\u001b[49m\u001b[43m \u001b[49m\u001b[43mzon\u001b[49m\u001b[43m,\u001b[49m\u001b[43m \u001b[49m\u001b[43mkstpkper\u001b[49m\u001b[38;5;241;43m=\u001b[39;49m\u001b[43m(\u001b[49m\u001b[38;5;241;43m0\u001b[39;49m\u001b[43m,\u001b[49m\u001b[43m \u001b[49m\u001b[38;5;241;43m0\u001b[39;49m\u001b[43m)\u001b[49m\u001b[43m,\u001b[49m\u001b[43maliases\u001b[49m\u001b[38;5;241;43m=\u001b[39;49m\u001b[43maliases\u001b[49m\u001b[43m)\u001b[49m\n\u001b[0;32m      3\u001b[0m zb\u001b[38;5;241m.\u001b[39mget_budget()\n",
      "File \u001b[1;32m~\\anaconda3\\lib\\site-packages\\flopy\\utils\\zonbud.py:65\u001b[0m, in \u001b[0;36mZoneBudget.__init__\u001b[1;34m(self, cbc_file, z, kstpkper, totim, aliases, verbose, **kwargs)\u001b[0m\n\u001b[0;32m     63\u001b[0m     \u001b[38;5;28mself\u001b[39m\u001b[38;5;241m.\u001b[39mcbc \u001b[38;5;241m=\u001b[39m CellBudgetFile(cbc_file)\n\u001b[0;32m     64\u001b[0m \u001b[38;5;28;01melse\u001b[39;00m:\n\u001b[1;32m---> 65\u001b[0m     \u001b[38;5;28;01mraise\u001b[39;00m \u001b[38;5;167;01mException\u001b[39;00m(\u001b[38;5;124mf\u001b[39m\u001b[38;5;124m\"\u001b[39m\u001b[38;5;124mCannot load cell budget file: \u001b[39m\u001b[38;5;132;01m{\u001b[39;00mcbc_file\u001b[38;5;132;01m}\u001b[39;00m\u001b[38;5;124m.\u001b[39m\u001b[38;5;124m\"\u001b[39m)\n\u001b[0;32m     67\u001b[0m \u001b[38;5;28;01mif\u001b[39;00m \u001b[38;5;28misinstance\u001b[39m(z, np\u001b[38;5;241m.\u001b[39mndarray):\n\u001b[0;32m     68\u001b[0m     \u001b[38;5;28;01massert\u001b[39;00m np\u001b[38;5;241m.\u001b[39missubdtype(\n\u001b[0;32m     69\u001b[0m         z\u001b[38;5;241m.\u001b[39mdtype, np\u001b[38;5;241m.\u001b[39minteger\n\u001b[0;32m     70\u001b[0m     ), \u001b[38;5;124m\"\u001b[39m\u001b[38;5;124mZones dtype must be integer\u001b[39m\u001b[38;5;124m\"\u001b[39m\n",
      "\u001b[1;31mException\u001b[0m: Cannot load cell budget file: c:\\esipython\\session5\\model\\t2.cbb."
     ]
    }
   ],
   "source": [
    "aliases = {1: \"Zone1\", 2: \"Zone2\", 3: \"Zone3\"}\n",
    "zb = flopy.utils.ZoneBudget('c:\\\\esipython\\\\session5\\\\model\\\\t2.cbb', zon, kstpkper=(0, 0),aliases=aliases)\n",
    "zb.get_budget()"
   ]
  },
  {
   "cell_type": "code",
   "execution_count": 5,
   "id": "8cdc825d-284a-44de-af4e-438d90ce0776",
   "metadata": {},
   "outputs": [
    {
     "ename": "NameError",
     "evalue": "name 'zb' is not defined",
     "output_type": "error",
     "traceback": [
      "\u001b[1;31m---------------------------------------------------------------------------\u001b[0m",
      "\u001b[1;31mNameError\u001b[0m                                 Traceback (most recent call last)",
      "Input \u001b[1;32mIn [5]\u001b[0m, in \u001b[0;36m<cell line: 2>\u001b[1;34m()\u001b[0m\n\u001b[0;32m      1\u001b[0m \u001b[38;5;66;03m# Get a list of the unique budget record names\u001b[39;00m\n\u001b[1;32m----> 2\u001b[0m \u001b[43mzb\u001b[49m\u001b[38;5;241m.\u001b[39mget_record_names()\n",
      "\u001b[1;31mNameError\u001b[0m: name 'zb' is not defined"
     ]
    }
   ],
   "source": [
    "# Get a list of the unique budget record names\n",
    "zb.get_record_names()"
   ]
  },
  {
   "cell_type": "markdown",
   "id": "127ddc9b-4fbf-4612-a4c2-4a330cca6894",
   "metadata": {},
   "source": [
    "## Create a table of mass balance terms for the 3 zones"
   ]
  },
  {
   "cell_type": "code",
   "execution_count": 6,
   "id": "6ddcd596-429e-41fa-b74e-1e02aa61b4d5",
   "metadata": {},
   "outputs": [
    {
     "data": {
      "text/html": [
       "<div>\n",
       "<style scoped>\n",
       "    .dataframe tbody tr th:only-of-type {\n",
       "        vertical-align: middle;\n",
       "    }\n",
       "\n",
       "    .dataframe tbody tr th {\n",
       "        vertical-align: top;\n",
       "    }\n",
       "\n",
       "    .dataframe thead th {\n",
       "        text-align: right;\n",
       "    }\n",
       "</style>\n",
       "<table border=\"1\" class=\"dataframe\">\n",
       "  <thead>\n",
       "    <tr style=\"text-align: right;\">\n",
       "      <th></th>\n",
       "      <th></th>\n",
       "      <th>Zone1</th>\n",
       "      <th>Zone2</th>\n",
       "      <th>Zone3</th>\n",
       "    </tr>\n",
       "    <tr>\n",
       "      <th>totim</th>\n",
       "      <th>name</th>\n",
       "      <th></th>\n",
       "      <th></th>\n",
       "      <th></th>\n",
       "    </tr>\n",
       "  </thead>\n",
       "  <tbody>\n",
       "    <tr>\n",
       "      <th rowspan=\"16\" valign=\"top\">0.0</th>\n",
       "      <th>FROM_CONSTANT_HEAD</th>\n",
       "      <td>0.000000</td>\n",
       "      <td>0.000000</td>\n",
       "      <td>0.000000</td>\n",
       "    </tr>\n",
       "    <tr>\n",
       "      <th>FROM_WELLS</th>\n",
       "      <td>0.000000</td>\n",
       "      <td>0.000000</td>\n",
       "      <td>0.000000</td>\n",
       "    </tr>\n",
       "    <tr>\n",
       "      <th>FROM_RECHARGE</th>\n",
       "      <td>126324.000000</td>\n",
       "      <td>0.000000</td>\n",
       "      <td>0.000000</td>\n",
       "    </tr>\n",
       "    <tr>\n",
       "      <th>FROM_Zone1</th>\n",
       "      <td>0.000000</td>\n",
       "      <td>100397.242188</td>\n",
       "      <td>0.000000</td>\n",
       "    </tr>\n",
       "    <tr>\n",
       "      <th>FROM_Zone2</th>\n",
       "      <td>33244.195312</td>\n",
       "      <td>0.000000</td>\n",
       "      <td>82168.070312</td>\n",
       "    </tr>\n",
       "    <tr>\n",
       "      <th>FROM_Zone3</th>\n",
       "      <td>0.000000</td>\n",
       "      <td>16207.720703</td>\n",
       "      <td>0.000000</td>\n",
       "    </tr>\n",
       "    <tr>\n",
       "      <th>TOTAL_IN</th>\n",
       "      <td>159568.187500</td>\n",
       "      <td>116604.960938</td>\n",
       "      <td>82168.070312</td>\n",
       "    </tr>\n",
       "    <tr>\n",
       "      <th>TO_CONSTANT_HEAD</th>\n",
       "      <td>55238.921875</td>\n",
       "      <td>0.000000</td>\n",
       "      <td>0.000000</td>\n",
       "    </tr>\n",
       "    <tr>\n",
       "      <th>TO_WELLS</th>\n",
       "      <td>0.000000</td>\n",
       "      <td>0.000000</td>\n",
       "      <td>70000.000000</td>\n",
       "    </tr>\n",
       "    <tr>\n",
       "      <th>TO_RECHARGE</th>\n",
       "      <td>0.000000</td>\n",
       "      <td>0.000000</td>\n",
       "      <td>0.000000</td>\n",
       "    </tr>\n",
       "    <tr>\n",
       "      <th>TO_Zone1</th>\n",
       "      <td>0.000000</td>\n",
       "      <td>33244.195312</td>\n",
       "      <td>0.000000</td>\n",
       "    </tr>\n",
       "    <tr>\n",
       "      <th>TO_Zone2</th>\n",
       "      <td>100397.242188</td>\n",
       "      <td>0.000000</td>\n",
       "      <td>16207.720703</td>\n",
       "    </tr>\n",
       "    <tr>\n",
       "      <th>TO_Zone3</th>\n",
       "      <td>0.000000</td>\n",
       "      <td>82168.070312</td>\n",
       "      <td>0.000000</td>\n",
       "    </tr>\n",
       "    <tr>\n",
       "      <th>TOTAL_OUT</th>\n",
       "      <td>155636.156250</td>\n",
       "      <td>115412.265625</td>\n",
       "      <td>86207.718750</td>\n",
       "    </tr>\n",
       "    <tr>\n",
       "      <th>IN-OUT</th>\n",
       "      <td>3932.031250</td>\n",
       "      <td>1192.695312</td>\n",
       "      <td>4039.648438</td>\n",
       "    </tr>\n",
       "    <tr>\n",
       "      <th>PERCENT_DISCREPANCY</th>\n",
       "      <td>2.494909</td>\n",
       "      <td>1.028109</td>\n",
       "      <td>4.798372</td>\n",
       "    </tr>\n",
       "  </tbody>\n",
       "</table>\n",
       "</div>"
      ],
      "text/plain": [
       "                                   Zone1          Zone2         Zone3\n",
       "totim name                                                           \n",
       "0.0   FROM_CONSTANT_HEAD        0.000000       0.000000      0.000000\n",
       "      FROM_WELLS                0.000000       0.000000      0.000000\n",
       "      FROM_RECHARGE        126324.000000       0.000000      0.000000\n",
       "      FROM_Zone1                0.000000  100397.242188      0.000000\n",
       "      FROM_Zone2            33244.195312       0.000000  82168.070312\n",
       "      FROM_Zone3                0.000000   16207.720703      0.000000\n",
       "      TOTAL_IN             159568.187500  116604.960938  82168.070312\n",
       "      TO_CONSTANT_HEAD      55238.921875       0.000000      0.000000\n",
       "      TO_WELLS                  0.000000       0.000000  70000.000000\n",
       "      TO_RECHARGE               0.000000       0.000000      0.000000\n",
       "      TO_Zone1                  0.000000   33244.195312      0.000000\n",
       "      TO_Zone2             100397.242188       0.000000  16207.720703\n",
       "      TO_Zone3                  0.000000   82168.070312      0.000000\n",
       "      TOTAL_OUT            155636.156250  115412.265625  86207.718750\n",
       "      IN-OUT                 3932.031250    1192.695312   4039.648438\n",
       "      PERCENT_DISCREPANCY       2.494909       1.028109      4.798372"
      ]
     },
     "execution_count": 6,
     "metadata": {},
     "output_type": "execute_result"
    }
   ],
   "source": [
    "zb.get_dataframes()"
   ]
  },
  {
   "cell_type": "code",
   "execution_count": null,
   "id": "a8b9ccf0-96cc-40b0-886b-929a07d4e65a",
   "metadata": {},
   "outputs": [],
   "source": []
  }
 ],
 "metadata": {
  "kernelspec": {
   "display_name": "Python 3 (ipykernel)",
   "language": "python",
   "name": "python3"
  },
  "language_info": {
   "codemirror_mode": {
    "name": "ipython",
    "version": 3
   },
   "file_extension": ".py",
   "mimetype": "text/x-python",
   "name": "python",
   "nbconvert_exporter": "python",
   "pygments_lexer": "ipython3",
   "version": "3.9.18"
  }
 },
 "nbformat": 4,
 "nbformat_minor": 5
}
