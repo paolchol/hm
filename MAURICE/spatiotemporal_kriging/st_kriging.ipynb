{
 "cells": [
  {
   "cell_type": "markdown",
   "metadata": {
    "vscode": {
     "languageId": "plaintext"
    }
   },
   "source": [
    "# Setup"
   ]
  },
  {
   "cell_type": "code",
   "execution_count": 42,
   "metadata": {},
   "outputs": [],
   "source": [
    "import geopandas as gpd\n",
    "import matplotlib.pyplot as plt\n",
    "import numpy as np\n",
    "import os\n",
    "import pandas as pd\n",
    "import scipy.io\n",
    "from scipy.spatial import ConvexHull\n",
    "import seaborn as sns\n",
    "import sklearn.preprocessing"
   ]
  },
  {
   "cell_type": "code",
   "execution_count": 2,
   "metadata": {},
   "outputs": [],
   "source": [
    "def grid_gen(coord, ncells, axes = False):\n",
    "    \"\"\"\n",
    "    Generates the grid on which to interpolate the values\n",
    "    \"\"\"\n",
    "    # generate two arrays of evenly space data between ends of previous arrays\n",
    "    xi = np.linspace(coord[0][0], coord[1][0], ncells[0])\n",
    "    yi = np.linspace(coord[0][1], coord[1][1], ncells[1])\n",
    "    if axes:\n",
    "        return(xi, yi)\n",
    "\n",
    "    # generate grid \n",
    "    xi, yi = np.meshgrid(xi, yi)\n",
    "\n",
    "    # colapse grid into 1D\n",
    "    # xi, yi = xi.flatten(), yi.flatten()\n",
    "    return(xi, yi)"
   ]
  },
  {
   "cell_type": "code",
   "execution_count": 3,
   "metadata": {},
   "outputs": [],
   "source": [
    "# cwd = os.getcwd()\n",
    "cwd = 'C:/Users/user/OneDrive - Politecnico di Milano/hydrogeo-modelling/Corsi-dottorato/advanced_geostatistics/assignment_paolo_claudia'"
   ]
  },
  {
   "cell_type": "markdown",
   "metadata": {},
   "source": [
    "# Load data"
   ]
  },
  {
   "cell_type": "code",
   "execution_count": 4,
   "metadata": {},
   "outputs": [],
   "source": [
    "#only to merge the database\n",
    "df = pd.read_csv(os.path.join(cwd, 'data', 'df.csv'))\n",
    "df.data = pd.to_datetime(df.data, format = '%d/%m/%Y %H:%M')\n",
    "df = df.sort_values('data')\n",
    "df = df[['data', 'id_punto', 'x', 'y', 'head']]\n",
    "\n",
    "df_area_grande =  pd.read_csv(os.path.join(cwd, 'data', 'df_area_grande.csv'))\n",
    "\n",
    "df_u = pd.concat([df, df_area_grande.loc[df_area_grande.origine == 'MM2023']])\n",
    "df_u = pd.concat([df_u, df_area_grande.loc[df_area_grande.origine == 'MM2024']])\n",
    "df_area_grande = df_area_grande[['data', 'id_punto', 'x', 'y', 'head', 'acquifero']]\n",
    "df_area_grande = df_area_grande.dropna(subset='acquifero')\n",
    "df_area_grande = df_area_grande.loc[df_area_grande.acquifero.str.contains('ISS'), ['data', 'id_punto', 'x', 'y', 'head']]\n",
    "\n",
    "df_u = pd.concat([df_u, df_area_grande]).reset_index(drop=True)\n",
    "df_u.data = pd.to_datetime(df_u.data)\n",
    "df_u = df_u[['data', 'id_punto', 'x', 'y', 'head']]\n",
    "\n",
    "# fix references\n",
    "df.loc[df.id_punto == 'FOG7BIS', 'head'] = df.loc[df.id_punto == 'FOG7BIS', 'head'] - 130.564 + 140.45\n",
    "df.loc[df.id_punto == 'SAP14', 'head'] = df.loc[df.id_punto == 'SAP14', 'head'] - 136.88 + 137.013\n",
    "\n",
    "# drop duplicates\n",
    "df_u = df_u.loc[~df_u.set_index(['data', 'id_punto']).index.duplicated()]\n",
    "\n",
    "df_u.to_csv(os.path.join(cwd, 'data','df_completo.csv'), index=False)"
   ]
  },
  {
   "cell_type": "code",
   "execution_count": 5,
   "metadata": {},
   "outputs": [],
   "source": [
    "# to actually load the data needed\n",
    "df = pd.read_csv(os.path.join(cwd, 'data','df_completo.csv'))\n",
    "df.data = pd.to_datetime(df.data, format = '%Y-%m-%d')\n",
    "df = df.sort_values('data').reset_index(drop=True)"
   ]
  },
  {
   "cell_type": "code",
   "execution_count": 6,
   "metadata": {},
   "outputs": [
    {
     "data": {
      "text/html": [
       "<div>\n",
       "<style scoped>\n",
       "    .dataframe tbody tr th:only-of-type {\n",
       "        vertical-align: middle;\n",
       "    }\n",
       "\n",
       "    .dataframe tbody tr th {\n",
       "        vertical-align: top;\n",
       "    }\n",
       "\n",
       "    .dataframe thead th {\n",
       "        text-align: right;\n",
       "    }\n",
       "</style>\n",
       "<table border=\"1\" class=\"dataframe\">\n",
       "  <thead>\n",
       "    <tr style=\"text-align: right;\">\n",
       "      <th></th>\n",
       "      <th>data</th>\n",
       "      <th>id_punto</th>\n",
       "      <th>x</th>\n",
       "      <th>y</th>\n",
       "      <th>head</th>\n",
       "    </tr>\n",
       "  </thead>\n",
       "  <tbody>\n",
       "    <tr>\n",
       "      <th>0</th>\n",
       "      <td>2000-01-01</td>\n",
       "      <td>PO1080350U0024</td>\n",
       "      <td>514972.0</td>\n",
       "      <td>5048824.0</td>\n",
       "      <td>134.12</td>\n",
       "    </tr>\n",
       "    <tr>\n",
       "      <th>1</th>\n",
       "      <td>2000-01-01</td>\n",
       "      <td>PO108005NU0002</td>\n",
       "      <td>510155.0</td>\n",
       "      <td>5055878.0</td>\n",
       "      <td>178.84</td>\n",
       "    </tr>\n",
       "    <tr>\n",
       "      <th>2</th>\n",
       "      <td>2000-02-01</td>\n",
       "      <td>PO108005NU0002</td>\n",
       "      <td>510155.0</td>\n",
       "      <td>5055878.0</td>\n",
       "      <td>178.74</td>\n",
       "    </tr>\n",
       "    <tr>\n",
       "      <th>3</th>\n",
       "      <td>2000-02-01</td>\n",
       "      <td>PO1080350U0024</td>\n",
       "      <td>514972.0</td>\n",
       "      <td>5048824.0</td>\n",
       "      <td>133.92</td>\n",
       "    </tr>\n",
       "    <tr>\n",
       "      <th>4</th>\n",
       "      <td>2000-03-01</td>\n",
       "      <td>PO108005NU0002</td>\n",
       "      <td>510155.0</td>\n",
       "      <td>5055878.0</td>\n",
       "      <td>178.54</td>\n",
       "    </tr>\n",
       "  </tbody>\n",
       "</table>\n",
       "</div>"
      ],
      "text/plain": [
       "        data        id_punto         x          y    head\n",
       "0 2000-01-01  PO1080350U0024  514972.0  5048824.0  134.12\n",
       "1 2000-01-01  PO108005NU0002  510155.0  5055878.0  178.84\n",
       "2 2000-02-01  PO108005NU0002  510155.0  5055878.0  178.74\n",
       "3 2000-02-01  PO1080350U0024  514972.0  5048824.0  133.92\n",
       "4 2000-03-01  PO108005NU0002  510155.0  5055878.0  178.54"
      ]
     },
     "execution_count": 6,
     "metadata": {},
     "output_type": "execute_result"
    }
   ],
   "source": [
    "df.head()"
   ]
  },
  {
   "cell_type": "markdown",
   "metadata": {},
   "source": [
    "# Obtain IT_DATA.mat (spatial interpolation)"
   ]
  },
  {
   "cell_type": "code",
   "execution_count": 7,
   "metadata": {},
   "outputs": [],
   "source": [
    "# define the interpolation extention and cell size\n",
    "# coord = [\n",
    "#     484083.976265822711866, #xmin\n",
    "#     5019001.535323087126017,  #ymin\n",
    "#     521663.116272231447510, #xmax\n",
    "#     5056468.300624042749405   #ymax\n",
    "# ]\n",
    "# reduced area\n",
    "coord = [\n",
    "    484209.998149352381006,\n",
    "    5023597.300505624152720,\n",
    "    509102.890881214640103,\n",
    "    5056401.555415857583284\n",
    "]\n",
    "\n",
    "dim = 500\n",
    "# obtain number of rows and columns\n",
    "nx, ny = round((coord[2] - coord[0])/dim), round((coord[3] - coord[1])/dim)\n",
    "# obtain the grid cell points\n",
    "xp, yp = grid_gen([(coord[0], coord[1]), (coord[2], coord[3])], [nx,ny])"
   ]
  },
  {
   "cell_type": "code",
   "execution_count": 8,
   "metadata": {},
   "outputs": [],
   "source": [
    "df_resample = df.copy()\n",
    "df_resample = df_resample.pivot_table(values='head', index='data', columns='id_punto')\n",
    "df_resample = df_resample.resample('1MS').mean()\n",
    "df_resample = df_resample.reset_index().melt(id_vars='data', value_name='head').dropna().reset_index(drop=True)\n",
    "df_resample = df_resample.merge(df.drop_duplicates(subset = 'id_punto').loc[:, ['id_punto', 'x', 'y']], on='id_punto', how = 'inner')"
   ]
  },
  {
   "cell_type": "code",
   "execution_count": 9,
   "metadata": {},
   "outputs": [
    {
     "data": {
      "text/html": [
       "<div>\n",
       "<style scoped>\n",
       "    .dataframe tbody tr th:only-of-type {\n",
       "        vertical-align: middle;\n",
       "    }\n",
       "\n",
       "    .dataframe tbody tr th {\n",
       "        vertical-align: top;\n",
       "    }\n",
       "\n",
       "    .dataframe thead th {\n",
       "        text-align: right;\n",
       "    }\n",
       "</style>\n",
       "<table border=\"1\" class=\"dataframe\">\n",
       "  <thead>\n",
       "    <tr style=\"text-align: right;\">\n",
       "      <th></th>\n",
       "      <th>id_punto</th>\n",
       "      <th>head</th>\n",
       "      <th>x</th>\n",
       "      <th>y</th>\n",
       "    </tr>\n",
       "    <tr>\n",
       "      <th>data</th>\n",
       "      <th></th>\n",
       "      <th></th>\n",
       "      <th></th>\n",
       "      <th></th>\n",
       "    </tr>\n",
       "  </thead>\n",
       "  <tbody>\n",
       "    <tr>\n",
       "      <th>2023-09-01</th>\n",
       "      <td>119</td>\n",
       "      <td>119</td>\n",
       "      <td>119</td>\n",
       "      <td>119</td>\n",
       "    </tr>\n",
       "  </tbody>\n",
       "</table>\n",
       "</div>"
      ],
      "text/plain": [
       "            id_punto  head    x    y\n",
       "data                                \n",
       "2023-09-01       119   119  119  119"
      ]
     },
     "execution_count": 9,
     "metadata": {},
     "output_type": "execute_result"
    }
   ],
   "source": [
    "# dates with at least 10 data points\n",
    "count_date = df_resample.sort_values('data').groupby('data').count()\n",
    "count_date[count_date.id_punto == count_date.id_punto.max()]"
   ]
  },
  {
   "cell_type": "code",
   "execution_count": 10,
   "metadata": {},
   "outputs": [],
   "source": [
    "# select only one time step\n",
    "tool = df_resample.loc[df_resample.data == '2023-09-01',:].copy()\n",
    "\n",
    "# select only points inside coord\n",
    "tool = tool.loc[((tool.x < coord[2]) & (tool.x > coord[0])) & ((tool.y < coord[3]) & (tool.y > coord[1])),:].copy()\n",
    "\n",
    "# reset index\n",
    "tool.reset_index(drop=True, inplace=True)"
   ]
  },
  {
   "cell_type": "code",
   "execution_count": 11,
   "metadata": {},
   "outputs": [
    {
     "name": "stdout",
     "output_type": "stream",
     "text": [
      "        data   id_punto     head           x            y\n",
      "0 2023-09-01  150120152  134.508  500259.579  5036407.488\n",
      "1 2023-09-01  150120155  135.475  500186.600  5036741.342\n",
      "2 2023-09-01  150930123  111.664  508969.607  5031354.856\n",
      "3 2023-09-01  151030234  109.752  502198.765  5025776.520\n",
      "4 2023-09-01  151461494  113.749  508444.552  5033477.036\n"
     ]
    },
    {
     "data": {
      "text/plain": [
       "<Axes: xlabel='x', ylabel='y'>"
      ]
     },
     "execution_count": 11,
     "metadata": {},
     "output_type": "execute_result"
    },
    {
     "data": {
      "image/png": "[encoded data removed]",
      "text/plain": [
       "<Figure size 640x480 with 1 Axes>"
      ]
     },
     "metadata": {},
     "output_type": "display_data"
    }
   ],
   "source": [
    "print(tool.head())\n",
    "sns.scatterplot(tool, x='x', y='y', hue='head', palette='viridis')"
   ]
  },
  {
   "cell_type": "code",
   "execution_count": 12,
   "metadata": {},
   "outputs": [],
   "source": [
    "# obtain convex hull\n",
    "points = np.array([tool.x.unique(),tool.y.unique()]).transpose()\n",
    "hull = ConvexHull(points)"
   ]
  },
  {
   "cell_type": "code",
   "execution_count": 13,
   "metadata": {},
   "outputs": [],
   "source": [
    "# set data in .mat (Matlab) format\n",
    "mat = {\n",
    "    'VAL': np.atleast_2d(tool['head'].values).transpose(),\n",
    "    'X': np.atleast_2d(tool.x.values).transpose(),\n",
    "    'XC': np.atleast_2d(hull.points[hull.vertices][:, 0]).transpose(),\n",
    "    'Y': np.atleast_2d(tool.y.values).transpose(),\n",
    "    'YC': np.atleast_2d(hull.points[hull.vertices][:, 1]).transpose(),\n",
    "    'Xp': xp, #coordinates of the prediction points\n",
    "    'Yp': yp\n",
    "}"
   ]
  },
  {
   "cell_type": "code",
   "execution_count": 63,
   "metadata": {},
   "outputs": [],
   "source": [
    "# save as .mat file\n",
    "scipy.io.savemat(os.path.join(cwd, 'data', 'MAURICE_DATA_v6.mat'), mat)\n",
    "scipy.io.savemat(os.path.join(cwd, 'code_matlab', 'MAURICE_DATA_v6.mat'), mat)\n",
    "tool.to_csv(os.path.join(cwd, 'data', 'data_2023_09_v6.csv'), index = False)"
   ]
  },
  {
   "cell_type": "markdown",
   "metadata": {},
   "source": [
    "## Normalize the data"
   ]
  },
  {
   "cell_type": "code",
   "execution_count": 46,
   "metadata": {},
   "outputs": [
    {
     "name": "stderr",
     "output_type": "stream",
     "text": [
      "c:\\Users\\user\\anaconda3\\envs\\maurice\\Lib\\site-packages\\sklearn\\preprocessing\\_data.py:2829: UserWarning: n_quantiles (1000) is greater than the total number of samples (39). n_quantiles is set to n_samples.\n",
      "  warnings.warn(\n"
     ]
    }
   ],
   "source": [
    "X = tool['head'].values.reshape(-1, 1)\n",
    "\n",
    "Y = sklearn.preprocessing.QuantileTransformer(\n",
    "            output_distribution=\"normal\", random_state=42\n",
    "        ).fit_transform(X),"
   ]
  },
  {
   "cell_type": "code",
   "execution_count": 54,
   "metadata": {},
   "outputs": [
    {
     "data": {
      "text/plain": [
       "<Axes: xlabel='x', ylabel='y'>"
      ]
     },
     "execution_count": 54,
     "metadata": {},
     "output_type": "execute_result"
    },
    {
     "data": {
      "image/png": "[encoded data removed]",
      "text/plain": [
       "<Figure size 1500x500 with 3 Axes>"
      ]
     },
     "metadata": {},
     "output_type": "display_data"
    }
   ],
   "source": [
    "fig, axes = plt.subplots(1,3, figsize =(15,5))\n",
    "sns.histplot(tool['head'], ax = axes[0])\n",
    "sns.histplot(Y[0], ax = axes[1])\n",
    "trash = tool.copy()\n",
    "trash['head'] = Y[0]\n",
    "sns.scatterplot(trash, x='x', y='y', hue='head', palette='viridis', ax = axes[2])"
   ]
  },
  {
   "cell_type": "code",
   "execution_count": 50,
   "metadata": {},
   "outputs": [],
   "source": [
    "# set data in .mat (Matlab) format\n",
    "mat = {\n",
    "    'VAL': np.atleast_2d(Y[0]),\n",
    "    'X': np.atleast_2d(tool.x.values).transpose(),\n",
    "    'XC': np.atleast_2d(hull.points[hull.vertices][:, 0]).transpose(),\n",
    "    'Y': np.atleast_2d(tool.y.values).transpose(),\n",
    "    'YC': np.atleast_2d(hull.points[hull.vertices][:, 1]).transpose(),\n",
    "    'Xp': xp, #coordinates of the prediction points\n",
    "    'Yp': yp\n",
    "}"
   ]
  },
  {
   "cell_type": "code",
   "execution_count": 51,
   "metadata": {},
   "outputs": [],
   "source": [
    "# save as .mat file\n",
    "scipy.io.savemat(os.path.join(cwd, 'data', 'MAURICE_DATA_v6_norm.mat'), mat)\n",
    "scipy.io.savemat(os.path.join(cwd, 'code_matlab', 'MAURICE_DATA_v6_norm.mat'), mat)\n",
    "tool.to_csv(os.path.join(cwd, 'data', 'data_2023_09_v6_norm.csv'), index = False)"
   ]
  },
  {
   "cell_type": "markdown",
   "metadata": {},
   "source": [
    "# Obtain TESTD.mat (spatio-temporal kriging)"
   ]
  },
  {
   "cell_type": "code",
   "execution_count": 5,
   "metadata": {},
   "outputs": [],
   "source": [
    "# define the interpolation extention and cell size\n",
    "coord = [\n",
    "    484083.976265822711866, #xmin\n",
    "    5019001.535323087126017,  #ymin\n",
    "    521663.116272231447510, #xmax\n",
    "    5056468.300624042749405   #ymax\n",
    "]\n",
    "# cols = ['z', 'id_punto', 'x', 'y']\n",
    "dim = 100\n",
    "# obtain number of rows and columns\n",
    "nx, ny = round((coord[2] - coord[0])/dim), round((coord[3] - coord[1])/dim)\n",
    "# obtain the grid cell points\n",
    "xp, yp = grid_gen([(coord[0], coord[1]), (coord[2], coord[3])], [nx,ny])\n",
    "# extract the same time step as before\n",
    "tool = df.loc[df.date == '2023-06-01',:].copy()"
   ]
  },
  {
   "cell_type": "code",
   "execution_count": 52,
   "metadata": {},
   "outputs": [],
   "source": [
    "# dates with at least 10 data points\n",
    "count_date = df.sort_values('date').groupby('date').count()\n",
    "d = count_date[count_date.id_punto > 10].index\n",
    "\n",
    "df10 = df.loc[df.date.isin(d)].reset_index(drop = True)"
   ]
  },
  {
   "cell_type": "code",
   "execution_count": 60,
   "metadata": {},
   "outputs": [],
   "source": [
    "# add timestep indicator\n",
    "t = pd.date_range(df10.date[0], df10.date[len(df10.date)-1], freq = '1MS')\n",
    "i = range(1,len(t)+1)\n",
    "ti = pd.DataFrame({'t': t, 'i': i})\n",
    "ts = [ti.loc[t == date, 'i'].values[0] for date in df10.date]\n",
    "df10['t'] = ts"
   ]
  },
  {
   "cell_type": "code",
   "execution_count": 61,
   "metadata": {},
   "outputs": [],
   "source": [
    "points = np.array([df10.x.unique(),df10.y.unique()]).transpose()\n",
    "hull = ConvexHull(points)"
   ]
  },
  {
   "cell_type": "code",
   "execution_count": 62,
   "metadata": {},
   "outputs": [],
   "source": [
    "# second test: copy TESTD.mat\n",
    "\n",
    "mat = {\n",
    "    'VAL': df10.loc[:, ['x','y','t','value']].values,\n",
    "    'X': np.atleast_2d(df10.x.values).transpose(),\n",
    "    'XC': np.atleast_2d(hull.points[hull.vertices][:, 0]).transpose(),\n",
    "    'Y': np.atleast_2d(df10.y.values).transpose(),\n",
    "    'YC': np.atleast_2d(hull.points[hull.vertices][:, 1]).transpose(),\n",
    "    'Xp': xp, #coordinates of the prediction points\n",
    "    'Yp': yp,\n",
    "    'X2': np.atleast_2d(tool.x.values).transpose(),\n",
    "    'Y2': np.atleast_2d(tool.y.values).transpose()\n",
    "}"
   ]
  },
  {
   "cell_type": "code",
   "execution_count": 63,
   "metadata": {},
   "outputs": [],
   "source": [
    "# save as .mat file\n",
    "scipy.io.savemat(os.path.join(cwd, 'data', 'TESTD_test.mat'), mat)"
   ]
  },
  {
   "cell_type": "markdown",
   "metadata": {},
   "source": [
    "# Checks"
   ]
  },
  {
   "cell_type": "code",
   "execution_count": 35,
   "metadata": {},
   "outputs": [],
   "source": [
    "# dates with at least 10 data points\n",
    "count_date = df.sort_values('date').groupby('date').count()\n",
    "d = count_date[count_date.id_punto > 10].index\n",
    "d_df = pd.DataFrame(index = d).reset_index()\n",
    "# generate a counter for each date, based on the month\n",
    "counter = pd.date_range('2009-02-01', '2024-09-01', freq='MS')\n",
    "counter_df = pd.DataFrame(counter, columns=['date_range'])\n",
    "counter_df['counter'] = range(0, counter_df.shape[0])\n",
    "counter_df = counter_df.merge(d_df, how='left', left_on='date_range', right_on='date')\n",
    "df_clean = df.loc[df.date.isin(d), :].merge(counter_df, left_on = 'date', right_on='date_range').drop(columns = 'date_range')\n",
    "df_clean = df_clean.sort_values('counter')"
   ]
  }
 ],
 "metadata": {
  "kernelspec": {
   "display_name": "maurice",
   "language": "python",
   "name": "python3"
  },
  "language_info": {
   "codemirror_mode": {
    "name": "ipython",
    "version": 3
   },
   "file_extension": ".py",
   "mimetype": "text/x-python",
   "name": "python",
   "nbconvert_exporter": "python",
   "pygments_lexer": "ipython3",
   "version": "3.13.0"
  }
 },
 "nbformat": 4,
 "nbformat_minor": 2
}
