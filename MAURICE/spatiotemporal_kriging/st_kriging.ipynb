{
 "cells": [
  {
   "cell_type": "markdown",
   "metadata": {
    "vscode": {
     "languageId": "plaintext"
    }
   },
   "source": [
    "# Setup"
   ]
  },
  {
   "cell_type": "code",
   "execution_count": 11,
   "metadata": {},
   "outputs": [],
   "source": [
    "import os\n",
    "import numpy as np\n",
    "import pandas as pd\n",
    "import scipy.io"
   ]
  },
  {
   "cell_type": "code",
   "execution_count": 6,
   "metadata": {},
   "outputs": [],
   "source": [
    "cwd = os.getcwd()"
   ]
  },
  {
   "cell_type": "markdown",
   "metadata": {},
   "source": [
    "# Load data"
   ]
  },
  {
   "cell_type": "code",
   "execution_count": 68,
   "metadata": {},
   "outputs": [],
   "source": [
    "df = pd.read_csv(os.path.join(cwd, 'data', 'st_kriging_data_points.csv'))\n",
    "df.date = pd.to_datetime(df.date)"
   ]
  },
  {
   "cell_type": "code",
   "execution_count": 25,
   "metadata": {},
   "outputs": [],
   "source": [
    "# set data in .mat (Matlab) format\n",
    "# first test: copy IT_DATA.mat\n",
    "# extract only one time step from df\n",
    "tool = df.loc[df.date == '2023-06-01',:].copy()\n",
    "mat = {\n",
    "    'VAL': np.atleast_2d(tool.value.values).transpose(),\n",
    "    'X': np.atleast_2d(tool.x.values).transpose(),\n",
    "    'XC': 0,\n",
    "    'Y': np.atleast_2d(tool.y.values).transpose(),\n",
    "    'YC': 0\n",
    "}"
   ]
  },
  {
   "cell_type": "code",
   "execution_count": null,
   "metadata": {},
   "outputs": [],
   "source": [
    "# save as .mat file\n",
    "scipy.io.savemat(os.path.join(cwd, 'data', 'IT_DATA_test.mat'), mat)"
   ]
  },
  {
   "cell_type": "code",
   "execution_count": null,
   "metadata": {},
   "outputs": [],
   "source": [
    "# second test: copy TESTD.mat\n",
    "# \n",
    "mat = {\n",
    "    \n",
    "}"
   ]
  },
  {
   "cell_type": "code",
   "execution_count": null,
   "metadata": {},
   "outputs": [],
   "source": [
    "# dates with at least 10 data points\n",
    "count_date = df.sort_values('date').groupby('date').count()\n",
    "d = count_date[count_date.id_punto > 10].index\n",
    "d_df = pd.DataFrame(index = d).reset_index()\n",
    "# generate a counter for each date, based on the month\n",
    "counter = pd.date_range('2009-02-01', '2024-09-01', freq='MS')\n",
    "counter_df = pd.DataFrame(counter, columns=['date_range'])\n",
    "counter_df['counter'] = range(0, counter_df.shape[0])\n",
    "counter_df = counter_df.merge(d_df, how='left', left_on='date_range', right_on='date')"
   ]
  },
  {
   "cell_type": "code",
   "execution_count": null,
   "metadata": {},
   "outputs": [],
   "source": [
    "df_clean = df.loc[df.date.isin(d), :].merge(counter_df, left_on = 'date', right_on='date_range').drop(columns = 'date_range')\n",
    "df_clean = df_clean.sort_values('counter')"
   ]
  },
  {
   "cell_type": "markdown",
   "metadata": {},
   "source": [
    "## Parameters"
   ]
  },
  {
   "cell_type": "code",
   "execution_count": 35,
   "metadata": {},
   "outputs": [],
   "source": [
    "coord = [\n",
    "    484234.65167973784, #xmin\n",
    "    5019178.630486382,  #ymin\n",
    "    517495.35663193866, #xmax\n",
    "    5055708.644651484   #ymax\n",
    "]"
   ]
  }
 ],
 "metadata": {
  "kernelspec": {
   "display_name": "maurice",
   "language": "python",
   "name": "python3"
  },
  "language_info": {
   "codemirror_mode": {
    "name": "ipython",
    "version": 3
   },
   "file_extension": ".py",
   "mimetype": "text/x-python",
   "name": "python",
   "nbconvert_exporter": "python",
   "pygments_lexer": "ipython3",
   "version": "3.13.0"
  }
 },
 "nbformat": 4,
 "nbformat_minor": 2
}
