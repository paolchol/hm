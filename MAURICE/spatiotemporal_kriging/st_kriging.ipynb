{
 "cells": [
  {
   "cell_type": "markdown",
   "metadata": {
    "vscode": {
     "languageId": "plaintext"
    }
   },
   "source": [
    "# Setup"
   ]
  },
  {
   "cell_type": "code",
   "execution_count": 64,
   "metadata": {},
   "outputs": [],
   "source": [
    "import geopandas as gpd\n",
    "import os\n",
    "import numpy as np\n",
    "import pandas as pd\n",
    "import scipy.io\n",
    "from scipy.spatial import ConvexHull"
   ]
  },
  {
   "cell_type": "code",
   "execution_count": 65,
   "metadata": {},
   "outputs": [],
   "source": [
    "def grid_gen(coord, ncells, axes = False):\n",
    "    \"\"\"\n",
    "    Generates the grid on which to interpolate the values\n",
    "    \"\"\"\n",
    "    # generate two arrays of evenly space data between ends of previous arrays\n",
    "    xi = np.linspace(coord[0][0], coord[1][0], ncells[0])\n",
    "    yi = np.linspace(coord[0][1], coord[1][1], ncells[1])\n",
    "    if axes:\n",
    "        return(xi, yi)\n",
    "\n",
    "    # generate grid \n",
    "    xi, yi = np.meshgrid(xi, yi)\n",
    "\n",
    "    # colapse grid into 1D\n",
    "    # xi, yi = xi.flatten(), yi.flatten()\n",
    "    return(xi, yi)"
   ]
  },
  {
   "cell_type": "code",
   "execution_count": 66,
   "metadata": {},
   "outputs": [],
   "source": [
    "cwd = os.getcwd()"
   ]
  },
  {
   "cell_type": "markdown",
   "metadata": {},
   "source": [
    "# Load data"
   ]
  },
  {
   "cell_type": "code",
   "execution_count": 67,
   "metadata": {},
   "outputs": [],
   "source": [
    "df = pd.read_csv(os.path.join(cwd, 'data', 'st_kriging_data_points.csv'))\n",
    "df.date = pd.to_datetime(df.date)\n",
    "df = df.sort_values('date')"
   ]
  },
  {
   "cell_type": "markdown",
   "metadata": {},
   "source": [
    "# Obtain IT_DATA.mat (spatial interpolation)"
   ]
  },
  {
   "cell_type": "code",
   "execution_count": 68,
   "metadata": {},
   "outputs": [],
   "source": [
    "# define the interpolation extention and cell size\n",
    "coord = [\n",
    "    484234.65167973784, #xmin\n",
    "    5019178.630486382,  #ymin\n",
    "    517495.35663193866, #xmax\n",
    "    5055708.644651484   #ymax\n",
    "]\n",
    "cols = ['z', 'id_punto', 'x', 'y']\n",
    "dim = 100\n",
    "# obtain number of rows and columns\n",
    "nx, ny = round((coord[2] - coord[0])/dim), round((coord[3] - coord[1])/dim)\n",
    "# obtain the grid cell points\n",
    "xp, yp = grid_gen([(coord[0], coord[1]), (coord[2], coord[3])], [nx,ny])"
   ]
  },
  {
   "cell_type": "code",
   "execution_count": 69,
   "metadata": {},
   "outputs": [],
   "source": [
    "# select only one time step\n",
    "tool = df.loc[df.date == '2023-06-01',:].copy()\n",
    "points = np.array([tool.x.unique(),tool.y.unique()]).transpose()\n",
    "hull = ConvexHull(points)"
   ]
  },
  {
   "cell_type": "code",
   "execution_count": 70,
   "metadata": {},
   "outputs": [],
   "source": [
    "# set data in .mat (Matlab) format\n",
    "# first test: copy IT_DATA.mat\n",
    "mat = {\n",
    "    'VAL': np.atleast_2d(tool.value.values).transpose(),\n",
    "    'X': np.atleast_2d(tool.x.values).transpose(),\n",
    "    'XC': np.atleast_2d(hull.points[hull.vertices][:, 0]).transpose(),\n",
    "    'Y': np.atleast_2d(tool.y.values).transpose(),\n",
    "    'YC': np.atleast_2d(hull.points[hull.vertices][:, 1]).transpose(),\n",
    "    'Xp': xp, #coordinates of the prediction points\n",
    "    'Yp': yp\n",
    "}"
   ]
  },
  {
   "cell_type": "code",
   "execution_count": 71,
   "metadata": {},
   "outputs": [],
   "source": [
    "# save as .mat file\n",
    "scipy.io.savemat(os.path.join(cwd, 'data', 'IT_DATA_test.mat'), mat)\n",
    "scipy.io.savemat('C:/Users/user/OneDrive - Politecnico di Milano/hydrogeo-modelling/Corsi-dottorato/advanced_geostatistics/assignment/IT_DATA_test.mat', mat)"
   ]
  },
  {
   "cell_type": "markdown",
   "metadata": {},
   "source": [
    "# Obtain TESTD.mat (spatio-temporal kriging)"
   ]
  },
  {
   "cell_type": "code",
   "execution_count": 5,
   "metadata": {},
   "outputs": [],
   "source": [
    "# define the interpolation extention and cell size\n",
    "coord = [\n",
    "    484234.65167973784, #xmin\n",
    "    5019178.630486382,  #ymin\n",
    "    517495.35663193866, #xmax\n",
    "    5055708.644651484   #ymax\n",
    "]\n",
    "cols = ['z', 'id_punto', 'x', 'y']\n",
    "dim = 100\n",
    "# obtain number of rows and columns\n",
    "nx, ny = round((coord[2] - coord[0])/dim), round((coord[3] - coord[1])/dim)\n",
    "# obtain the grid cell points\n",
    "xp, yp = grid_gen([(coord[0], coord[1]), (coord[2], coord[3])], [nx,ny])\n",
    "# extract the same time step as before\n",
    "tool = df.loc[df.date == '2023-06-01',:].copy()"
   ]
  },
  {
   "cell_type": "code",
   "execution_count": 52,
   "metadata": {},
   "outputs": [],
   "source": [
    "# dates with at least 10 data points\n",
    "count_date = df.sort_values('date').groupby('date').count()\n",
    "d = count_date[count_date.id_punto > 10].index\n",
    "\n",
    "df10 = df.loc[df.date.isin(d)].reset_index(drop = True)"
   ]
  },
  {
   "cell_type": "code",
   "execution_count": 60,
   "metadata": {},
   "outputs": [],
   "source": [
    "# add timestep indicator\n",
    "t = pd.date_range(df10.date[0], df10.date[len(df10.date)-1], freq = '1MS')\n",
    "i = range(1,len(t)+1)\n",
    "ti = pd.DataFrame({'t': t, 'i': i})\n",
    "ts = [ti.loc[t == date, 'i'].values[0] for date in df10.date]\n",
    "df10['t'] = ts"
   ]
  },
  {
   "cell_type": "code",
   "execution_count": 61,
   "metadata": {},
   "outputs": [],
   "source": [
    "points = np.array([df10.x.unique(),df10.y.unique()]).transpose()\n",
    "hull = ConvexHull(points)"
   ]
  },
  {
   "cell_type": "code",
   "execution_count": 62,
   "metadata": {},
   "outputs": [],
   "source": [
    "# second test: copy TESTD.mat\n",
    "\n",
    "mat = {\n",
    "    'VAL': df10.loc[:, ['x','y','t','value']].values,\n",
    "    'X': np.atleast_2d(df10.x.values).transpose(),\n",
    "    'XC': np.atleast_2d(hull.points[hull.vertices][:, 0]).transpose(),\n",
    "    'Y': np.atleast_2d(df10.y.values).transpose(),\n",
    "    'YC': np.atleast_2d(hull.points[hull.vertices][:, 1]).transpose(),\n",
    "    'Xp': xp, #coordinates of the prediction points\n",
    "    'Yp': yp,\n",
    "    'X2': np.atleast_2d(tool.x.values).transpose(),\n",
    "    'Y2': np.atleast_2d(tool.y.values).transpose()\n",
    "}"
   ]
  },
  {
   "cell_type": "code",
   "execution_count": 63,
   "metadata": {},
   "outputs": [],
   "source": [
    "# save as .mat file\n",
    "scipy.io.savemat(os.path.join(cwd, 'data', 'TESTD_test.mat'), mat)"
   ]
  },
  {
   "cell_type": "markdown",
   "metadata": {},
   "source": [
    "# Checks"
   ]
  },
  {
   "cell_type": "code",
   "execution_count": 35,
   "metadata": {},
   "outputs": [],
   "source": [
    "# dates with at least 10 data points\n",
    "count_date = df.sort_values('date').groupby('date').count()\n",
    "d = count_date[count_date.id_punto > 10].index\n",
    "d_df = pd.DataFrame(index = d).reset_index()\n",
    "# generate a counter for each date, based on the month\n",
    "counter = pd.date_range('2009-02-01', '2024-09-01', freq='MS')\n",
    "counter_df = pd.DataFrame(counter, columns=['date_range'])\n",
    "counter_df['counter'] = range(0, counter_df.shape[0])\n",
    "counter_df = counter_df.merge(d_df, how='left', left_on='date_range', right_on='date')\n",
    "df_clean = df.loc[df.date.isin(d), :].merge(counter_df, left_on = 'date', right_on='date_range').drop(columns = 'date_range')\n",
    "df_clean = df_clean.sort_values('counter')"
   ]
  },
  {
   "cell_type": "code",
   "execution_count": null,
   "metadata": {},
   "outputs": [],
   "source": []
  },
  {
   "cell_type": "code",
   "execution_count": null,
   "metadata": {},
   "outputs": [],
   "source": []
  },
  {
   "cell_type": "code",
   "execution_count": null,
   "metadata": {},
   "outputs": [],
   "source": []
  },
  {
   "cell_type": "code",
   "execution_count": null,
   "metadata": {},
   "outputs": [],
   "source": []
  }
 ],
 "metadata": {
  "kernelspec": {
   "display_name": "maurice",
   "language": "python",
   "name": "python3"
  },
  "language_info": {
   "codemirror_mode": {
    "name": "ipython",
    "version": 3
   },
   "file_extension": ".py",
   "mimetype": "text/x-python",
   "name": "python",
   "nbconvert_exporter": "python",
   "pygments_lexer": "ipython3",
   "version": "3.13.0"
  }
 },
 "nbformat": 4,
 "nbformat_minor": 2
}
