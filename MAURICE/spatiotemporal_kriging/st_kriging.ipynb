{
 "cells": [
  {
   "cell_type": "markdown",
   "metadata": {
    "vscode": {
     "languageId": "plaintext"
    }
   },
   "source": [
    "# Setup"
   ]
  },
  {
   "cell_type": "code",
   "execution_count": null,
   "metadata": {},
   "outputs": [],
   "source": [
    "import os\n",
    "import pandas as pd"
   ]
  },
  {
   "cell_type": "code",
   "execution_count": 3,
   "metadata": {},
   "outputs": [],
   "source": [
    "cwd = 'C:/Users/user/OneDrive - Politecnico di Milano/hydrogeo-modelling/Progetti/MAURICE/MAURICE_progetto/Dati'"
   ]
  },
  {
   "cell_type": "code",
   "execution_count": null,
   "metadata": {},
   "outputs": [],
   "source": [
    "#carica dati arpa 2000-2023\n",
    "metaarpa = pd.read_csv(\"C:/Users/user/OneDrive - Politecnico di Milano/hydrogeo-modelling/Dati/ARPA Lombardia/piezo/download_database_170924/meta_ARPA_Lombardia_2000_2023_merged.csv\")\n",
    "dbarpa = pd.read_csv(\"C:/Users/user/OneDrive - Politecnico di Milano/hydrogeo-modelling/Dati/ARPA Lombardia/piezo/download_database_170924/df_ARPA_Lombardia_2000_2023_merged.csv\")\n",
    "# seleziona piezo arpa necessari\n",
    "codes = pd.read_csv('c:\\\\repos\\\\MAURICE\\\\data\\\\codes_arpa_maurice.csv')\n",
    "ts_arpa = dbarpa.loc[dbarpa.CODICE.isin(codes.CODICE),:].copy()\n",
    "ts_arpa.Data = pd.to_datetime(ts_arpa.Data)\n",
    "# ottieni dati mensili\n",
    "ts_arpa = ts_arpa.pivot_table(index = 'Data', columns='CODICE', values='head')\n",
    "ts_arpa = ts_arpa.resample('1MS').mean()\n",
    "#carica dati MAURICE 2023-2024\n",
    "meta = pd.read_csv(os.path.join(cwd, 'Dati_piezometrici', 'struttura-webgis', '1-anagrafica_MAURICE.csv'))\n",
    "ts = pd.read_csv(os.path.join(cwd, 'Dati_piezometrici', 'struttura-webgis', 'altro', '7-dati_piezo_MAURICE_csv.csv'))\n",
    "#rimuovi da dati MAURICE i punti arpa\n",
    "ts.drop(index = ts.loc[ts.codice_campagna == 'ARPA'].index, inplace=True)\n",
    "ts.data = pd.to_datetime(ts.data)\n",
    "ts = ts.loc[:, ['data', 'id_punto', 'quota_falda']]\n",
    "#tieni metadati per i punti che hanno osservazioni\n",
    "meta = meta.loc[meta.id_punto.isin(ts.id_punto.unique()), :]\n",
    "#pivot per ottenere osservazioni sulle righe e punti sulle colonne\n",
    "ts = ts.pivot_table(index = 'data', columns = 'id_punto', values = 'quota_falda')\n",
    "# ottieni dati mensili\n",
    "tsm = ts.resample('1MS').mean()\n",
    "# unisci i due database\n",
    "#meta\n",
    "meta1 = metaarpa.loc[:, ['CODICE','X_WGS84', 'Y_WGS84']].copy()\n",
    "meta2 = meta.loc[:, ['id_punto', 'x_sr2', 'y_sr2']].copy()\n",
    "\n",
    "meta1.columns = ['id_punto', 'x_sr2', 'y_sr2']\n",
    "\n",
    "metau = pd.concat([meta1, meta2], axis = 0)\n",
    "metau.reset_index(inplace=True, drop=True)\n",
    "\n",
    "#ts\n",
    "tsu = tsm.merge(ts_arpa, how = 'outer', left_index=True, right_index=True)\n",
    "tool = tsu.reset_index().melt(id_vars = ['index']).dropna()\n",
    "tool.columns = ['date', 'id_punto', 'value']\n",
    "st_df = tool.merge(metau, how = 'left', on = 'id_punto')\n",
    "st_df.columns = ['date', 'id_punto', 'value', 'x', 'y']\n",
    "rimuovi = [\n",
    "    '410009', '150100132', '150100081', '150100005', 'PZ1B', 'LagoCapanna',\n",
    "    '150120160', '150120134', '150120135', '150120149'\n",
    "]\n",
    "st_df = st_df.loc[~st_df.id_punto.isin(rimuovi),:]\n",
    "# st_df.to_csv('data/st_kriging_data_points.csv')"
   ]
  },
  {
   "cell_type": "markdown",
   "metadata": {},
   "source": [
    "## Parameters"
   ]
  },
  {
   "cell_type": "code",
   "execution_count": 35,
   "metadata": {},
   "outputs": [],
   "source": [
    "coord = [\n",
    "    484234.65167973784, #xmin\n",
    "    5019178.630486382,  #ymin\n",
    "    517495.35663193866, #xmax\n",
    "    5055708.644651484   #ymax\n",
    "]"
   ]
  }
 ],
 "metadata": {
  "kernelspec": {
   "display_name": "maurice",
   "language": "python",
   "name": "python3"
  },
  "language_info": {
   "codemirror_mode": {
    "name": "ipython",
    "version": 3
   },
   "file_extension": ".py",
   "mimetype": "text/x-python",
   "name": "python",
   "nbconvert_exporter": "python",
   "pygments_lexer": "ipython3",
   "version": "3.13.0"
  }
 },
 "nbformat": 4,
 "nbformat_minor": 2
}
