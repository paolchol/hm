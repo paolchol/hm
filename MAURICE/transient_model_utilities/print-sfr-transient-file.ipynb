{
 "cells": [
  {
   "cell_type": "markdown",
   "metadata": {},
   "source": [
    "## Setup"
   ]
  },
  {
   "cell_type": "code",
   "execution_count": 1,
   "metadata": {},
   "outputs": [],
   "source": [
    "import numpy as np\n",
    "import os\n",
    "import pandas as pd\n",
    "import shutil"
   ]
  },
  {
   "cell_type": "code",
   "execution_count": 2,
   "metadata": {},
   "outputs": [
    {
     "data": {
      "text/plain": [
       "'c:\\\\repos\\\\hm\\\\MAURICE'"
      ]
     },
     "execution_count": 2,
     "metadata": {},
     "output_type": "execute_result"
    }
   ],
   "source": [
    "cwd = '\\\\'.join((os.getcwd()).split('\\\\')[:-1])\n",
    "cwd"
   ]
  },
  {
   "cell_type": "markdown",
   "metadata": {},
   "source": [
    "## Test vari"
   ]
  },
  {
   "cell_type": "code",
   "execution_count": 3,
   "metadata": {},
   "outputs": [],
   "source": [
    "f = open(os.path.join(cwd, 'test_models', 'm19_reach_mod.sfr'), 'a')\n",
    "f.write('\\n test test')\n",
    "f.close()"
   ]
  },
  {
   "cell_type": "code",
   "execution_count": 4,
   "metadata": {},
   "outputs": [
    {
     "data": {
      "text/plain": [
       "'          1.100          0.100          0.600'"
      ]
     },
     "execution_count": 4,
     "metadata": {},
     "output_type": "execute_result"
    }
   ],
   "source": [
    "import fortranformat as ff\n",
    "header_line = ff.FortranRecordWriter('(A15, A15, A15)')\n",
    "header_line.write(['x', 'y', 'z'])\n",
    "line = ff.FortranRecordWriter('(3F15.3)')\n",
    "line.write([1.0, 0.0, 0.5])\n",
    "line.write([1.1, 0.1, 0.6])"
   ]
  },
  {
   "cell_type": "code",
   "execution_count": 10,
   "metadata": {},
   "outputs": [],
   "source": [
    "# Load SFR characteristics from Excel files and shapefile\n",
    "sfr_data = os.path.join(cwd, 'test_models', 'm11_C1_sfr_data.xlsx')\n",
    "# sfr_shp = gpd.read_file(os.path.join(cwd, 'test_models', 'SFR_ICALC2.shp'))\n",
    "\n",
    "# Load general parameters (item 1)\n",
    "it1 = pd.read_excel(sfr_data, sheet_name = 'ITEM1')\n",
    "\n",
    "# Load reach data (item 2)\n",
    "# reach_data = pd.read_excel(sfr_data, sheet_name = 'ITEM2b')\n",
    "# reach_data = reach_data.merge(sfr_shp.loc[:, ['node', 'row', 'column', 'layer']], left_on = 'NRCH', right_on = 'node')\n",
    "# reach_data = reach_data.drop(columns = 'NRCH')\n",
    "# reach_data = reach_data.apply(pd.to_numeric)\n",
    "# reach_data.columns = ['iseg', 'ireach', 'rchlen', 'strtop', 'slope',  'strthick',  'strhc1', 'node', 'k', 'i', 'j']\n",
    "# reach_data = reach_data.loc[:,:].to_records(index = False)\n",
    "# flopy adds 1 to node???\n",
    "# reach_data.node = reach_data.node - 1\n",
    "\n",
    "# Load item 5\n",
    "it5 = pd.read_excel(sfr_data, sheet_name = 'ITEM5')\n",
    "\n",
    "# Load segment data (item 6a)\n",
    "segment_data = pd.read_excel(sfr_data, sheet_name = 'ITEM6abc')\n",
    "segment_data.columns = [x.lower() for x in segment_data.columns]\n",
    "segment_data.drop(columns = ['width1', 'width2'], inplace=True)\n",
    "segment_data = segment_data.loc[:,:].to_records(index = False)\n",
    "# drop width1, width2\n",
    "# segment_data = {0: segment_data}\n",
    "\n",
    "it6d = pd.read_excel(sfr_data, sheet_name = 'ITEM6d')\n",
    "geom_data = {}\n",
    "for seg in it6d.segment.unique():\n",
    "    tool = it6d.loc[it6d.segment == seg, [f'v{i}' for i in range(1,9)]].to_numpy().copy()\n",
    "    geom_data[int(seg)] = [tool[0].tolist(), tool[1].tolist()]\n",
    "# geom_data = {0: geom_data}\n",
    "\n",
    "# Set the unit number\n",
    "unit_number = 27\n",
    "\n",
    "# Load the data to be set up into the different stress periods\n",
    "q = pd.read_csv(os.path.join(cwd, 'test_models', 'portate_segmenti.csv'))\n",
    "q[q.isna()] = 0"
   ]
  },
  {
   "cell_type": "code",
   "execution_count": 11,
   "metadata": {},
   "outputs": [],
   "source": [
    "df_segment_data = {}\n",
    "for sp in range(1, 91+1):\n",
    "    tool = q.loc[q.SP == sp, ['Qin', 'Sg_2', 'Sg_3', 'Sg_4', 'Sg_5', 'Sg_6', 'Sg_7']].values[0]\n",
    "    tool = np.around(tool, 5)\n",
    "    tool = [tool[0]] + [-x if x != 0 else 0 for x in tool[1:]]\n",
    "    segment_data[0].flow = tool\n",
    "    df_segment_data[sp] = segment_data[0].copy()"
   ]
  },
  {
   "cell_type": "code",
   "execution_count": 14,
   "metadata": {},
   "outputs": [],
   "source": [
    "line = ff.FortranRecordWriter('(12F15.5)')\n",
    "line.write([i for i in df_segment_data[1][0]])"
   ]
  },
  {
   "cell_type": "code",
   "execution_count": 53,
   "metadata": {},
   "outputs": [
    {
     "name": "stdout",
     "output_type": "stream",
     "text": [
      "         7         0         0         0\n"
     ]
    }
   ],
   "source": [
    "line5 = ''.join([f'{i:10d}' for i in it5.values[0]])\n",
    "print(line5)"
   ]
  },
  {
   "cell_type": "code",
   "execution_count": 45,
   "metadata": {},
   "outputs": [
    {
     "data": {
      "text/plain": [
       "'         1         2         2         0         0         0  1.185710         0         0         0  0.017000  0.017000'"
      ]
     },
     "execution_count": 45,
     "metadata": {},
     "output_type": "execute_result"
    }
   ],
   "source": [
    "tool = df_segment_data[1][0]\n",
    "line6a = f\"{tool.nseg:10d}{tool.icalc:10d}{tool.outseg:10d}{tool.iupseg:10d}{tool.iprior:10d}{tool.nstrpts:10d}{tool.flow:10f}{tool.runoff:10d}{tool.etsw:10d}{tool.pptsw:10d}{tool.roughch:10f}{tool.roughbk:10f}\"\n",
    "line6a"
   ]
  },
  {
   "cell_type": "code",
   "execution_count": 44,
   "metadata": {},
   "outputs": [
    {
     "name": "stdout",
     "output_type": "stream",
     "text": [
      "  0.000000  2.390000  4.380000  4.730000  9.290000 15.260000 15.560000 19.730000\n",
      "  3.290000  1.800000  0.200000  0.100000  0.000000  0.100000  0.200000  3.290000\n"
     ]
    }
   ],
   "source": [
    "xcpt = geom_data[0][1][0]\n",
    "zcpt = geom_data[0][1][1]\n",
    "line6d1 = ''.join([f'{x:10f}' for x in xcpt])\n",
    "line6d2 = ''.join([f'{z:10f}' for z in zcpt])\n",
    "print(line6d1)\n",
    "print(line6d2)"
   ]
  },
  {
   "cell_type": "markdown",
   "metadata": {},
   "source": [
    "## Scrittura del file .sfr tramite impostazione del formato"
   ]
  },
  {
   "cell_type": "code",
   "execution_count": 3,
   "metadata": {},
   "outputs": [],
   "source": [
    "# create copy of original file\n",
    "shutil.copyfile(os.path.join(cwd, 'test_models', 'm19_2_reach.sfr'), os.path.join(cwd, 'test_models', 'm19_2_reach_segment.sfr'))\n",
    "shutil.copyfile(os.path.join(cwd, 'test_models', 'm19_2_reach.sfr'), os.path.join(cwd, 'test_models', 'm19_2_reach_segment_stazionario.sfr'))\n",
    "\n",
    "# load copy\n",
    "sfr = open(os.path.join(cwd, 'test_models', 'm19_2_reach_segment.sfr'), 'a')\n",
    "sfr_staz = open(os.path.join(cwd, 'test_models', 'm19_2_reach_segment_stazionario.sfr'), 'a')"
   ]
  },
  {
   "cell_type": "code",
   "execution_count": 4,
   "metadata": {},
   "outputs": [],
   "source": [
    "# load sfr data from excel\n",
    "sfr_data = os.path.join(cwd, 'test_models', 'm19_sfr_data.xlsx')\n",
    "\n",
    "# Load item 5\n",
    "it5 = pd.read_excel(sfr_data, sheet_name = 'ITEM5')\n",
    "\n",
    "# Load segment data (item 6a)\n",
    "sd = pd.read_excel(sfr_data, sheet_name = 'ITEM6a')\n",
    "sd.columns = [x.lower() for x in sd.columns]\n",
    "# sd.drop(columns = ['width1', 'width2'], inplace=True)\n",
    "sd = sd.loc[:,:].to_records(index = False)\n",
    "\n",
    "# load geometry data (item 6d) \n",
    "it6d = pd.read_excel(sfr_data, sheet_name = 'ITEM6d')\n",
    "geom_data = {}\n",
    "for seg in it6d.segment.unique():\n",
    "    tool = it6d.loc[it6d.segment == seg, [f'v{i}' for i in range(1,9)]].to_numpy().copy()\n",
    "    geom_data[int(seg)] = [tool[0].tolist(), tool[1].tolist()]\n",
    "\n",
    "# Load the data to be set up into the different stress periods\n",
    "q = pd.read_csv(os.path.join(cwd, 'test_models', 'portate_segmenti_sp69.csv'))\n",
    "q[q.isna()] = 0"
   ]
  },
  {
   "cell_type": "code",
   "execution_count": 60,
   "metadata": {},
   "outputs": [],
   "source": [
    "# set number of stress periods\n",
    "nsp = 69\n",
    "nseg = 7"
   ]
  },
  {
   "cell_type": "code",
   "execution_count": 61,
   "metadata": {},
   "outputs": [],
   "source": [
    "for sp in range(1, nsp+1):\n",
    "    # extract discharge for selected stress period\n",
    "    qs = q.loc[q.SP == sp, ['Qin', 'Sg_2', 'Sg_3', 'Sg_4', 'Sg_5', 'Sg_6', 'Sg_7']].values[0]\n",
    "    qs = np.around(qs, 5)\n",
    "    qs = [qs[0]] + [-x if x != 0 else 0 for x in qs[1:]]\n",
    "    # add sp discharge to the segment data structure\n",
    "    sd.flow = qs\n",
    "    if sp == 1:\n",
    "        line5 = '\\n' + ''.join([f'{i:3d}' for i in it5.values[0]]) + '\\n'\n",
    "        sfr_staz.write(line5)\n",
    "    else:\n",
    "        line5 = ''.join([f'{i:3d}' for i in it5.values[0]]) + '\\n'\n",
    "    sfr.write(line5)\n",
    "    for seg in range(0, nseg):\n",
    "        # compose stress period lines\n",
    "        \n",
    "        line6a = f\"{sd[seg].nseg:3d}{sd[seg].icalc:3d}{sd[seg].outseg:3d}{sd[seg].iprior:3d}{sd[seg].flow:10f}{sd[seg].runoff:10f}{sd[seg].etsw:10f}{sd[seg].pptsw:10f}{sd[seg].roughch:10f}{sd[seg].roughbk:10f}\" + '\\n'\n",
    "        line6d1 = ''.join([f'{x:10f}' for x in geom_data[seg+1][0]]) + '\\n'\n",
    "        line6d2 = ''.join([f'{z:10f}' for z in geom_data[seg+1][1]]) + '\\n'\n",
    "\n",
    "        # write lines to file\n",
    "        sfr.write(line6a)\n",
    "        sfr.write(line6d1)\n",
    "        sfr.write(line6d2)\n",
    "        if sp == 1:\n",
    "            sfr_staz.write(line6a)\n",
    "            sfr_staz.write(line6d1)\n",
    "            sfr_staz.write(line6d2)\n",
    "\n",
    "# close file\n",
    "sfr.close()\n",
    "sfr_staz.close()"
   ]
  },
  {
   "cell_type": "markdown",
   "metadata": {},
   "source": [
    "## Altro metodo: preparare file di input per GWV"
   ]
  },
  {
   "cell_type": "code",
   "execution_count": 5,
   "metadata": {},
   "outputs": [],
   "source": [
    "# Load the data to be set up into the different stress periods\n",
    "q = pd.read_csv(os.path.join(cwd, 'test_models', 'portate_segmenti_sp69.csv'))\n",
    "q[q.isna()] = 0\n",
    "\n",
    "tool = q[['SP', 'Qin'] + [f'Sg_{i}' for i in range(2,8)]]\n",
    "tool = tool.melt(id_vars='SP')\n",
    "\n",
    "tool.columns = ['SP', 'SEG', 'FLOW']\n",
    "seg = {\n",
    "    'Qin': 1,\n",
    "    'Sg_2': 2,\n",
    "    'Sg_3': 3,\n",
    "    'Sg_4': 4,\n",
    "    'Sg_5': 5,\n",
    "    'Sg_6': 6,\n",
    "    'Sg_7': 7,\n",
    "}\n",
    "tool.SEG = [seg[x] for x in tool.SEG]\n",
    "tool['ICALC'] = 2"
   ]
  },
  {
   "cell_type": "code",
   "execution_count": 18,
   "metadata": {},
   "outputs": [],
   "source": [
    "tool.to_csv(os.path.join(cwd, 'test_models', 'portate_segmenti_sp69_perGWV.csv'))"
   ]
  }
 ],
 "metadata": {
  "kernelspec": {
   "display_name": "maurice",
   "language": "python",
   "name": "python3"
  },
  "language_info": {
   "codemirror_mode": {
    "name": "ipython",
    "version": 3
   },
   "file_extension": ".py",
   "mimetype": "text/x-python",
   "name": "python",
   "nbconvert_exporter": "python",
   "pygments_lexer": "ipython3",
   "version": "3.13.0"
  }
 },
 "nbformat": 4,
 "nbformat_minor": 2
}
