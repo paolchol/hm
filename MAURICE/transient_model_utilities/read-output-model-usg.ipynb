{
 "cells": [
  {
   "cell_type": "markdown",
   "id": "744233c5",
   "metadata": {},
   "source": [
    "# Setup"
   ]
  },
  {
   "cell_type": "code",
   "execution_count": 36,
   "id": "da767a4b",
   "metadata": {},
   "outputs": [],
   "source": [
    "import datetime\n",
    "import matplotlib.pyplot as plt\n",
    "import os\n",
    "import pandas as pd\n",
    "\n",
    "import sys\n",
    "sys.path.append('D:\\\\repos\\\\custom_packages')\n",
    "import dataviz as dv"
   ]
  },
  {
   "cell_type": "markdown",
   "id": "262b7f5e",
   "metadata": {},
   "source": [
    "# Read from GWV target files"
   ]
  },
  {
   "cell_type": "markdown",
   "id": "d107578f",
   "metadata": {},
   "source": [
    "## Path definition"
   ]
  },
  {
   "cell_type": "code",
   "execution_count": 38,
   "id": "910db748",
   "metadata": {},
   "outputs": [],
   "source": [
    "model_cwd = 'D:/MAURICE/MAURICE Model/MAU_v2/MAU_v2_transient/MAU_v3'\n",
    "model_name = 'M3'\n",
    "date_start = datetime.datetime(2023,9,3)"
   ]
  },
  {
   "cell_type": "markdown",
   "id": "d0cc61ec",
   "metadata": {},
   "source": [
    "## Visualization"
   ]
  },
  {
   "cell_type": "code",
   "execution_count": null,
   "id": "58e01846",
   "metadata": {},
   "outputs": [],
   "source": [
    "# Read\n",
    "target_results = pd.read_csv(os.path.join(model_cwd, f'{model_name}_headtarget_resids.csv'))\n",
    "\n",
    "# Obtain field \"date\"\n",
    "dates = [date_start + datetime.timedelta(0, t) for t in target_results.Time]\n",
    "target_results['Date'] = dates\n",
    "\n",
    "# Sort from North to South\n",
    "df_plot = target_results.sort_values('Y', ascending=False).copy()"
   ]
  },
  {
   "cell_type": "code",
   "execution_count": null,
   "id": "e3220d5c",
   "metadata": {},
   "outputs": [
    {
     "name": "stdout",
     "output_type": "stream",
     "text": [
      "Number of head target points:  49\n"
     ]
    }
   ],
   "source": [
    "print('Number of head target points: ', len(target_results.Name.unique()))"
   ]
  },
  {
   "cell_type": "code",
   "execution_count": null,
   "id": "10ad3dfd",
   "metadata": {},
   "outputs": [],
   "source": [
    "# Visualize subplots\n",
    "fig, axes = plt.subplots(10, 5, figsize = dv.cm2inch(5*10*2.5, 5*10*2.5))\n",
    "\n",
    "i = 0\n",
    "for ax in axes.flatten():\n",
    "    if i < len(df_plot.Name.unique()):\n",
    "        tool = df_plot.loc[df_plot.Name == df_plot.Name.unique()[i], :].sort_values('Time').copy()\n",
    "        ax.plot(tool.loc[:, 'Date'],\n",
    "                tool.loc[:, 'Observed'],\n",
    "                marker = 'o', linestyle = '-', color = 'tab:red', label = 'obs')\n",
    "        ax.plot(tool.loc[:, 'Date'],\n",
    "                tool.loc[:, 'Simulated'],\n",
    "                marker = 'o', linestyle = '--', color = 'tab:blue', label = 'sim')\n",
    "        ax.legend()\n",
    "        ax.set_title(df_plot.Name.unique()[i], fontweight = 'bold', ha = 'center', fontsize = 16)\n",
    "        ax.tick_params(axis='both', which='major', labelsize=16)\n",
    "    i += 1\n",
    "\n",
    "# settare visualizzazione come YY-MM\n",
    "\n",
    "fig.tight_layout()"
   ]
  }
 ],
 "metadata": {
  "kernelspec": {
   "display_name": "maurice-env",
   "language": "python",
   "name": "python3"
  },
  "language_info": {
   "codemirror_mode": {
    "name": "ipython",
    "version": 3
   },
   "file_extension": ".py",
   "mimetype": "text/x-python",
   "name": "python",
   "nbconvert_exporter": "python",
   "pygments_lexer": "ipython3",
   "version": "3.13.3"
  }
 },
 "nbformat": 4,
 "nbformat_minor": 5
}
