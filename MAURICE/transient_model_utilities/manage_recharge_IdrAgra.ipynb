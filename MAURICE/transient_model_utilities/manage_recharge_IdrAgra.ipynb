{
 "cells": [
  {
   "cell_type": "code",
   "execution_count": 1,
   "metadata": {},
   "outputs": [],
   "source": [
    "import geopandas as gpd\n",
    "import os\n",
    "import pandas as pd"
   ]
  },
  {
   "cell_type": "code",
   "execution_count": 2,
   "metadata": {},
   "outputs": [],
   "source": [
    "cwd = os.getcwd()\n",
    "rchpath = \"C:/Users/user/OneDrive - Politecnico di Milano/hydrogeo-modelling/Progetti/MAURICE/MAURICE_progetto/Elaborazioni/IdrAgra/modalita_fabbisogni\""
   ]
  },
  {
   "cell_type": "code",
   "execution_count": 18,
   "metadata": {},
   "outputs": [],
   "source": [
    "nomefile = \"field_percolation_noGW_weekly_012023-092024.csv\""
   ]
  },
  {
   "cell_type": "code",
   "execution_count": 17,
   "metadata": {},
   "outputs": [],
   "source": [
    "centroidi = gpd.read_file(os.path.join(cwd, 'data', 'shp', 'modello_MAURICE_centroidi.shp'))\n",
    "rch = pd.read_csv(os.path.join(rchpath, nomefile), sep = ',', index_col=None)\n",
    "\n",
    "# add 'row' and 'column' columns\n",
    "rch['row'] = [code.split('x')[0] for code in rch.rXc]\n",
    "rch['column'] = [code.split('x')[1] for code in rch.rXc]\n",
    "# keep only points present in the MODFLOW model boundaries\n",
    "rch = rch.loc[~rch.column.isin(['124','125']), :]\n",
    "\n",
    "# keep sp23 to sp91\n",
    "rch.drop(columns = [f'SP{i}' for i in range(1,23)], inplace=True)\n",
    "rch = rch.iloc[:,1:]\n",
    "rch.columns = rch.columns[0:3].tolist() + [f'SP{i}' for i in range(1,70)]\n",
    "\n",
    "centroidi['rXc'] = [f'{r}x{c}' for r,c in zip(centroidi.row, centroidi.column)]\n",
    "centroidi = centroidi.loc[:,['row','column', 'rXc', 'geometry']]\n",
    "\n",
    "rchshp = centroidi.merge(rch.iloc[:, 2:], on = 'rXc')\n",
    "\n",
    "rchshp.to_file(os.path.join(rchpath, \"shapefile\", f\"{nomefile.replace('012023', '062023').split('.')[0]}.shp\"))"
   ]
  }
 ],
 "metadata": {
  "kernelspec": {
   "display_name": "base",
   "language": "python",
   "name": "python3"
  },
  "language_info": {
   "codemirror_mode": {
    "name": "ipython",
    "version": 3
   },
   "file_extension": ".py",
   "mimetype": "text/x-python",
   "name": "python",
   "nbconvert_exporter": "python",
   "pygments_lexer": "ipython3",
   "version": "3.11.5"
  }
 },
 "nbformat": 4,
 "nbformat_minor": 2
}
