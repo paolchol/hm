{
 "cells": [
  {
   "cell_type": "markdown",
   "metadata": {},
   "source": [
    "Analisi risultati calibrazione\n",
    "\n",
    "Author: Pietro Mazzon\n",
    "Mail: pietro.mazzon@polimi.it\n",
    "Date: 04/11/2024"
   ]
  },
  {
   "cell_type": "code",
   "execution_count": 1,
   "metadata": {},
   "outputs": [
    {
     "name": "stdout",
     "output_type": "stream",
     "text": [
      "Pandas version: 1.5.3\n",
      "Numpy version: 1.23.5\n",
      "Matplotlib version: 3.7.0\n"
     ]
    }
   ],
   "source": [
    "# import libraries\n",
    "import os\n",
    "\n",
    "import pandas as pd\n",
    "print('Pandas version: '+pd.__version__) #check version\n",
    "\n",
    "import numpy as np\n",
    "print('Numpy version: '+np.__version__) #check version\n",
    "\n",
    "import matplotlib as mpl\n",
    "import matplotlib.pyplot as plt\n",
    "print('Matplotlib version: '+mpl.__version__) #check version"
   ]
  },
  {
   "cell_type": "code",
   "execution_count": 2,
   "metadata": {},
   "outputs": [
    {
     "name": "stdout",
     "output_type": "stream",
     "text": [
      "d:\\Pietro\\PhD\\ENI-Rewind\\Priolo\\CS9\\Analisi\n"
     ]
    }
   ],
   "source": [
    "# set WD\n",
    "cwd = os.getcwd()\n",
    "print(cwd)"
   ]
  },
  {
   "cell_type": "code",
   "execution_count": 3,
   "metadata": {},
   "outputs": [],
   "source": [
    "# Read the DF\n",
    "file = 'Residuals_CS9ext_v12_new.csv' # inserire nome del file di input\n",
    "outp_file = 'statistics_v12_new.csv' # inserire nome del file di output\n",
    "path = os.path.join(cwd,file)\n",
    "df = pd.read_csv(path)"
   ]
  },
  {
   "cell_type": "code",
   "execution_count": null,
   "metadata": {},
   "outputs": [
    {
     "data": {
      "text/plain": [
       "Name         object\n",
       "X           float64\n",
       "Y           float64\n",
       "Layer       float64\n",
       "Observed    float64\n",
       "Computed    float64\n",
       "Weight      float64\n",
       "Group       float64\n",
       "Residual    float64\n",
       "dtype: object"
      ]
     },
     "execution_count": 4,
     "metadata": {},
     "output_type": "execute_result"
    }
   ],
   "source": [
    "# explore DF\n",
    "#df.head() # firts records of DF\n",
    "#df.tail() # last records of DF\n",
    "#df.shape # print dimensions of DF\n",
    "df.dtypes # variable types"
   ]
  },
  {
   "cell_type": "code",
   "execution_count": 5,
   "metadata": {},
   "outputs": [
    {
     "data": {
      "text/plain": [
       "['Name',\n",
       " 'X',\n",
       " 'Y',\n",
       " 'Layer',\n",
       " 'Observed',\n",
       " 'Computed',\n",
       " 'Weight',\n",
       " 'Group',\n",
       " 'Residual']"
      ]
     },
     "execution_count": 5,
     "metadata": {},
     "output_type": "execute_result"
    }
   ],
   "source": [
    "# save column names to a list\n",
    "columns = df.columns.to_list()\n",
    "columns"
   ]
  },
  {
   "cell_type": "code",
   "execution_count": 6,
   "metadata": {},
   "outputs": [
    {
     "name": "stdout",
     "output_type": "stream",
     "text": [
      "<class 'pandas.core.frame.DataFrame'>\n",
      "RangeIndex: 177 entries, 0 to 176\n",
      "Data columns (total 9 columns):\n",
      " #   Column    Non-Null Count  Dtype  \n",
      "---  ------    --------------  -----  \n",
      " 0   Name      177 non-null    object \n",
      " 1   X         177 non-null    float64\n",
      " 2   Y         164 non-null    float64\n",
      " 3   Layer     164 non-null    float64\n",
      " 4   Observed  164 non-null    float64\n",
      " 5   Computed  164 non-null    float64\n",
      " 6   Weight    164 non-null    float64\n",
      " 7   Group     164 non-null    float64\n",
      " 8   Residual  164 non-null    float64\n",
      "dtypes: float64(8), object(1)\n",
      "memory usage: 12.6+ KB\n"
     ]
    }
   ],
   "source": [
    "# check null values\n",
    "df.info()"
   ]
  },
  {
   "cell_type": "code",
   "execution_count": 7,
   "metadata": {},
   "outputs": [
    {
     "name": "stdout",
     "output_type": "stream",
     "text": [
      "<class 'pandas.core.frame.DataFrame'>\n",
      "RangeIndex: 164 entries, 0 to 163\n",
      "Data columns (total 9 columns):\n",
      " #   Column    Non-Null Count  Dtype  \n",
      "---  ------    --------------  -----  \n",
      " 0   Name      164 non-null    object \n",
      " 1   X         164 non-null    float64\n",
      " 2   Y         164 non-null    float64\n",
      " 3   Layer     164 non-null    float64\n",
      " 4   Observed  164 non-null    float64\n",
      " 5   Computed  164 non-null    float64\n",
      " 6   Weight    164 non-null    float64\n",
      " 7   Group     164 non-null    float64\n",
      " 8   Residual  164 non-null    float64\n",
      "dtypes: float64(8), object(1)\n",
      "memory usage: 11.7+ KB\n"
     ]
    }
   ],
   "source": [
    "# remove all records with null values -> statistics calculated by GV\n",
    "df.dropna(how='any',inplace=True)\n",
    "df.reset_index(inplace=True, drop=True) # reset indexes without keeping the old ones\n",
    "df.info()"
   ]
  },
  {
   "cell_type": "code",
   "execution_count": 8,
   "metadata": {},
   "outputs": [
    {
     "data": {
      "text/plain": [
       "(152, 9)"
      ]
     },
     "execution_count": 8,
     "metadata": {},
     "output_type": "execute_result"
    }
   ],
   "source": [
    "# create nwe DF without zero-weighted targets\n",
    "df2 = df.copy() # must copy, otherwise it is still connected to the original DF\n",
    "df2 = df2[df2.Weight > 0]\n",
    "df2.reset_index(inplace=True, drop=True) # reset indexes without keeping the old ones\n",
    "df2.shape"
   ]
  },
  {
   "cell_type": "code",
   "execution_count": 9,
   "metadata": {},
   "outputs": [
    {
     "data": {
      "text/plain": [
       "0     -0.447924\n",
       "1      0.067505\n",
       "2     -0.060726\n",
       "3     -0.018454\n",
       "4     -0.130985\n",
       "         ...   \n",
       "147   -0.279002\n",
       "148   -0.449812\n",
       "149    0.095045\n",
       "150   -0.389864\n",
       "151   -0.182018\n",
       "Name: W_res, Length: 152, dtype: float64"
      ]
     },
     "execution_count": 9,
     "metadata": {},
     "output_type": "execute_result"
    }
   ],
   "source": [
    "# add column weighted residuals\n",
    "df2['W_res'] = (df2['Observed'] - df2['Computed'])*df2['Weight']\n",
    "df2['W_res']"
   ]
  },
  {
   "cell_type": "code",
   "execution_count": 10,
   "metadata": {},
   "outputs": [
    {
     "name": "stdout",
     "output_type": "stream",
     "text": [
      "Statistics have been saved to {statistics_v12.csv}\n"
     ]
    }
   ],
   "source": [
    "cols_sel = ['Observed','Computed','W_res']\n",
    "#df2.filter(cols_sel).describe()\n",
    "\n",
    "mean = df2['W_res'].mean()\n",
    "abs_mean = df2['W_res'].abs().mean()\n",
    "std_dev = df2['W_res'].std()\n",
    "phi = (df2['W_res']**2).sum()\n",
    "rmse = np.sqrt(((df2['W_res']) ** 2).mean())\n",
    "minobs = df2['Observed'].min()\n",
    "maxobs = df2['Observed'].max()\n",
    "minres = df2['W_res'].min()\n",
    "maxres = df2['W_res'].max()\n",
    "rangeobs = maxobs - minobs\n",
    "numobs  = df2['Observed'].count()\n",
    "scaled_mean = mean / rangeobs\n",
    "scaled_abs_mean = abs_mean / rangeobs\n",
    "scaled_std = std_dev / rangeobs\n",
    "scaled_rmse = rmse / rangeobs\n",
    "\n",
    "# Creare un dizionario per salvare i valori calcolati in CSV\n",
    "stats = {\n",
    "    'Statistica': ['Media (m)', 'Media assoluta (m)', 'Deviazione standard (m)', 'Somma del quadrato degli scarti (m$^2$)',\n",
    "                 'RMS Error (m)', 'Residuo Min (m)', 'Residuo Max (m)', 'Range osservazioni (m)',\n",
    "                 '# osservazioni', 'Media scalata (m)', 'Media assoluta scalata (m)',\n",
    "                 'Dev. standard scalata (m)', 'RMSE scalato'],\n",
    "    'Valore': [mean, abs_mean, std_dev, phi, rmse, minres, maxres,\n",
    "            rangeobs, numobs, scaled_mean, scaled_abs_mean,\n",
    "            scaled_std, scaled_rmse]\n",
    "}\n",
    "\n",
    "# Creare un DataFrame dai dati statistici\n",
    "df_stats = pd.DataFrame(stats)\n",
    "\n",
    "df_stats = df_stats.round(2) #arrotonda il DF con due cifre\n",
    "\n",
    "# Salvare il DataFrame in un file Excel\n",
    "df_stats.to_csv(outp_file, index=False)\n",
    "\n",
    "print(\"Statistics have been saved to {statistics_v12.csv}\")\n"
   ]
  },
  {
   "cell_type": "markdown",
   "metadata": {},
   "source": [
    "Plot"
   ]
  },
  {
   "cell_type": "code",
   "execution_count": 11,
   "metadata": {},
   "outputs": [
    {
     "data": {
      "image/png": "[encoded data removed]",
      "text/plain": [
       "<Figure size 1200x600 with 2 Axes>"
      ]
     },
     "metadata": {},
     "output_type": "display_data"
    }
   ],
   "source": [
    "# Crea il grafico a dispersione\n",
    "fig, (ax1, ax2) = plt.subplots(1, 2, figsize=(12, 6))\n",
    "\n",
    "# Primo grafico: Osservati vs Simulati\n",
    "ax1.scatter(df2['Observed'], df2['Computed'], c='black', s=3)\n",
    "ax1.set_title('Osservati vs Simulati', fontweight='bold')\n",
    "ax1.set_xlabel('Observed (m s.l.m.)')\n",
    "ax1.set_ylabel('Computed (m s.l.m.)')\n",
    "\n",
    "# Aggiungi la bisettrice\n",
    "max_val = max(df2['Observed'].max(), df2['Computed'].max())\n",
    "min_val = min(df2['Observed'].min(), df2['Computed'].min())\n",
    "ax1.plot([min_val, max_val], [min_val, max_val], color='black', linestyle='--', label='Riferimento')\n",
    "\n",
    "# Aggiungi la legenda\n",
    "ax1.legend()\n",
    "\n",
    "# Secondo grafico: Osservati vs Residui\n",
    "ax2.scatter(df2['Observed'], df2['W_res'], c='black', s=3)\n",
    "ax2.set_title('Osservati vs Residui (pesati)', fontweight='bold')\n",
    "ax2.set_xlabel('Observed (m s.l.m.)')\n",
    "ax2.set_ylabel('Residuals (m)')\n",
    "max_res = max(df2['W_res'].max(),abs(df2['W_res'].min()))\n",
    "tol = 0.1 #aggiungo tolleranda al valore impostato per l'asse\n",
    "ax2.set_ylim(-max_res-tol,max_res+tol)\n",
    "\n",
    "# Aggiungi linea sull'asse x\n",
    "ax2.plot([min_val-0.5, max_val+0.5], [0, 0], color='black', linestyle='--', label='Riferimento')\n",
    "\n",
    "# Aggiungi la legenda\n",
    "ax2.legend()\n",
    "\n",
    "# Mostra il grafico\n",
    "plt.grid()\n",
    "plt.tight_layout()  # Per migliorare il layout\n",
    "plt.show()\n"
   ]
  }
 ],
 "metadata": {
  "kernelspec": {
   "display_name": "base",
   "language": "python",
   "name": "python3"
  },
  "language_info": {
   "codemirror_mode": {
    "name": "ipython",
    "version": 3
   },
   "file_extension": ".py",
   "mimetype": "text/x-python",
   "name": "python",
   "nbconvert_exporter": "python",
   "pygments_lexer": "ipython3",
   "version": "3.10.9"
  }
 },
 "nbformat": 4,
 "nbformat_minor": 2
}
