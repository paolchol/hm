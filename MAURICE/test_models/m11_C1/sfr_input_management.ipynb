{
 "cells": [
  {
   "cell_type": "markdown",
   "metadata": {},
   "source": [
    "## Setup"
   ]
  },
  {
   "cell_type": "code",
   "execution_count": 1,
   "metadata": {},
   "outputs": [],
   "source": [
    "# Setup\n",
    "import geopandas as gpd\n",
    "import flopy\n",
    "import numpy as np\n",
    "import os\n",
    "import pandas as pd"
   ]
  },
  {
   "cell_type": "code",
   "execution_count": 2,
   "metadata": {},
   "outputs": [
    {
     "data": {
      "text/plain": [
       "'c:\\\\repos\\\\hm\\\\MAURICE'"
      ]
     },
     "execution_count": 2,
     "metadata": {},
     "output_type": "execute_result"
    }
   ],
   "source": [
    "cwd = '\\\\'.join(os.getcwd().split('\\\\')[:-2])\n",
    "cwd"
   ]
  },
  {
   "cell_type": "markdown",
   "metadata": {},
   "source": [
    "## Tests"
   ]
  },
  {
   "cell_type": "markdown",
   "metadata": {},
   "source": [
    "### Test: Load the model"
   ]
  },
  {
   "cell_type": "code",
   "execution_count": null,
   "metadata": {},
   "outputs": [
    {
     "ename": "OSError",
     "evalue": "cannot find name file: c:\\repos\\hm\\MAURICE\\test_models\\m11_C1\\tool_m11_c1\\t_m11_C1.nam",
     "output_type": "error",
     "traceback": [
      "\u001b[1;31m---------------------------------------------------------------------------\u001b[0m",
      "\u001b[1;31mOSError\u001b[0m                                   Traceback (most recent call last)",
      "Cell \u001b[1;32mIn[17], line 7\u001b[0m\n\u001b[0;32m      1\u001b[0m \u001b[38;5;66;03m# bug detected:\u001b[39;00m\n\u001b[0;32m      2\u001b[0m \u001b[38;5;66;03m# 1. if the script is not in the same folder as the .nam file,\u001b[39;00m\n\u001b[0;32m      3\u001b[0m \u001b[38;5;66;03m#    an error arises saying that the ._kx file is not found\u001b[39;00m\n\u001b[0;32m      4\u001b[0m \u001b[38;5;66;03m# 2. if the .sfr file is in a SFR2 format (e.g. NSRTM = 2),\u001b[39;00m\n\u001b[0;32m      5\u001b[0m \u001b[38;5;66;03m#    the file doesn't get read\u001b[39;00m\n\u001b[1;32m----> 7\u001b[0m m \u001b[38;5;241m=\u001b[39m \u001b[43mflopy\u001b[49m\u001b[38;5;241;43m.\u001b[39;49m\u001b[43mmfusg\u001b[49m\u001b[38;5;241;43m.\u001b[39;49m\u001b[43mMfUsg\u001b[49m\u001b[38;5;241;43m.\u001b[39;49m\u001b[43mload\u001b[49m\u001b[43m(\u001b[49m\u001b[43mos\u001b[49m\u001b[38;5;241;43m.\u001b[39;49m\u001b[43mpath\u001b[49m\u001b[38;5;241;43m.\u001b[39;49m\u001b[43mjoin\u001b[49m\u001b[43m(\u001b[49m\u001b[43mos\u001b[49m\u001b[38;5;241;43m.\u001b[39;49m\u001b[43mgetcwd\u001b[49m\u001b[43m(\u001b[49m\u001b[43m)\u001b[49m\u001b[43m,\u001b[49m\u001b[43m \u001b[49m\u001b[38;5;124;43m'\u001b[39;49m\u001b[38;5;124;43mtool_m11_c1\u001b[39;49m\u001b[38;5;124;43m'\u001b[39;49m\u001b[43m,\u001b[49m\u001b[43m \u001b[49m\u001b[38;5;124;43m'\u001b[39;49m\u001b[38;5;124;43mt_m11_C1.nam\u001b[39;49m\u001b[38;5;124;43m'\u001b[39;49m\u001b[43m)\u001b[49m\u001b[43m)\u001b[49m\n",
      "File \u001b[1;32mc:\\Users\\user\\anaconda3\\envs\\maurice\\Lib\\site-packages\\flopy\\mfusg\\mfusg.py:204\u001b[0m, in \u001b[0;36mMfUsg.load\u001b[1;34m(cls, f, version, exe_name, verbose, model_ws, load_only, forgive, check)\u001b[0m\n\u001b[0;32m    202\u001b[0m     namefile_path \u001b[38;5;241m+\u001b[39m\u001b[38;5;241m=\u001b[39m \u001b[38;5;124m\"\u001b[39m\u001b[38;5;124m.nam\u001b[39m\u001b[38;5;124m\"\u001b[39m\n\u001b[0;32m    203\u001b[0m \u001b[38;5;28;01mif\u001b[39;00m \u001b[38;5;129;01mnot\u001b[39;00m os\u001b[38;5;241m.\u001b[39mpath\u001b[38;5;241m.\u001b[39misfile(namefile_path):\n\u001b[1;32m--> 204\u001b[0m     \u001b[38;5;28;01mraise\u001b[39;00m \u001b[38;5;167;01mOSError\u001b[39;00m(\u001b[38;5;124mf\u001b[39m\u001b[38;5;124m\"\u001b[39m\u001b[38;5;124mcannot find name file: \u001b[39m\u001b[38;5;132;01m{\u001b[39;00mnamefile_path\u001b[38;5;132;01m}\u001b[39;00m\u001b[38;5;124m\"\u001b[39m)\n\u001b[0;32m    206\u001b[0m \u001b[38;5;66;03m# Determine model name from 'f', without any extension or path\u001b[39;00m\n\u001b[0;32m    207\u001b[0m modelname \u001b[38;5;241m=\u001b[39m os\u001b[38;5;241m.\u001b[39mpath\u001b[38;5;241m.\u001b[39msplitext(os\u001b[38;5;241m.\u001b[39mpath\u001b[38;5;241m.\u001b[39mbasename(f))[\u001b[38;5;241m0\u001b[39m]\n",
      "\u001b[1;31mOSError\u001b[0m: cannot find name file: c:\\repos\\hm\\MAURICE\\test_models\\m11_C1\\tool_m11_c1\\t_m11_C1.nam"
     ]
    }
   ],
   "source": [
    "# bug detected:\n",
    "# 1. if the script is not in the same folder as the .nam file,\n",
    "#    an error arises saying that the ._kx file is not found\n",
    "# 2. if the .sfr file is in a SFR2 format (e.g. NSRTM = 2),\n",
    "#    the file doesn't get read\n",
    "\n",
    "m = flopy.mfusg.MfUsg.load(os.path.join(os.getcwd(), 't_m11_C1.nam'))"
   ]
  },
  {
   "cell_type": "code",
   "execution_count": 18,
   "metadata": {},
   "outputs": [],
   "source": [
    "# m.sfr.reach_data"
   ]
  },
  {
   "cell_type": "code",
   "execution_count": 33,
   "metadata": {},
   "outputs": [],
   "source": [
    "# m.sfr.segment_data"
   ]
  },
  {
   "cell_type": "code",
   "execution_count": null,
   "metadata": {},
   "outputs": [],
   "source": [
    "sp = 1 #stress period number\n",
    "m.sfr.segment_data[sp-1]"
   ]
  },
  {
   "cell_type": "code",
   "execution_count": 12,
   "metadata": {},
   "outputs": [
    {
     "data": {
      "text/plain": [
       "np.int64(174)"
      ]
     },
     "execution_count": 12,
     "metadata": {},
     "output_type": "execute_result"
    }
   ],
   "source": [
    "m.sfr.nstrm"
   ]
  },
  {
   "cell_type": "code",
   "execution_count": 14,
   "metadata": {},
   "outputs": [
    {
     "data": {
      "text/plain": [
       "0"
      ]
     },
     "execution_count": 14,
     "metadata": {},
     "output_type": "execute_result"
    }
   ],
   "source": [
    "m.sfr.isfropt"
   ]
  },
  {
   "cell_type": "code",
   "execution_count": null,
   "metadata": {},
   "outputs": [],
   "source": [
    "m.sfr.isfropt = 2\n",
    "#setting it from here doesn't change the output format"
   ]
  },
  {
   "cell_type": "markdown",
   "metadata": {},
   "source": [
    "#### Test: load sfr condition from shapefile"
   ]
  },
  {
   "cell_type": "code",
   "execution_count": 4,
   "metadata": {},
   "outputs": [],
   "source": [
    "sfr_shp = gpd.read_file(os.path.join(cwd, 'test_models', 'SFR_ICALC2.shp'))"
   ]
  },
  {
   "cell_type": "code",
   "execution_count": 6,
   "metadata": {},
   "outputs": [
    {
     "data": {
      "text/plain": [
       "(174, 254)"
      ]
     },
     "execution_count": 6,
     "metadata": {},
     "output_type": "execute_result"
    }
   ],
   "source": [
    "sfr_shp.shape"
   ]
  },
  {
   "cell_type": "code",
   "execution_count": 8,
   "metadata": {},
   "outputs": [
    {
     "data": {
      "text/plain": [
       "0      0.000019\n",
       "1      0.000019\n",
       "2      0.000019\n",
       "3      0.000019\n",
       "4      0.000019\n",
       "         ...   \n",
       "169    0.000019\n",
       "170    0.000019\n",
       "171    0.000019\n",
       "172    0.000019\n",
       "173    0.000019\n",
       "Name: Slope, Length: 174, dtype: float64"
      ]
     },
     "execution_count": 8,
     "metadata": {},
     "output_type": "execute_result"
    }
   ],
   "source": [
    "sfr_shp.Slope"
   ]
  },
  {
   "cell_type": "markdown",
   "metadata": {},
   "source": [
    "### Test: Modify the segment data parameters"
   ]
  },
  {
   "cell_type": "code",
   "execution_count": 3,
   "metadata": {},
   "outputs": [],
   "source": [
    "# Load the data to be set up into the different stress periods\n",
    "q = pd.read_csv(os.path.join(cwd, 'test_models', 'portate_segmenti.csv'))\n",
    "q[q.isna()] = 0"
   ]
  },
  {
   "cell_type": "code",
   "execution_count": null,
   "metadata": {},
   "outputs": [],
   "source": [
    "for sp in range(1, 91+1):\n",
    "    tool = q.loc[q.SP == sp, ['Qin', 'Sg_2', 'Sg_3', 'Sg_4', 'Sg_5', 'Sg_6', 'Sg_7']].values[0]\n",
    "    tool = np.around(tool, 5)\n",
    "    tool = [tool[0]] + [-x if x != 0 else 0 for x in tool[1:]]\n",
    "    m.sfr.segment_data[sp-1].flow = tool"
   ]
  },
  {
   "cell_type": "markdown",
   "metadata": {},
   "source": [
    "### Test: write the new .sfr file"
   ]
  },
  {
   "cell_type": "code",
   "execution_count": 16,
   "metadata": {},
   "outputs": [],
   "source": [
    "m.model_ws = os.path.join(cwd, 'test_models', 'tool_m11_c1', 'test_datasets_m11_c1')"
   ]
  },
  {
   "cell_type": "code",
   "execution_count": 19,
   "metadata": {},
   "outputs": [],
   "source": [
    "m.write_input()"
   ]
  },
  {
   "cell_type": "markdown",
   "metadata": {},
   "source": [
    "## Test: load reach and segment data from Excel file"
   ]
  },
  {
   "cell_type": "code",
   "execution_count": 13,
   "metadata": {},
   "outputs": [],
   "source": [
    "sfr_data = os.path.join(cwd, 'test_models', 'm11_C1_sfr_data.xlsx')\n",
    "\n",
    "# Load general parameters (item 1)\n",
    "it1 = pd.read_excel(sfr_data, sheet_name = 'ITEM1')\n",
    "\n",
    "# Load reach data (item 2)\n",
    "reach_data = pd.read_excel(sfr_data, sheet_name = 'ITEM2b')\n",
    "reach_data = reach_data.apply(pd.to_numeric)\n",
    "reach_data.columns = ['nreach', 'iseg', 'ireach', 'rchlen', 'strtop', 'slope',  'strthick',  'strhc1']\n",
    "reach_data = reach_data.loc[:,:].to_records(index = False)\n",
    "# flopy adds 1 to node???\n",
    "# reach_data.node = reach_data.node - 1\n",
    "\n",
    "# Load item 5\n",
    "it5 = pd.read_excel(sfr_data, sheet_name = 'ITEM5')\n",
    "\n",
    "# Load segment data (item 6a)\n",
    "segment_data = pd.read_excel(sfr_data, sheet_name = 'ITEM6abc')\n",
    "segment_data.columns = [x.lower() for x in segment_data.columns]\n",
    "segment_data = segment_data.loc[:,:].to_records(index = False)\n",
    "segment_data = {0: segment_data}"
   ]
  },
  {
   "cell_type": "code",
   "execution_count": 14,
   "metadata": {},
   "outputs": [
    {
     "data": {
      "text/plain": [
       "rec.array([(4553, 1,  1, 106, 178.594126, 0.00063, 0.5, 1.e-06),\n",
       "           (4554, 1,  2,   8, 178.592659, 0.00063, 0.5, 1.e-06),\n",
       "           (4677, 1,  3,  99, 178.582724, 0.00063, 0.5, 1.e-06),\n",
       "           (4678, 1,  4,  63, 178.568748, 0.00063, 0.5, 1.e-06),\n",
       "           (4679, 2,  1,  99, 178.553359, 0.00063, 0.5, 1.e-06),\n",
       "           (4680, 2,  2,  97, 178.548897, 0.00063, 0.5, 1.e-06),\n",
       "           (4803, 2,  3,   4, 178.543434, 0.00063, 0.5, 1.e-06),\n",
       "           (4804, 2,  4, 100, 178.537512, 0.00063, 0.5, 1.e-06),\n",
       "           (4805, 2,  5, 106, 178.527313, 0.00063, 0.5, 1.e-06),\n",
       "           (4806, 2,  6,  88, 178.518107, 0.00063, 0.5, 1.e-06),\n",
       "           (4929, 2,  7,  32, 178.512193, 0.00063, 0.5, 1.e-06),\n",
       "           (4930, 2,  8, 122, 178.504409, 0.00063, 0.5, 1.e-06),\n",
       "           (5053, 2,  9,   9, 178.498191, 0.00063, 0.5, 1.e-06),\n",
       "           (5054, 2, 10, 106, 178.493187, 0.00063, 0.5, 1.e-06),\n",
       "           (5055, 3,  1,  21, 178.472727, 0.00063, 0.5, 1.e-06),\n",
       "           (5178, 3,  2, 104, 178.429178, 0.00063, 0.5, 1.e-06),\n",
       "           (5179, 3,  3,  63, 178.375314, 0.00063, 0.5, 1.e-06),\n",
       "           (5302, 3,  4,  56, 178.3345  , 0.00063, 0.5, 1.e-06),\n",
       "           (5303, 3,  5, 117, 178.270181, 0.00063, 0.5, 1.e-06),\n",
       "           (5304, 3,  6,  13, 178.236248, 0.00063, 0.5, 1.e-06),\n",
       "           (5427, 3,  7,  45, 178.216712, 0.00063, 0.5, 1.e-06),\n",
       "           (5428, 4,  1,  88, 178.141725, 0.00063, 0.5, 1.e-06),\n",
       "           (5551, 4,  2,  23, 178.134276, 0.00063, 0.5, 1.e-06),\n",
       "           (5552, 4,  3, 103, 178.101984, 0.00063, 0.5, 1.e-06),\n",
       "           (5553, 4,  4,  99, 178.03369 , 0.00063, 0.5, 1.e-06),\n",
       "           (5554, 4,  5, 100, 177.963829, 0.00063, 0.5, 1.e-06),\n",
       "           (5555, 4,  6,  99, 177.876568, 0.00063, 0.5, 1.e-06),\n",
       "           (5556, 4,  7, 100, 177.820389, 0.00063, 0.5, 1.e-06),\n",
       "           (5557, 4,  8,  99, 177.750267, 0.00063, 0.5, 1.e-06),\n",
       "           (5558, 4,  9, 100, 177.680477, 0.00063, 0.5, 1.e-06),\n",
       "           (5559, 4, 10, 102, 177.616143, 0.00063, 0.5, 1.e-06),\n",
       "           (5682, 4, 11,  10, 177.579542, 0.00063, 0.5, 1.e-06),\n",
       "           (5683, 4, 12, 130, 177.53118 , 0.00063, 0.5, 1.e-06),\n",
       "           (5684, 4, 13,   8, 177.485335, 0.00063, 0.5, 1.e-06),\n",
       "           (5807, 5,  1, 112, 177.413844, 0.00063, 0.5, 1.e-06),\n",
       "           (5808, 5,  2,  43, 177.397013, 0.00063, 0.5, 1.e-06),\n",
       "           (5931, 5,  3,  76, 177.35789 , 0.00063, 0.5, 1.e-06),\n",
       "           (5932, 5,  4, 110, 177.295842, 0.00063, 0.5, 1.e-06),\n",
       "           (5933, 5,  5,  32, 177.254352, 0.00063, 0.5, 1.e-06),\n",
       "           (6056, 5,  6,  76, 177.214123, 0.00063, 0.5, 1.e-06),\n",
       "           (6057, 5,  7, 107, 177.155407, 0.00063, 0.5, 1.e-06),\n",
       "           (6058, 5,  8,  77, 177.098556, 0.00063, 0.5, 1.e-06),\n",
       "           (6181, 5,  9,  31, 177.068366, 0.00063, 0.5, 1.e-06),\n",
       "           (6182, 5, 10, 108, 177.020303, 0.00063, 0.5, 1.e-06),\n",
       "           (6183, 5, 11, 108, 176.948718, 0.00063, 0.5, 1.e-06),\n",
       "           (6184, 5, 12,  15, 176.91669 , 0.00063, 0.5, 1.e-06),\n",
       "           (6307, 5, 13,  94, 176.875369, 0.00063, 0.5, 1.e-06),\n",
       "           (6308, 5, 14, 109, 176.817391, 0.00063, 0.5, 1.e-06),\n",
       "           (6309, 5, 15,  44, 176.768488, 0.00063, 0.5, 1.e-06),\n",
       "           (6432, 5, 16,  67, 176.727905, 0.00063, 0.5, 1.e-06),\n",
       "           (6433, 5, 17, 112, 176.674797, 0.00063, 0.5, 1.e-06),\n",
       "           (6434, 5, 18,  50, 176.625002, 0.00063, 0.5, 1.e-06),\n",
       "           (6557, 5, 19,  57, 176.58907 , 0.00063, 0.5, 1.e-06),\n",
       "           (6558, 5, 20, 102, 176.540469, 0.00063, 0.5, 1.e-06),\n",
       "           (6559, 5, 21, 103, 176.475407, 0.00063, 0.5, 1.e-06),\n",
       "           (6560, 5, 22, 102, 176.410344, 0.00063, 0.5, 1.e-06),\n",
       "           (6561, 5, 23,  59, 176.358592, 0.00063, 0.5, 1.e-06),\n",
       "           (6684, 5, 24,  43, 176.326571, 0.00063, 0.5, 1.e-06),\n",
       "           (6685, 5, 25, 103, 176.280258, 0.00063, 0.5, 1.e-06),\n",
       "           (6686, 5, 26, 102, 176.215229, 0.00063, 0.5, 1.e-06),\n",
       "           (6687, 5, 27, 103, 176.150199, 0.00063, 0.5, 1.e-06),\n",
       "           (6688, 5, 28,  98, 176.085469, 0.00063, 0.5, 1.e-06),\n",
       "           (6811, 5, 29,   4, 176.05389 , 0.00063, 0.5, 1.e-06),\n",
       "           (6812, 5, 30, 103, 176.01975 , 0.00063, 0.5, 1.e-06),\n",
       "           (6813, 5, 31, 103, 175.946407, 0.00063, 0.5, 1.e-06),\n",
       "           (6814, 5, 32, 100, 175.890083, 0.00063, 0.5, 1.e-06),\n",
       "           (6815, 5, 33,  93, 175.834746, 0.00063, 0.5, 1.e-06),\n",
       "           (6692, 5, 34,  22, 175.791087, 0.00063, 0.5, 1.e-06),\n",
       "           (6693, 5, 35, 123, 175.747342, 0.00063, 0.5, 1.e-06),\n",
       "           (6570, 5, 36,  33, 175.698678, 0.00063, 0.5, 1.e-06),\n",
       "           (6571, 5, 37,  30, 175.675706, 0.00063, 0.5, 1.e-06),\n",
       "           (6448, 6,  1,  99, 175.602149, 0.00063, 0.5, 1.e-06),\n",
       "           (6325, 6,  2,  92, 175.566801, 0.00063, 0.5, 1.e-06),\n",
       "           (6326, 6,  3,  16, 175.538111, 0.00063, 0.5, 1.e-06),\n",
       "           (6203, 6,  4, 109, 175.492908, 0.00063, 0.5, 1.e-06),\n",
       "           (6080, 6,  5,  80, 175.432908, 0.00063, 0.5, 1.e-06),\n",
       "           (6081, 6,  6,  96, 175.37465 , 0.00063, 0.5, 1.e-06),\n",
       "           (5958, 6,  7,  14, 175.345862, 0.00063, 0.5, 1.e-06),\n",
       "           (5959, 6,  8, 115, 175.299218, 0.00063, 0.5, 1.e-06),\n",
       "           (5960, 6,  9,  78, 175.242783, 0.00063, 0.5, 1.e-06),\n",
       "           (5837, 6, 10,  35, 175.206939, 0.00063, 0.5, 1.e-06),\n",
       "           (5838, 6, 11, 111, 175.153396, 0.00063, 0.5, 1.e-06),\n",
       "           (5839, 6, 12,  72, 175.10137 , 0.00063, 0.5, 1.e-06),\n",
       "           (5716, 6, 13,  41, 175.065315, 0.00063, 0.5, 1.e-06),\n",
       "           (5717, 6, 14, 113, 175.017723, 0.00063, 0.5, 1.e-06),\n",
       "           (5718, 6, 15,  56, 174.961625, 0.00063, 0.5, 1.e-06),\n",
       "           (5595, 6, 16,  57, 174.928093, 0.00063, 0.5, 1.e-06),\n",
       "           (5596, 6, 17, 110, 174.863786, 0.00063, 0.5, 1.e-06),\n",
       "           (5597, 6, 18,  79, 174.811393, 0.00063, 0.5, 1.e-06),\n",
       "           (5474, 6, 19,  27, 174.777315, 0.00063, 0.5, 1.e-06),\n",
       "           (5475, 6, 20, 104, 174.734353, 0.00063, 0.5, 1.e-06),\n",
       "           (5476, 6, 21, 103, 174.669256, 0.00063, 0.5, 1.e-06),\n",
       "           (5477, 6, 22, 100, 174.610471, 0.00063, 0.5, 1.e-06),\n",
       "           (5478, 6, 23, 100, 174.533126, 0.00063, 0.5, 1.e-06),\n",
       "           (5479, 6, 24, 100, 174.472036, 0.00063, 0.5, 1.e-06),\n",
       "           (5480, 6, 25, 100, 174.401846, 0.00063, 0.5, 1.e-06),\n",
       "           (5481, 6, 26,  58, 174.361067, 0.00063, 0.5, 1.e-06),\n",
       "           (5359, 6, 27,  99, 174.280593, 0.00063, 0.5, 1.e-06),\n",
       "           (5360, 6, 28, 100, 174.21988 , 0.00063, 0.5, 1.e-06),\n",
       "           (5361, 6, 29, 101, 174.156549, 0.00063, 0.5, 1.e-06),\n",
       "           (5362, 6, 30,  47, 174.104136, 0.00063, 0.5, 1.e-06),\n",
       "           (5485, 6, 31, 106, 174.053575, 0.00063, 0.5, 1.e-06),\n",
       "           (5608, 6, 32,  64, 174.00365 , 0.00063, 0.5, 1.e-06),\n",
       "           (5609, 6, 33,  42, 173.965995, 0.00063, 0.5, 1.e-06),\n",
       "           (5732, 6, 34, 104, 173.92296 , 0.00063, 0.5, 1.e-06),\n",
       "           (5855, 6, 35, 114, 173.851868, 0.00063, 0.5, 1.e-06),\n",
       "           (5978, 6, 36,   8, 173.813488, 0.00063, 0.5, 1.e-06),\n",
       "           (5979, 6, 37, 129, 173.772018, 0.00063, 0.5, 1.e-06),\n",
       "           (6102, 6, 38,  15, 173.723287, 0.00063, 0.5, 1.e-06),\n",
       "           (6103, 6, 39, 127, 173.677765, 0.00063, 0.5, 1.e-06),\n",
       "           (6226, 6, 40,  14, 173.632943, 0.00063, 0.5, 1.e-06),\n",
       "           (6227, 6, 41, 135, 173.573206, 0.00063, 0.5, 1.e-06),\n",
       "           (6228, 6, 42,   5, 173.540285, 0.00063, 0.5, 1.e-06),\n",
       "           (6351, 6, 43,  97, 173.507675, 0.00063, 0.5, 1.e-06),\n",
       "           (6352, 6, 44, 102, 173.443974, 0.00063, 0.5, 1.e-06),\n",
       "           (6353, 6, 45, 102, 173.378754, 0.00063, 0.5, 1.e-06),\n",
       "           (6354, 6, 46, 102, 173.313534, 0.00063, 0.5, 1.e-06),\n",
       "           (6355, 6, 47,  92, 173.251627, 0.00063, 0.5, 1.e-06),\n",
       "           (6478, 6, 48,  10, 173.219017, 0.00063, 0.5, 1.e-06),\n",
       "           (6479, 6, 49, 102, 173.193774, 0.00063, 0.5, 1.e-06),\n",
       "           (6480, 6, 50, 102, 173.118288, 0.00063, 0.5, 1.e-06),\n",
       "           (6481, 6, 51, 101, 173.053346, 0.00063, 0.5, 1.e-06),\n",
       "           (6482, 6, 52, 102, 172.988404, 0.00063, 0.5, 1.e-06),\n",
       "           (6483, 6, 53, 102, 172.923462, 0.00063, 0.5, 1.e-06),\n",
       "           (6484, 6, 54,  34, 172.879992, 0.00063, 0.5, 1.e-06),\n",
       "           (6607, 6, 55,  67, 172.847521, 0.00063, 0.5, 1.e-06),\n",
       "           (6608, 6, 56, 102, 172.793578, 0.00063, 0.5, 1.e-06),\n",
       "           (6609, 6, 57, 101, 172.738251, 0.00063, 0.5, 1.e-06),\n",
       "           (6610, 6, 58, 102, 172.663568, 0.00063, 0.5, 1.e-06),\n",
       "           (6611, 6, 59, 101, 172.598538, 0.00063, 0.5, 1.e-06),\n",
       "           (6612, 6, 60,  66, 172.54498 , 0.00063, 0.5, 1.e-06),\n",
       "           (6735, 6, 61,  36, 172.512466, 0.00063, 0.5, 1.e-06),\n",
       "           (6736, 6, 62, 102, 172.468479, 0.00063, 0.5, 1.e-06),\n",
       "           (6737, 6, 63, 102, 172.40345 , 0.00063, 0.5, 1.e-06),\n",
       "           (6738, 6, 64, 101, 172.349236, 0.00063, 0.5, 1.e-06),\n",
       "           (6739, 6, 65, 102, 172.273369, 0.00063, 0.5, 1.e-06),\n",
       "           (6740, 6, 66,  89, 172.212541, 0.00063, 0.5, 1.e-06),\n",
       "           (6863, 6, 67,  13, 172.180019, 0.00063, 0.5, 1.e-06),\n",
       "           (6864, 6, 68, 102, 172.143281, 0.00063, 0.5, 1.e-06),\n",
       "           (6865, 6, 69, 101, 172.069785, 0.00063, 0.5, 1.e-06),\n",
       "           (6866, 6, 70,  48, 172.03039 , 0.00063, 0.5, 1.e-06),\n",
       "           (6867, 7,  1,  92, 171.951551, 0.00063, 0.5, 1.e-06),\n",
       "           (6868, 7,  2, 102, 171.916491, 0.00063, 0.5, 1.e-06),\n",
       "           (6869, 7,  3,  28, 171.869931, 0.00063, 0.5, 1.e-06),\n",
       "           (6992, 7,  4,  72, 171.836705, 0.00063, 0.5, 1.e-06),\n",
       "           (6993, 7,  5, 102, 171.77689 , 0.00063, 0.5, 1.e-06),\n",
       "           (6994, 7,  6, 100, 171.707274, 0.00063, 0.5, 1.e-06),\n",
       "           (6995, 7,  7, 100, 171.638131, 0.00063, 0.5, 1.e-06),\n",
       "           (6996, 7,  8, 101, 171.558609, 0.00063, 0.5, 1.e-06),\n",
       "           (6997, 7,  9,  28, 171.524444, 0.00063, 0.5, 1.e-06),\n",
       "           (6874, 7, 10,  76, 171.48712 , 0.00063, 0.5, 1.e-06),\n",
       "           (6875, 7, 11, 109, 171.424538, 0.00063, 0.5, 1.e-06),\n",
       "           (6876, 7, 12,  79, 171.354427, 0.00063, 0.5, 1.e-06),\n",
       "           (6753, 7, 13,  33, 171.321133, 0.00063, 0.5, 1.e-06),\n",
       "           (6754, 7, 14, 123, 171.269395, 0.00063, 0.5, 1.e-06),\n",
       "           (6755, 7, 15,  19, 171.218396, 0.00063, 0.5, 1.e-06),\n",
       "           (6632, 7, 16, 114, 171.165569, 0.00063, 0.5, 1.e-06),\n",
       "           (6633, 7, 17,  30, 171.122478, 0.00063, 0.5, 1.e-06),\n",
       "           (6510, 7, 18, 125, 171.061608, 0.00063, 0.5, 1.e-06),\n",
       "           (6387, 7, 19,   9, 171.022471, 0.00063, 0.5, 1.e-06),\n",
       "           (6388, 7, 20, 113, 170.975865, 0.00063, 0.5, 1.e-06),\n",
       "           (6265, 7, 21,  60, 170.920159, 0.00063, 0.5, 1.e-06),\n",
       "           (6266, 7, 22,  69, 170.875796, 0.00063, 0.5, 1.e-06),\n",
       "           (6143, 7, 23,  61, 170.829651, 0.00063, 0.5, 1.e-06),\n",
       "           (6144, 7, 24, 102, 170.777424, 0.00063, 0.5, 1.e-06),\n",
       "           (6145, 7, 25,  54, 170.725405, 0.00063, 0.5, 1.e-06),\n",
       "           (6268, 7, 26,  52, 170.686492, 0.00063, 0.5, 1.e-06),\n",
       "           (6269, 7, 27, 106, 170.634903, 0.00063, 0.5, 1.e-06),\n",
       "           (6270, 7, 28, 109, 170.558313, 0.00063, 0.5, 1.e-06),\n",
       "           (6271, 7, 29,   9, 170.514405, 0.00063, 0.5, 1.e-06),\n",
       "           (6394, 7, 30, 122, 170.469917, 0.00063, 0.5, 1.e-06),\n",
       "           (6395, 7, 31,  28, 170.416686, 0.00063, 0.5, 1.e-06),\n",
       "           (6518, 7, 32, 119, 170.364423, 0.00063, 0.5, 1.e-06),\n",
       "           (6641, 7, 33,  19, 170.317596, 0.00063, 0.5, 1.e-06)],\n",
       "          dtype=[('nreach', '<i8'), ('iseg', '<i8'), ('ireach', '<i8'), ('rchlen', '<i8'), ('strtop', '<f8'), ('slope', '<f8'), ('strthick', '<f8'), ('strhc1', '<f8')])"
      ]
     },
     "execution_count": 14,
     "metadata": {},
     "output_type": "execute_result"
    }
   ],
   "source": [
    "reach_data"
   ]
  },
  {
   "cell_type": "code",
   "execution_count": 15,
   "metadata": {},
   "outputs": [
    {
     "ename": "NameError",
     "evalue": "name 'unit_number' is not defined",
     "output_type": "error",
     "traceback": [
      "\u001b[1;31m---------------------------------------------------------------------------\u001b[0m",
      "\u001b[1;31mNameError\u001b[0m                                 Traceback (most recent call last)",
      "Cell \u001b[1;32mIn[15], line 11\u001b[0m\n\u001b[0;32m      1\u001b[0m m \u001b[38;5;241m=\u001b[39m flopy\u001b[38;5;241m.\u001b[39mmodflow\u001b[38;5;241m.\u001b[39mModflow()\n\u001b[0;32m      2\u001b[0m sfr \u001b[38;5;241m=\u001b[39m flopy\u001b[38;5;241m.\u001b[39mmodflow\u001b[38;5;241m.\u001b[39mModflowSfr2(\n\u001b[0;32m      3\u001b[0m     m,\n\u001b[0;32m      4\u001b[0m     nstrm \u001b[38;5;241m=\u001b[39m it1\u001b[38;5;241m.\u001b[39mNSTRM\u001b[38;5;241m.\u001b[39mvalues[\u001b[38;5;241m0\u001b[39m],              \u001b[38;5;66;03m# number of reaches\u001b[39;00m\n\u001b[0;32m      5\u001b[0m     nss \u001b[38;5;241m=\u001b[39m it1\u001b[38;5;241m.\u001b[39mNSS\u001b[38;5;241m.\u001b[39mvalues[\u001b[38;5;241m0\u001b[39m],                  \u001b[38;5;66;03m# number of segments\u001b[39;00m\n\u001b[0;32m      6\u001b[0m     const \u001b[38;5;241m=\u001b[39m it1\u001b[38;5;241m.\u001b[39mCONST\u001b[38;5;241m.\u001b[39mvalues[\u001b[38;5;241m0\u001b[39m],              \u001b[38;5;66;03m# constant for manning's equation: 1 for m/s\u001b[39;00m\n\u001b[0;32m      7\u001b[0m     dleak \u001b[38;5;241m=\u001b[39m it1\u001b[38;5;241m.\u001b[39mDLEAK\u001b[38;5;241m.\u001b[39mvalues[\u001b[38;5;241m0\u001b[39m],              \u001b[38;5;66;03m# closure tolerance for stream stage computation\u001b[39;00m\n\u001b[0;32m      8\u001b[0m     ipakcb \u001b[38;5;241m=\u001b[39m it1\u001b[38;5;241m.\u001b[39mISTCB1\u001b[38;5;241m.\u001b[39mvalues[\u001b[38;5;241m0\u001b[39m],            \u001b[38;5;66;03m# flag for writing SFR output to cell-by-cell budget (on unit 50)\u001b[39;00m\n\u001b[0;32m      9\u001b[0m     istcb2 \u001b[38;5;241m=\u001b[39m it1\u001b[38;5;241m.\u001b[39mISTCB2\u001b[38;5;241m.\u001b[39mvalues[\u001b[38;5;241m0\u001b[39m],            \u001b[38;5;66;03m# flag for writing SFR output to text file\u001b[39;00m\n\u001b[0;32m     10\u001b[0m     dataset_5 \u001b[38;5;241m=\u001b[39m {\u001b[38;5;241m0\u001b[39m: it5\u001b[38;5;241m.\u001b[39mvalues[\u001b[38;5;241m0\u001b[39m]\u001b[38;5;241m.\u001b[39mtolist()},\n\u001b[1;32m---> 11\u001b[0m     unit_number \u001b[38;5;241m=\u001b[39m \u001b[43munit_number\u001b[49m,\n\u001b[0;32m     12\u001b[0m     isfropt \u001b[38;5;241m=\u001b[39m it1\u001b[38;5;241m.\u001b[39mISFROPT\u001b[38;5;241m.\u001b[39mvalues[\u001b[38;5;241m0\u001b[39m],          \u001b[38;5;66;03m# ISFROPT parameter, defines input file format writing\u001b[39;00m\n\u001b[0;32m     13\u001b[0m     reach_data \u001b[38;5;241m=\u001b[39m reach_data,\n\u001b[0;32m     14\u001b[0m     segment_data \u001b[38;5;241m=\u001b[39m segment_data\n\u001b[0;32m     15\u001b[0m )\n",
      "\u001b[1;31mNameError\u001b[0m: name 'unit_number' is not defined"
     ]
    }
   ],
   "source": [
    "m = flopy.modflow.Modflow()\n",
    "sfr = flopy.modflow.ModflowSfr2(\n",
    "    m,\n",
    "    nstrm = it1.NSTRM.values[0],              # number of reaches\n",
    "    nss = it1.NSS.values[0],                  # number of segments\n",
    "    const = it1.CONST.values[0],              # constant for manning's equation: 1 for m/s\n",
    "    dleak = it1.DLEAK.values[0],              # closure tolerance for stream stage computation\n",
    "    ipakcb = it1.ISTCB1.values[0],            # flag for writing SFR output to cell-by-cell budget (on unit 50)\n",
    "    istcb2 = it1.ISTCB2.values[0],            # flag for writing SFR output to text file\n",
    "    dataset_5 = {0: it5.values[0].tolist()},\n",
    "    unit_number = unit_number,\n",
    "    isfropt = it1.ISFROPT.values[0],          # ISFROPT parameter, defines input file format writing\n",
    "    reach_data = reach_data,\n",
    "    segment_data = segment_data\n",
    ")"
   ]
  }
 ],
 "metadata": {
  "kernelspec": {
   "display_name": "maurice",
   "language": "python",
   "name": "python3"
  },
  "language_info": {
   "codemirror_mode": {
    "name": "ipython",
    "version": 3
   },
   "file_extension": ".py",
   "mimetype": "text/x-python",
   "name": "python",
   "nbconvert_exporter": "python",
   "pygments_lexer": "ipython3",
   "version": "3.13.0"
  }
 },
 "nbformat": 4,
 "nbformat_minor": 2
}
